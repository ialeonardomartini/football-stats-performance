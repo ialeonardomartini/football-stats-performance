{
 "cells": [
  {
   "cell_type": "code",
   "execution_count": 1,
   "id": "6d7e3344",
   "metadata": {},
   "outputs": [],
   "source": [
    "import pandas as pd\n",
    "from sqlalchemy import create_engine\n",
    "import os\n",
    "\n",
    "db_path = os.path.abspath(\"../../data/brasileirao.db\")\n",
    "\n",
    "engine = create_engine(f\"sqlite:///{db_path}\")\n",
    "\n",
    "df_historico = pd.read_sql_query(\"SELECT * FROM jogos_historico\", con=engine)\n",
    "df_manual = pd.read_sql_query(\"SELECT * FROM jogos_atual\", con=engine)\n"
   ]
  },
  {
   "cell_type": "code",
   "execution_count": 3,
   "id": "62cbf974",
   "metadata": {},
   "outputs": [
    {
     "name": "stdout",
     "output_type": "stream",
     "text": [
      "<class 'pandas.core.frame.DataFrame'>\n",
      "RangeIndex: 4180 entries, 0 to 4179\n",
      "Data columns (total 11 columns):\n",
      " #   Column      Non-Null Count  Dtype \n",
      "---  ------      --------------  ----- \n",
      " 0   id          4180 non-null   int64 \n",
      " 1   temporada   4180 non-null   int64 \n",
      " 2   rodada      4180 non-null   object\n",
      " 3   dia_semana  4180 non-null   object\n",
      " 4   data        4180 non-null   object\n",
      " 5   hora        4180 non-null   object\n",
      " 6   mandante    4180 non-null   object\n",
      " 7   visitante   4180 non-null   object\n",
      " 8   placar      4180 non-null   object\n",
      " 9   publico     3489 non-null   object\n",
      " 10  estadio     4179 non-null   object\n",
      "dtypes: int64(2), object(9)\n",
      "memory usage: 359.3+ KB\n"
     ]
    }
   ],
   "source": [
    "df_historico.info()"
   ]
  },
  {
   "cell_type": "code",
   "execution_count": null,
   "id": "f1edf8d0",
   "metadata": {},
   "outputs": [],
   "source": []
  }
 ],
 "metadata": {
  "kernelspec": {
   "display_name": "venv",
   "language": "python",
   "name": "python3"
  },
  "language_info": {
   "codemirror_mode": {
    "name": "ipython",
    "version": 3
   },
   "file_extension": ".py",
   "mimetype": "text/x-python",
   "name": "python",
   "nbconvert_exporter": "python",
   "pygments_lexer": "ipython3",
   "version": "3.11.12"
  }
 },
 "nbformat": 4,
 "nbformat_minor": 5
}
