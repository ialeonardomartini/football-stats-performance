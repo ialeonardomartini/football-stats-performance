{
 "cells": [
  {
   "cell_type": "markdown",
   "id": "f05ae7dc",
   "metadata": {},
   "source": [
    "# Tratamento de Dados"
   ]
  },
  {
   "cell_type": "code",
   "execution_count": 1,
   "id": "6d7e3344",
   "metadata": {},
   "outputs": [],
   "source": [
    "import pandas as pd\n",
    "from sqlalchemy import create_engine\n",
    "import os\n",
    "\n",
    "db_path = os.path.abspath(\"../../data/brasileirao.db\")\n",
    "\n",
    "engine = create_engine(f\"sqlite:///{db_path}\")\n",
    "\n",
    "df = pd.read_sql_query(\"SELECT * FROM jogos_historico\", con=engine)\n"
   ]
  },
  {
   "cell_type": "code",
   "execution_count": 2,
   "id": "62cbf974",
   "metadata": {},
   "outputs": [
    {
     "name": "stdout",
     "output_type": "stream",
     "text": [
      "<class 'pandas.core.frame.DataFrame'>\n",
      "RangeIndex: 4180 entries, 0 to 4179\n",
      "Data columns (total 11 columns):\n",
      " #   Column      Non-Null Count  Dtype \n",
      "---  ------      --------------  ----- \n",
      " 0   id          4180 non-null   int64 \n",
      " 1   temporada   4180 non-null   int64 \n",
      " 2   rodada      4180 non-null   object\n",
      " 3   dia_semana  4180 non-null   object\n",
      " 4   data        4180 non-null   object\n",
      " 5   hora        4180 non-null   object\n",
      " 6   mandante    4180 non-null   object\n",
      " 7   visitante   4180 non-null   object\n",
      " 8   placar      4180 non-null   object\n",
      " 9   publico     3489 non-null   object\n",
      " 10  estadio     4179 non-null   object\n",
      "dtypes: int64(2), object(9)\n",
      "memory usage: 359.3+ KB\n"
     ]
    }
   ],
   "source": [
    "df.info()"
   ]
  },
  {
   "cell_type": "code",
   "execution_count": 3,
   "id": "492ca74b",
   "metadata": {},
   "outputs": [
    {
     "data": {
      "text/html": [
       "<div>\n",
       "<style scoped>\n",
       "    .dataframe tbody tr th:only-of-type {\n",
       "        vertical-align: middle;\n",
       "    }\n",
       "\n",
       "    .dataframe tbody tr th {\n",
       "        vertical-align: top;\n",
       "    }\n",
       "\n",
       "    .dataframe thead th {\n",
       "        text-align: right;\n",
       "    }\n",
       "</style>\n",
       "<table border=\"1\" class=\"dataframe\">\n",
       "  <thead>\n",
       "    <tr style=\"text-align: right;\">\n",
       "      <th></th>\n",
       "      <th>id</th>\n",
       "      <th>temporada</th>\n",
       "      <th>rodada</th>\n",
       "      <th>dia_semana</th>\n",
       "      <th>data</th>\n",
       "      <th>hora</th>\n",
       "      <th>mandante</th>\n",
       "      <th>visitante</th>\n",
       "      <th>placar</th>\n",
       "      <th>publico</th>\n",
       "      <th>estadio</th>\n",
       "    </tr>\n",
       "  </thead>\n",
       "  <tbody>\n",
       "    <tr>\n",
       "      <th>0</th>\n",
       "      <td>1</td>\n",
       "      <td>2014</td>\n",
       "      <td>1</td>\n",
       "      <td>sáb</td>\n",
       "      <td>2014-04-19</td>\n",
       "      <td>18:30:00.000000</td>\n",
       "      <td>Fluminense</td>\n",
       "      <td>Figueirense</td>\n",
       "      <td>3–0</td>\n",
       "      <td>35.020</td>\n",
       "      <td>Estadio Jornalista Mário Filho</td>\n",
       "    </tr>\n",
       "    <tr>\n",
       "      <th>1</th>\n",
       "      <td>2</td>\n",
       "      <td>2014</td>\n",
       "      <td>1</td>\n",
       "      <td>sáb</td>\n",
       "      <td>2014-04-19</td>\n",
       "      <td>18:30:00.000000</td>\n",
       "      <td>Internacional</td>\n",
       "      <td>Vitória</td>\n",
       "      <td>1–0</td>\n",
       "      <td>21.983</td>\n",
       "      <td>Estádio José Pinheiro Borba</td>\n",
       "    </tr>\n",
       "    <tr>\n",
       "      <th>2</th>\n",
       "      <td>3</td>\n",
       "      <td>2014</td>\n",
       "      <td>1</td>\n",
       "      <td>dom</td>\n",
       "      <td>2014-04-20</td>\n",
       "      <td>16:00:00.000000</td>\n",
       "      <td>Atlético Mineiro</td>\n",
       "      <td>Corinthians</td>\n",
       "      <td>0–0</td>\n",
       "      <td>8.724</td>\n",
       "      <td>Estádio Municipal João Havelange</td>\n",
       "    </tr>\n",
       "    <tr>\n",
       "      <th>3</th>\n",
       "      <td>4</td>\n",
       "      <td>2014</td>\n",
       "      <td>1</td>\n",
       "      <td>dom</td>\n",
       "      <td>2014-04-20</td>\n",
       "      <td>16:00:00.000000</td>\n",
       "      <td>São Paulo</td>\n",
       "      <td>Botafogo (RJ)</td>\n",
       "      <td>3–0</td>\n",
       "      <td>31.564</td>\n",
       "      <td>Estádio do Morumbi</td>\n",
       "    </tr>\n",
       "    <tr>\n",
       "      <th>4</th>\n",
       "      <td>5</td>\n",
       "      <td>2014</td>\n",
       "      <td>1</td>\n",
       "      <td>dom</td>\n",
       "      <td>2014-04-20</td>\n",
       "      <td>16:00:00.000000</td>\n",
       "      <td>Bahia</td>\n",
       "      <td>Cruzeiro</td>\n",
       "      <td>1–2</td>\n",
       "      <td>9.348</td>\n",
       "      <td>Itaipava Arena Fonte Nova</td>\n",
       "    </tr>\n",
       "  </tbody>\n",
       "</table>\n",
       "</div>"
      ],
      "text/plain": [
       "   id  temporada rodada dia_semana        data             hora  \\\n",
       "0   1       2014      1        sáb  2014-04-19  18:30:00.000000   \n",
       "1   2       2014      1        sáb  2014-04-19  18:30:00.000000   \n",
       "2   3       2014      1        dom  2014-04-20  16:00:00.000000   \n",
       "3   4       2014      1        dom  2014-04-20  16:00:00.000000   \n",
       "4   5       2014      1        dom  2014-04-20  16:00:00.000000   \n",
       "\n",
       "           mandante      visitante placar publico  \\\n",
       "0        Fluminense    Figueirense    3–0  35.020   \n",
       "1     Internacional        Vitória    1–0  21.983   \n",
       "2  Atlético Mineiro    Corinthians    0–0   8.724   \n",
       "3         São Paulo  Botafogo (RJ)    3–0  31.564   \n",
       "4             Bahia       Cruzeiro    1–2   9.348   \n",
       "\n",
       "                            estadio  \n",
       "0    Estadio Jornalista Mário Filho  \n",
       "1       Estádio José Pinheiro Borba  \n",
       "2  Estádio Municipal João Havelange  \n",
       "3                Estádio do Morumbi  \n",
       "4         Itaipava Arena Fonte Nova  "
      ]
     },
     "execution_count": 3,
     "metadata": {},
     "output_type": "execute_result"
    }
   ],
   "source": [
    "df.head()"
   ]
  },
  {
   "cell_type": "code",
   "execution_count": 4,
   "id": "8039635f",
   "metadata": {},
   "outputs": [],
   "source": [
    "df[\"data\"] = pd.to_datetime(df[\"data\"], errors = \"coerce\")\n",
    "df['data_hora'] = pd.to_datetime(df['data'].dt.strftime('%Y-%m-%d') + ' ' + df['hora'].astype(str), errors='coerce')\n"
   ]
  },
  {
   "cell_type": "code",
   "execution_count": 5,
   "id": "cb225783",
   "metadata": {},
   "outputs": [],
   "source": [
    "df['rodada'] = pd.to_numeric(df['rodada'], errors='coerce').astype('Int64')"
   ]
  },
  {
   "cell_type": "code",
   "execution_count": 6,
   "id": "9e0ba762",
   "metadata": {},
   "outputs": [],
   "source": [
    "df[\"publico\"] = (df[\"publico\"].astype(str).str.replace(\",\", \"\").str.replace(\".\", \"\"))\n",
    "df[\"publico\"] = pd.to_numeric(df[\"publico\"], errors = \"coerce\").astype(\"Int64\")"
   ]
  },
  {
   "cell_type": "code",
   "execution_count": 7,
   "id": "f6c65df1",
   "metadata": {},
   "outputs": [],
   "source": [
    "import re\n",
    "\n",
    "# Extrair gols do placar\n",
    "def extrair_gols(placar):\n",
    "    if isinstance(placar, str):\n",
    "        placar = placar.strip()\n",
    "        # Substituir travessão por 'x' ou '-' para padronizar\n",
    "        placar = placar.replace('\\u2013', 'x').replace('–', 'x')  # Adicional para garantir\n",
    "        if re.match(r'^\\d+x\\d+$', placar):\n",
    "            gols = placar.split('x')\n",
    "            return int(gols[0]), int(gols[1])\n",
    "    return None, None\n",
    "\n",
    "df[['gols_mandante', 'gols_visitante']] = df['placar'].apply(\n",
    "    lambda x: pd.Series(extrair_gols(x))\n",
    ")\n",
    "\n",
    "df['gols_mandante'] = df['gols_mandante'].astype('Int64')\n",
    "df['gols_visitante'] = df['gols_visitante'].astype('Int64')\n",
    "\n",
    "df['total_gols'] = (df['gols_mandante'] + df['gols_visitante']).astype('Int64')\n"
   ]
  },
  {
   "cell_type": "code",
   "execution_count": 8,
   "id": "06fa7830",
   "metadata": {},
   "outputs": [],
   "source": [
    "def resultado_partida(row):\n",
    "    if pd.isna(row['gols_mandante']) or pd.isna(row['gols_visitante']):\n",
    "        return None\n",
    "    if row['gols_mandante'] > row['gols_visitante']:\n",
    "        return 'mandante'\n",
    "    elif row['gols_mandante'] < row['gols_visitante']:\n",
    "        return 'visitante'\n",
    "    else:\n",
    "        return 'empate'\n",
    "\n",
    "df['resultado_partida'] = df.apply(resultado_partida, axis=1)"
   ]
  },
  {
   "cell_type": "code",
   "execution_count": 9,
   "id": "10bbd869",
   "metadata": {},
   "outputs": [],
   "source": [
    "colunas_modelo = [\n",
    "    'temporada', 'rodada', 'dia_semana', 'data_hora', 'estadio',\n",
    "    'publico', 'mandante', 'visitante', 'gols_mandante',\n",
    "    'gols_visitante', 'total_gols', 'resultado_partida'\n",
    "]\n",
    "\n",
    "df_modelo = df[colunas_modelo]"
   ]
  },
  {
   "cell_type": "code",
   "execution_count": 10,
   "id": "5cad7bf6",
   "metadata": {},
   "outputs": [
    {
     "data": {
      "text/html": [
       "<div>\n",
       "<style scoped>\n",
       "    .dataframe tbody tr th:only-of-type {\n",
       "        vertical-align: middle;\n",
       "    }\n",
       "\n",
       "    .dataframe tbody tr th {\n",
       "        vertical-align: top;\n",
       "    }\n",
       "\n",
       "    .dataframe thead th {\n",
       "        text-align: right;\n",
       "    }\n",
       "</style>\n",
       "<table border=\"1\" class=\"dataframe\">\n",
       "  <thead>\n",
       "    <tr style=\"text-align: right;\">\n",
       "      <th></th>\n",
       "      <th>temporada</th>\n",
       "      <th>rodada</th>\n",
       "      <th>dia_semana</th>\n",
       "      <th>data_hora</th>\n",
       "      <th>estadio</th>\n",
       "      <th>publico</th>\n",
       "      <th>mandante</th>\n",
       "      <th>visitante</th>\n",
       "      <th>gols_mandante</th>\n",
       "      <th>gols_visitante</th>\n",
       "      <th>total_gols</th>\n",
       "      <th>resultado_partida</th>\n",
       "    </tr>\n",
       "  </thead>\n",
       "  <tbody>\n",
       "    <tr>\n",
       "      <th>0</th>\n",
       "      <td>2014</td>\n",
       "      <td>1</td>\n",
       "      <td>sáb</td>\n",
       "      <td>2014-04-19 18:30:00</td>\n",
       "      <td>Estadio Jornalista Mário Filho</td>\n",
       "      <td>35020</td>\n",
       "      <td>Fluminense</td>\n",
       "      <td>Figueirense</td>\n",
       "      <td>3</td>\n",
       "      <td>0</td>\n",
       "      <td>3</td>\n",
       "      <td>mandante</td>\n",
       "    </tr>\n",
       "    <tr>\n",
       "      <th>1</th>\n",
       "      <td>2014</td>\n",
       "      <td>1</td>\n",
       "      <td>sáb</td>\n",
       "      <td>2014-04-19 18:30:00</td>\n",
       "      <td>Estádio José Pinheiro Borba</td>\n",
       "      <td>21983</td>\n",
       "      <td>Internacional</td>\n",
       "      <td>Vitória</td>\n",
       "      <td>1</td>\n",
       "      <td>0</td>\n",
       "      <td>1</td>\n",
       "      <td>mandante</td>\n",
       "    </tr>\n",
       "    <tr>\n",
       "      <th>2</th>\n",
       "      <td>2014</td>\n",
       "      <td>1</td>\n",
       "      <td>dom</td>\n",
       "      <td>2014-04-20 16:00:00</td>\n",
       "      <td>Estádio Municipal João Havelange</td>\n",
       "      <td>8724</td>\n",
       "      <td>Atlético Mineiro</td>\n",
       "      <td>Corinthians</td>\n",
       "      <td>0</td>\n",
       "      <td>0</td>\n",
       "      <td>0</td>\n",
       "      <td>empate</td>\n",
       "    </tr>\n",
       "    <tr>\n",
       "      <th>3</th>\n",
       "      <td>2014</td>\n",
       "      <td>1</td>\n",
       "      <td>dom</td>\n",
       "      <td>2014-04-20 16:00:00</td>\n",
       "      <td>Estádio do Morumbi</td>\n",
       "      <td>31564</td>\n",
       "      <td>São Paulo</td>\n",
       "      <td>Botafogo (RJ)</td>\n",
       "      <td>3</td>\n",
       "      <td>0</td>\n",
       "      <td>3</td>\n",
       "      <td>mandante</td>\n",
       "    </tr>\n",
       "    <tr>\n",
       "      <th>4</th>\n",
       "      <td>2014</td>\n",
       "      <td>1</td>\n",
       "      <td>dom</td>\n",
       "      <td>2014-04-20 16:00:00</td>\n",
       "      <td>Itaipava Arena Fonte Nova</td>\n",
       "      <td>9348</td>\n",
       "      <td>Bahia</td>\n",
       "      <td>Cruzeiro</td>\n",
       "      <td>1</td>\n",
       "      <td>2</td>\n",
       "      <td>3</td>\n",
       "      <td>visitante</td>\n",
       "    </tr>\n",
       "  </tbody>\n",
       "</table>\n",
       "</div>"
      ],
      "text/plain": [
       "   temporada  rodada dia_semana           data_hora  \\\n",
       "0       2014       1        sáb 2014-04-19 18:30:00   \n",
       "1       2014       1        sáb 2014-04-19 18:30:00   \n",
       "2       2014       1        dom 2014-04-20 16:00:00   \n",
       "3       2014       1        dom 2014-04-20 16:00:00   \n",
       "4       2014       1        dom 2014-04-20 16:00:00   \n",
       "\n",
       "                            estadio  publico          mandante      visitante  \\\n",
       "0    Estadio Jornalista Mário Filho    35020        Fluminense    Figueirense   \n",
       "1       Estádio José Pinheiro Borba    21983     Internacional        Vitória   \n",
       "2  Estádio Municipal João Havelange     8724  Atlético Mineiro    Corinthians   \n",
       "3                Estádio do Morumbi    31564         São Paulo  Botafogo (RJ)   \n",
       "4         Itaipava Arena Fonte Nova     9348             Bahia       Cruzeiro   \n",
       "\n",
       "   gols_mandante  gols_visitante  total_gols resultado_partida  \n",
       "0              3               0           3          mandante  \n",
       "1              1               0           1          mandante  \n",
       "2              0               0           0            empate  \n",
       "3              3               0           3          mandante  \n",
       "4              1               2           3         visitante  "
      ]
     },
     "execution_count": 10,
     "metadata": {},
     "output_type": "execute_result"
    }
   ],
   "source": [
    "df_modelo.head()"
   ]
  },
  {
   "cell_type": "code",
   "execution_count": 11,
   "id": "c79ce792",
   "metadata": {},
   "outputs": [
    {
     "name": "stdout",
     "output_type": "stream",
     "text": [
      "Total de partidas após remoção de estádio nulo: 4179\n"
     ]
    }
   ],
   "source": [
    "# Remover linhas com estádio nulo\n",
    "df_modelo = df_modelo.dropna(subset=['estadio']).reset_index(drop=True)\n",
    "\n",
    "print(f\"Total de partidas após remoção de estádio nulo: {df_modelo.shape[0]}\")"
   ]
  },
  {
   "cell_type": "code",
   "execution_count": 12,
   "id": "197ec39c",
   "metadata": {},
   "outputs": [
    {
     "name": "stdout",
     "output_type": "stream",
     "text": [
      "Total de jogos com público nulo: 691\n"
     ]
    },
    {
     "data": {
      "text/html": [
       "<div>\n",
       "<style scoped>\n",
       "    .dataframe tbody tr th:only-of-type {\n",
       "        vertical-align: middle;\n",
       "    }\n",
       "\n",
       "    .dataframe tbody tr th {\n",
       "        vertical-align: top;\n",
       "    }\n",
       "\n",
       "    .dataframe thead th {\n",
       "        text-align: right;\n",
       "    }\n",
       "</style>\n",
       "<table border=\"1\" class=\"dataframe\">\n",
       "  <thead>\n",
       "    <tr style=\"text-align: right;\">\n",
       "      <th></th>\n",
       "      <th>temporada</th>\n",
       "      <th>rodada</th>\n",
       "      <th>data_hora</th>\n",
       "      <th>mandante</th>\n",
       "      <th>visitante</th>\n",
       "      <th>estadio</th>\n",
       "      <th>publico</th>\n",
       "    </tr>\n",
       "  </thead>\n",
       "  <tbody>\n",
       "    <tr>\n",
       "      <th>107</th>\n",
       "      <td>2014</td>\n",
       "      <td>11</td>\n",
       "      <td>2014-07-20 18:30:00</td>\n",
       "      <td>Ath Paranaense</td>\n",
       "      <td>Criciúma</td>\n",
       "      <td>Estádio Joaquim Américo Guimarães</td>\n",
       "      <td>&lt;NA&gt;</td>\n",
       "    </tr>\n",
       "    <tr>\n",
       "      <th>115</th>\n",
       "      <td>2014</td>\n",
       "      <td>12</td>\n",
       "      <td>2014-07-27 16:00:00</td>\n",
       "      <td>Ath Paranaense</td>\n",
       "      <td>Fluminense</td>\n",
       "      <td>Estádio Joaquim Américo Guimarães</td>\n",
       "      <td>&lt;NA&gt;</td>\n",
       "    </tr>\n",
       "    <tr>\n",
       "      <th>132</th>\n",
       "      <td>2014</td>\n",
       "      <td>14</td>\n",
       "      <td>2014-08-10 16:00:00</td>\n",
       "      <td>Ath Paranaense</td>\n",
       "      <td>Botafogo (RJ)</td>\n",
       "      <td>Estádio Joaquim Américo Guimarães</td>\n",
       "      <td>&lt;NA&gt;</td>\n",
       "    </tr>\n",
       "    <tr>\n",
       "      <th>168</th>\n",
       "      <td>2014</td>\n",
       "      <td>17</td>\n",
       "      <td>2014-08-24 18:30:00</td>\n",
       "      <td>Ath Paranaense</td>\n",
       "      <td>Bahia</td>\n",
       "      <td>Estádio Joaquim Américo Guimarães</td>\n",
       "      <td>&lt;NA&gt;</td>\n",
       "    </tr>\n",
       "    <tr>\n",
       "      <th>186</th>\n",
       "      <td>2014</td>\n",
       "      <td>19</td>\n",
       "      <td>2014-09-07 18:30:00</td>\n",
       "      <td>Bahia</td>\n",
       "      <td>Coritiba</td>\n",
       "      <td>Itaipava Arena Fonte Nova</td>\n",
       "      <td>&lt;NA&gt;</td>\n",
       "    </tr>\n",
       "    <tr>\n",
       "      <th>...</th>\n",
       "      <td>...</td>\n",
       "      <td>...</td>\n",
       "      <td>...</td>\n",
       "      <td>...</td>\n",
       "      <td>...</td>\n",
       "      <td>...</td>\n",
       "      <td>...</td>\n",
       "    </tr>\n",
       "    <tr>\n",
       "      <th>3792</th>\n",
       "      <td>2023</td>\n",
       "      <td>38</td>\n",
       "      <td>2023-12-06 21:30:00</td>\n",
       "      <td>Coritiba</td>\n",
       "      <td>Corinthians</td>\n",
       "      <td>Estádio Major Antônio Couto Pereira</td>\n",
       "      <td>&lt;NA&gt;</td>\n",
       "    </tr>\n",
       "    <tr>\n",
       "      <th>4137</th>\n",
       "      <td>2024</td>\n",
       "      <td>34</td>\n",
       "      <td>2024-11-20 21:30:00</td>\n",
       "      <td>Atlético Mineiro</td>\n",
       "      <td>Botafogo (RJ)</td>\n",
       "      <td>Estádio Raimundo Sampaio</td>\n",
       "      <td>&lt;NA&gt;</td>\n",
       "    </tr>\n",
       "    <tr>\n",
       "      <th>4149</th>\n",
       "      <td>2024</td>\n",
       "      <td>36</td>\n",
       "      <td>2024-11-26 21:30:00</td>\n",
       "      <td>Atlético Mineiro</td>\n",
       "      <td>Juventude</td>\n",
       "      <td>Estádio Raimundo Sampaio</td>\n",
       "      <td>&lt;NA&gt;</td>\n",
       "    </tr>\n",
       "    <tr>\n",
       "      <th>4168</th>\n",
       "      <td>2024</td>\n",
       "      <td>37</td>\n",
       "      <td>2024-12-04 21:30:00</td>\n",
       "      <td>Cruzeiro</td>\n",
       "      <td>Palmeiras</td>\n",
       "      <td>Estádio Governador Magalhães Pinto</td>\n",
       "      <td>&lt;NA&gt;</td>\n",
       "    </tr>\n",
       "    <tr>\n",
       "      <th>4174</th>\n",
       "      <td>2024</td>\n",
       "      <td>38</td>\n",
       "      <td>2024-12-08 16:00:00</td>\n",
       "      <td>Atlético Mineiro</td>\n",
       "      <td>Ath Paranaense</td>\n",
       "      <td>Arena MRV</td>\n",
       "      <td>&lt;NA&gt;</td>\n",
       "    </tr>\n",
       "  </tbody>\n",
       "</table>\n",
       "<p>691 rows × 7 columns</p>\n",
       "</div>"
      ],
      "text/plain": [
       "      temporada  rodada           data_hora          mandante       visitante  \\\n",
       "107        2014      11 2014-07-20 18:30:00    Ath Paranaense        Criciúma   \n",
       "115        2014      12 2014-07-27 16:00:00    Ath Paranaense      Fluminense   \n",
       "132        2014      14 2014-08-10 16:00:00    Ath Paranaense   Botafogo (RJ)   \n",
       "168        2014      17 2014-08-24 18:30:00    Ath Paranaense           Bahia   \n",
       "186        2014      19 2014-09-07 18:30:00             Bahia        Coritiba   \n",
       "...         ...     ...                 ...               ...             ...   \n",
       "3792       2023      38 2023-12-06 21:30:00          Coritiba     Corinthians   \n",
       "4137       2024      34 2024-11-20 21:30:00  Atlético Mineiro   Botafogo (RJ)   \n",
       "4149       2024      36 2024-11-26 21:30:00  Atlético Mineiro       Juventude   \n",
       "4168       2024      37 2024-12-04 21:30:00          Cruzeiro       Palmeiras   \n",
       "4174       2024      38 2024-12-08 16:00:00  Atlético Mineiro  Ath Paranaense   \n",
       "\n",
       "                                  estadio  publico  \n",
       "107     Estádio Joaquim Américo Guimarães     <NA>  \n",
       "115     Estádio Joaquim Américo Guimarães     <NA>  \n",
       "132     Estádio Joaquim Américo Guimarães     <NA>  \n",
       "168     Estádio Joaquim Américo Guimarães     <NA>  \n",
       "186             Itaipava Arena Fonte Nova     <NA>  \n",
       "...                                   ...      ...  \n",
       "3792  Estádio Major Antônio Couto Pereira     <NA>  \n",
       "4137             Estádio Raimundo Sampaio     <NA>  \n",
       "4149             Estádio Raimundo Sampaio     <NA>  \n",
       "4168   Estádio Governador Magalhães Pinto     <NA>  \n",
       "4174                            Arena MRV     <NA>  \n",
       "\n",
       "[691 rows x 7 columns]"
      ]
     },
     "metadata": {},
     "output_type": "display_data"
    }
   ],
   "source": [
    "# Mostrar apenas jogos onde o público é nulo\n",
    "df_publico_nulo = df_modelo[df_modelo['publico'].isna()]\n",
    "\n",
    "print(f\"Total de jogos com público nulo: {df_publico_nulo.shape[0]}\")\n",
    "display(df_publico_nulo[['temporada', 'rodada', 'data_hora', 'mandante', 'visitante', 'estadio', 'publico']])"
   ]
  },
  {
   "cell_type": "code",
   "execution_count": 13,
   "id": "0a12275f",
   "metadata": {},
   "outputs": [],
   "source": [
    "df_modelo['publico'] = df_modelo['publico'].fillna(0).astype('Int64')"
   ]
  },
  {
   "cell_type": "markdown",
   "id": "09254a17",
   "metadata": {},
   "source": [
    "# Análise Exploratória"
   ]
  },
  {
   "cell_type": "code",
   "execution_count": 14,
   "id": "c9c0777c",
   "metadata": {},
   "outputs": [
    {
     "name": "stdout",
     "output_type": "stream",
     "text": [
      "Total de partidas: 4179\n",
      "\n",
      "\n",
      "<class 'pandas.core.frame.DataFrame'>\n",
      "RangeIndex: 4179 entries, 0 to 4178\n",
      "Data columns (total 12 columns):\n",
      " #   Column             Non-Null Count  Dtype         \n",
      "---  ------             --------------  -----         \n",
      " 0   temporada          4179 non-null   int64         \n",
      " 1   rodada             4179 non-null   Int64         \n",
      " 2   dia_semana         4179 non-null   object        \n",
      " 3   data_hora          4179 non-null   datetime64[ns]\n",
      " 4   estadio            4179 non-null   object        \n",
      " 5   publico            4179 non-null   Int64         \n",
      " 6   mandante           4179 non-null   object        \n",
      " 7   visitante          4179 non-null   object        \n",
      " 8   gols_mandante      4179 non-null   Int64         \n",
      " 9   gols_visitante     4179 non-null   Int64         \n",
      " 10  total_gols         4179 non-null   Int64         \n",
      " 11  resultado_partida  4179 non-null   object        \n",
      "dtypes: Int64(5), datetime64[ns](1), int64(1), object(5)\n",
      "memory usage: 412.3+ KB\n",
      "None\n",
      "\n",
      "\n",
      "temporada            0\n",
      "rodada               0\n",
      "dia_semana           0\n",
      "data_hora            0\n",
      "estadio              0\n",
      "publico              0\n",
      "mandante             0\n",
      "visitante            0\n",
      "gols_mandante        0\n",
      "gols_visitante       0\n",
      "total_gols           0\n",
      "resultado_partida    0\n",
      "dtype: int64\n"
     ]
    }
   ],
   "source": [
    "import plotly.express as px\n",
    "\n",
    "print(f\"Total de partidas: {df_modelo.shape[0]}\")\n",
    "print(\"\\n\")\n",
    "print(df_modelo.info())\n",
    "print(\"\\n\")\n",
    "print(df_modelo.isna().sum())"
   ]
  },
  {
   "cell_type": "code",
   "execution_count": 15,
   "id": "2409e11b",
   "metadata": {},
   "outputs": [
    {
     "data": {
      "application/vnd.plotly.v1+json": {
       "config": {
        "plotlyServerURL": "https://plot.ly"
       },
       "data": [
        {
         "bingroup": "x",
         "hovertemplate": "resultado_partida=%{x}<br>count=%{y}<extra></extra>",
         "legendgroup": "mandante",
         "marker": {
          "color": "blue",
          "pattern": {
           "shape": ""
          }
         },
         "name": "mandante",
         "orientation": "v",
         "showlegend": true,
         "texttemplate": "%{value}",
         "type": "histogram",
         "x": [
          "mandante",
          "mandante",
          "mandante",
          "mandante",
          "mandante",
          "mandante",
          "mandante",
          "mandante",
          "mandante",
          "mandante",
          "mandante",
          "mandante",
          "mandante",
          "mandante",
          "mandante",
          "mandante",
          "mandante",
          "mandante",
          "mandante",
          "mandante",
          "mandante",
          "mandante",
          "mandante",
          "mandante",
          "mandante",
          "mandante",
          "mandante",
          "mandante",
          "mandante",
          "mandante",
          "mandante",
          "mandante",
          "mandante",
          "mandante",
          "mandante",
          "mandante",
          "mandante",
          "mandante",
          "mandante",
          "mandante",
          "mandante",
          "mandante",
          "mandante",
          "mandante",
          "mandante",
          "mandante",
          "mandante",
          "mandante",
          "mandante",
          "mandante",
          "mandante",
          "mandante",
          "mandante",
          "mandante",
          "mandante",
          "mandante",
          "mandante",
          "mandante",
          "mandante",
          "mandante",
          "mandante",
          "mandante",
          "mandante",
          "mandante",
          "mandante",
          "mandante",
          "mandante",
          "mandante",
          "mandante",
          "mandante",
          "mandante",
          "mandante",
          "mandante",
          "mandante",
          "mandante",
          "mandante",
          "mandante",
          "mandante",
          "mandante",
          "mandante",
          "mandante",
          "mandante",
          "mandante",
          "mandante",
          "mandante",
          "mandante",
          "mandante",
          "mandante",
          "mandante",
          "mandante",
          "mandante",
          "mandante",
          "mandante",
          "mandante",
          "mandante",
          "mandante",
          "mandante",
          "mandante",
          "mandante",
          "mandante",
          "mandante",
          "mandante",
          "mandante",
          "mandante",
          "mandante",
          "mandante",
          "mandante",
          "mandante",
          "mandante",
          "mandante",
          "mandante",
          "mandante",
          "mandante",
          "mandante",
          "mandante",
          "mandante",
          "mandante",
          "mandante",
          "mandante",
          "mandante",
          "mandante",
          "mandante",
          "mandante",
          "mandante",
          "mandante",
          "mandante",
          "mandante",
          "mandante",
          "mandante",
          "mandante",
          "mandante",
          "mandante",
          "mandante",
          "mandante",
          "mandante",
          "mandante",
          "mandante",
          "mandante",
          "mandante",
          "mandante",
          "mandante",
          "mandante",
          "mandante",
          "mandante",
          "mandante",
          "mandante",
          "mandante",
          "mandante",
          "mandante",
          "mandante",
          "mandante",
          "mandante",
          "mandante",
          "mandante",
          "mandante",
          "mandante",
          "mandante",
          "mandante",
          "mandante",
          "mandante",
          "mandante",
          "mandante",
          "mandante",
          "mandante",
          "mandante",
          "mandante",
          "mandante",
          "mandante",
          "mandante",
          "mandante",
          "mandante",
          "mandante",
          "mandante",
          "mandante",
          "mandante",
          "mandante",
          "mandante",
          "mandante",
          "mandante",
          "mandante",
          "mandante",
          "mandante",
          "mandante",
          "mandante",
          "mandante",
          "mandante",
          "mandante",
          "mandante",
          "mandante",
          "mandante",
          "mandante",
          "mandante",
          "mandante",
          "mandante",
          "mandante",
          "mandante",
          "mandante",
          "mandante",
          "mandante",
          "mandante",
          "mandante",
          "mandante",
          "mandante",
          "mandante",
          "mandante",
          "mandante",
          "mandante",
          "mandante",
          "mandante",
          "mandante",
          "mandante",
          "mandante",
          "mandante",
          "mandante",
          "mandante",
          "mandante",
          "mandante",
          "mandante",
          "mandante",
          "mandante",
          "mandante",
          "mandante",
          "mandante",
          "mandante",
          "mandante",
          "mandante",
          "mandante",
          "mandante",
          "mandante",
          "mandante",
          "mandante",
          "mandante",
          "mandante",
          "mandante",
          "mandante",
          "mandante",
          "mandante",
          "mandante",
          "mandante",
          "mandante",
          "mandante",
          "mandante",
          "mandante",
          "mandante",
          "mandante",
          "mandante",
          "mandante",
          "mandante",
          "mandante",
          "mandante",
          "mandante",
          "mandante",
          "mandante",
          "mandante",
          "mandante",
          "mandante",
          "mandante",
          "mandante",
          "mandante",
          "mandante",
          "mandante",
          "mandante",
          "mandante",
          "mandante",
          "mandante",
          "mandante",
          "mandante",
          "mandante",
          "mandante",
          "mandante",
          "mandante",
          "mandante",
          "mandante",
          "mandante",
          "mandante",
          "mandante",
          "mandante",
          "mandante",
          "mandante",
          "mandante",
          "mandante",
          "mandante",
          "mandante",
          "mandante",
          "mandante",
          "mandante",
          "mandante",
          "mandante",
          "mandante",
          "mandante",
          "mandante",
          "mandante",
          "mandante",
          "mandante",
          "mandante",
          "mandante",
          "mandante",
          "mandante",
          "mandante",
          "mandante",
          "mandante",
          "mandante",
          "mandante",
          "mandante",
          "mandante",
          "mandante",
          "mandante",
          "mandante",
          "mandante",
          "mandante",
          "mandante",
          "mandante",
          "mandante",
          "mandante",
          "mandante",
          "mandante",
          "mandante",
          "mandante",
          "mandante",
          "mandante",
          "mandante",
          "mandante",
          "mandante",
          "mandante",
          "mandante",
          "mandante",
          "mandante",
          "mandante",
          "mandante",
          "mandante",
          "mandante",
          "mandante",
          "mandante",
          "mandante",
          "mandante",
          "mandante",
          "mandante",
          "mandante",
          "mandante",
          "mandante",
          "mandante",
          "mandante",
          "mandante",
          "mandante",
          "mandante",
          "mandante",
          "mandante",
          "mandante",
          "mandante",
          "mandante",
          "mandante",
          "mandante",
          "mandante",
          "mandante",
          "mandante",
          "mandante",
          "mandante",
          "mandante",
          "mandante",
          "mandante",
          "mandante",
          "mandante",
          "mandante",
          "mandante",
          "mandante",
          "mandante",
          "mandante",
          "mandante",
          "mandante",
          "mandante",
          "mandante",
          "mandante",
          "mandante",
          "mandante",
          "mandante",
          "mandante",
          "mandante",
          "mandante",
          "mandante",
          "mandante",
          "mandante",
          "mandante",
          "mandante",
          "mandante",
          "mandante",
          "mandante",
          "mandante",
          "mandante",
          "mandante",
          "mandante",
          "mandante",
          "mandante",
          "mandante",
          "mandante",
          "mandante",
          "mandante",
          "mandante",
          "mandante",
          "mandante",
          "mandante",
          "mandante",
          "mandante",
          "mandante",
          "mandante",
          "mandante",
          "mandante",
          "mandante",
          "mandante",
          "mandante",
          "mandante",
          "mandante",
          "mandante",
          "mandante",
          "mandante",
          "mandante",
          "mandante",
          "mandante",
          "mandante",
          "mandante",
          "mandante",
          "mandante",
          "mandante",
          "mandante",
          "mandante",
          "mandante",
          "mandante",
          "mandante",
          "mandante",
          "mandante",
          "mandante",
          "mandante",
          "mandante",
          "mandante",
          "mandante",
          "mandante",
          "mandante",
          "mandante",
          "mandante",
          "mandante",
          "mandante",
          "mandante",
          "mandante",
          "mandante",
          "mandante",
          "mandante",
          "mandante",
          "mandante",
          "mandante",
          "mandante",
          "mandante",
          "mandante",
          "mandante",
          "mandante",
          "mandante",
          "mandante",
          "mandante",
          "mandante",
          "mandante",
          "mandante",
          "mandante",
          "mandante",
          "mandante",
          "mandante",
          "mandante",
          "mandante",
          "mandante",
          "mandante",
          "mandante",
          "mandante",
          "mandante",
          "mandante",
          "mandante",
          "mandante",
          "mandante",
          "mandante",
          "mandante",
          "mandante",
          "mandante",
          "mandante",
          "mandante",
          "mandante",
          "mandante",
          "mandante",
          "mandante",
          "mandante",
          "mandante",
          "mandante",
          "mandante",
          "mandante",
          "mandante",
          "mandante",
          "mandante",
          "mandante",
          "mandante",
          "mandante",
          "mandante",
          "mandante",
          "mandante",
          "mandante",
          "mandante",
          "mandante",
          "mandante",
          "mandante",
          "mandante",
          "mandante",
          "mandante",
          "mandante",
          "mandante",
          "mandante",
          "mandante",
          "mandante",
          "mandante",
          "mandante",
          "mandante",
          "mandante",
          "mandante",
          "mandante",
          "mandante",
          "mandante",
          "mandante",
          "mandante",
          "mandante",
          "mandante",
          "mandante",
          "mandante",
          "mandante",
          "mandante",
          "mandante",
          "mandante",
          "mandante",
          "mandante",
          "mandante",
          "mandante",
          "mandante",
          "mandante",
          "mandante",
          "mandante",
          "mandante",
          "mandante",
          "mandante",
          "mandante",
          "mandante",
          "mandante",
          "mandante",
          "mandante",
          "mandante",
          "mandante",
          "mandante",
          "mandante",
          "mandante",
          "mandante",
          "mandante",
          "mandante",
          "mandante",
          "mandante",
          "mandante",
          "mandante",
          "mandante",
          "mandante",
          "mandante",
          "mandante",
          "mandante",
          "mandante",
          "mandante",
          "mandante",
          "mandante",
          "mandante",
          "mandante",
          "mandante",
          "mandante",
          "mandante",
          "mandante",
          "mandante",
          "mandante",
          "mandante",
          "mandante",
          "mandante",
          "mandante",
          "mandante",
          "mandante",
          "mandante",
          "mandante",
          "mandante",
          "mandante",
          "mandante",
          "mandante",
          "mandante",
          "mandante",
          "mandante",
          "mandante",
          "mandante",
          "mandante",
          "mandante",
          "mandante",
          "mandante",
          "mandante",
          "mandante",
          "mandante",
          "mandante",
          "mandante",
          "mandante",
          "mandante",
          "mandante",
          "mandante",
          "mandante",
          "mandante",
          "mandante",
          "mandante",
          "mandante",
          "mandante",
          "mandante",
          "mandante",
          "mandante",
          "mandante",
          "mandante",
          "mandante",
          "mandante",
          "mandante",
          "mandante",
          "mandante",
          "mandante",
          "mandante",
          "mandante",
          "mandante",
          "mandante",
          "mandante",
          "mandante",
          "mandante",
          "mandante",
          "mandante",
          "mandante",
          "mandante",
          "mandante",
          "mandante",
          "mandante",
          "mandante",
          "mandante",
          "mandante",
          "mandante",
          "mandante",
          "mandante",
          "mandante",
          "mandante",
          "mandante",
          "mandante",
          "mandante",
          "mandante",
          "mandante",
          "mandante",
          "mandante",
          "mandante",
          "mandante",
          "mandante",
          "mandante",
          "mandante",
          "mandante",
          "mandante",
          "mandante",
          "mandante",
          "mandante",
          "mandante",
          "mandante",
          "mandante",
          "mandante",
          "mandante",
          "mandante",
          "mandante",
          "mandante",
          "mandante",
          "mandante",
          "mandante",
          "mandante",
          "mandante",
          "mandante",
          "mandante",
          "mandante",
          "mandante",
          "mandante",
          "mandante",
          "mandante",
          "mandante",
          "mandante",
          "mandante",
          "mandante",
          "mandante",
          "mandante",
          "mandante",
          "mandante",
          "mandante",
          "mandante",
          "mandante",
          "mandante",
          "mandante",
          "mandante",
          "mandante",
          "mandante",
          "mandante",
          "mandante",
          "mandante",
          "mandante",
          "mandante",
          "mandante",
          "mandante",
          "mandante",
          "mandante",
          "mandante",
          "mandante",
          "mandante",
          "mandante",
          "mandante",
          "mandante",
          "mandante",
          "mandante",
          "mandante",
          "mandante",
          "mandante",
          "mandante",
          "mandante",
          "mandante",
          "mandante",
          "mandante",
          "mandante",
          "mandante",
          "mandante",
          "mandante",
          "mandante",
          "mandante",
          "mandante",
          "mandante",
          "mandante",
          "mandante",
          "mandante",
          "mandante",
          "mandante",
          "mandante",
          "mandante",
          "mandante",
          "mandante",
          "mandante",
          "mandante",
          "mandante",
          "mandante",
          "mandante",
          "mandante",
          "mandante",
          "mandante",
          "mandante",
          "mandante",
          "mandante",
          "mandante",
          "mandante",
          "mandante",
          "mandante",
          "mandante",
          "mandante",
          "mandante",
          "mandante",
          "mandante",
          "mandante",
          "mandante",
          "mandante",
          "mandante",
          "mandante",
          "mandante",
          "mandante",
          "mandante",
          "mandante",
          "mandante",
          "mandante",
          "mandante",
          "mandante",
          "mandante",
          "mandante",
          "mandante",
          "mandante",
          "mandante",
          "mandante",
          "mandante",
          "mandante",
          "mandante",
          "mandante",
          "mandante",
          "mandante",
          "mandante",
          "mandante",
          "mandante",
          "mandante",
          "mandante",
          "mandante",
          "mandante",
          "mandante",
          "mandante",
          "mandante",
          "mandante",
          "mandante",
          "mandante",
          "mandante",
          "mandante",
          "mandante",
          "mandante",
          "mandante",
          "mandante",
          "mandante",
          "mandante",
          "mandante",
          "mandante",
          "mandante",
          "mandante",
          "mandante",
          "mandante",
          "mandante",
          "mandante",
          "mandante",
          "mandante",
          "mandante",
          "mandante",
          "mandante",
          "mandante",
          "mandante",
          "mandante",
          "mandante",
          "mandante",
          "mandante",
          "mandante",
          "mandante",
          "mandante",
          "mandante",
          "mandante",
          "mandante",
          "mandante",
          "mandante",
          "mandante",
          "mandante",
          "mandante",
          "mandante",
          "mandante",
          "mandante",
          "mandante",
          "mandante",
          "mandante",
          "mandante",
          "mandante",
          "mandante",
          "mandante",
          "mandante",
          "mandante",
          "mandante",
          "mandante",
          "mandante",
          "mandante",
          "mandante",
          "mandante",
          "mandante",
          "mandante",
          "mandante",
          "mandante",
          "mandante",
          "mandante",
          "mandante",
          "mandante",
          "mandante",
          "mandante",
          "mandante",
          "mandante",
          "mandante",
          "mandante",
          "mandante",
          "mandante",
          "mandante",
          "mandante",
          "mandante",
          "mandante",
          "mandante",
          "mandante",
          "mandante",
          "mandante",
          "mandante",
          "mandante",
          "mandante",
          "mandante",
          "mandante",
          "mandante",
          "mandante",
          "mandante",
          "mandante",
          "mandante",
          "mandante",
          "mandante",
          "mandante",
          "mandante",
          "mandante",
          "mandante",
          "mandante",
          "mandante",
          "mandante",
          "mandante",
          "mandante",
          "mandante",
          "mandante",
          "mandante",
          "mandante",
          "mandante",
          "mandante",
          "mandante",
          "mandante",
          "mandante",
          "mandante",
          "mandante",
          "mandante",
          "mandante",
          "mandante",
          "mandante",
          "mandante",
          "mandante",
          "mandante",
          "mandante",
          "mandante",
          "mandante",
          "mandante",
          "mandante",
          "mandante",
          "mandante",
          "mandante",
          "mandante",
          "mandante",
          "mandante",
          "mandante",
          "mandante",
          "mandante",
          "mandante",
          "mandante",
          "mandante",
          "mandante",
          "mandante",
          "mandante",
          "mandante",
          "mandante",
          "mandante",
          "mandante",
          "mandante",
          "mandante",
          "mandante",
          "mandante",
          "mandante",
          "mandante",
          "mandante",
          "mandante",
          "mandante",
          "mandante",
          "mandante",
          "mandante",
          "mandante",
          "mandante",
          "mandante",
          "mandante",
          "mandante",
          "mandante",
          "mandante",
          "mandante",
          "mandante",
          "mandante",
          "mandante",
          "mandante",
          "mandante",
          "mandante",
          "mandante",
          "mandante",
          "mandante",
          "mandante",
          "mandante",
          "mandante",
          "mandante",
          "mandante",
          "mandante",
          "mandante",
          "mandante",
          "mandante",
          "mandante",
          "mandante",
          "mandante",
          "mandante",
          "mandante",
          "mandante",
          "mandante",
          "mandante",
          "mandante",
          "mandante",
          "mandante",
          "mandante",
          "mandante",
          "mandante",
          "mandante",
          "mandante",
          "mandante",
          "mandante",
          "mandante",
          "mandante",
          "mandante",
          "mandante",
          "mandante",
          "mandante",
          "mandante",
          "mandante",
          "mandante",
          "mandante",
          "mandante",
          "mandante",
          "mandante",
          "mandante",
          "mandante",
          "mandante",
          "mandante",
          "mandante",
          "mandante",
          "mandante",
          "mandante",
          "mandante",
          "mandante",
          "mandante",
          "mandante",
          "mandante",
          "mandante",
          "mandante",
          "mandante",
          "mandante",
          "mandante",
          "mandante",
          "mandante",
          "mandante",
          "mandante",
          "mandante",
          "mandante",
          "mandante",
          "mandante",
          "mandante",
          "mandante",
          "mandante",
          "mandante",
          "mandante",
          "mandante",
          "mandante",
          "mandante",
          "mandante",
          "mandante",
          "mandante",
          "mandante",
          "mandante",
          "mandante",
          "mandante",
          "mandante",
          "mandante",
          "mandante",
          "mandante",
          "mandante",
          "mandante",
          "mandante",
          "mandante",
          "mandante",
          "mandante",
          "mandante",
          "mandante",
          "mandante",
          "mandante",
          "mandante",
          "mandante",
          "mandante",
          "mandante",
          "mandante",
          "mandante",
          "mandante",
          "mandante",
          "mandante",
          "mandante",
          "mandante",
          "mandante",
          "mandante",
          "mandante",
          "mandante",
          "mandante",
          "mandante",
          "mandante",
          "mandante",
          "mandante",
          "mandante",
          "mandante",
          "mandante",
          "mandante",
          "mandante",
          "mandante",
          "mandante",
          "mandante",
          "mandante",
          "mandante",
          "mandante",
          "mandante",
          "mandante",
          "mandante",
          "mandante",
          "mandante",
          "mandante",
          "mandante",
          "mandante",
          "mandante",
          "mandante",
          "mandante",
          "mandante",
          "mandante",
          "mandante",
          "mandante",
          "mandante",
          "mandante",
          "mandante",
          "mandante",
          "mandante",
          "mandante",
          "mandante",
          "mandante",
          "mandante",
          "mandante",
          "mandante",
          "mandante",
          "mandante",
          "mandante",
          "mandante",
          "mandante",
          "mandante",
          "mandante",
          "mandante",
          "mandante",
          "mandante",
          "mandante",
          "mandante",
          "mandante",
          "mandante",
          "mandante",
          "mandante",
          "mandante",
          "mandante",
          "mandante",
          "mandante",
          "mandante",
          "mandante",
          "mandante",
          "mandante",
          "mandante",
          "mandante",
          "mandante",
          "mandante",
          "mandante",
          "mandante",
          "mandante",
          "mandante",
          "mandante",
          "mandante",
          "mandante",
          "mandante",
          "mandante",
          "mandante",
          "mandante",
          "mandante",
          "mandante",
          "mandante",
          "mandante",
          "mandante",
          "mandante",
          "mandante",
          "mandante",
          "mandante",
          "mandante",
          "mandante",
          "mandante",
          "mandante",
          "mandante",
          "mandante",
          "mandante",
          "mandante",
          "mandante",
          "mandante",
          "mandante",
          "mandante",
          "mandante",
          "mandante",
          "mandante",
          "mandante",
          "mandante",
          "mandante",
          "mandante",
          "mandante",
          "mandante",
          "mandante",
          "mandante",
          "mandante",
          "mandante",
          "mandante",
          "mandante",
          "mandante",
          "mandante",
          "mandante",
          "mandante",
          "mandante",
          "mandante",
          "mandante",
          "mandante",
          "mandante",
          "mandante",
          "mandante",
          "mandante",
          "mandante",
          "mandante",
          "mandante",
          "mandante",
          "mandante",
          "mandante",
          "mandante",
          "mandante",
          "mandante",
          "mandante",
          "mandante",
          "mandante",
          "mandante",
          "mandante",
          "mandante",
          "mandante",
          "mandante",
          "mandante",
          "mandante",
          "mandante",
          "mandante",
          "mandante",
          "mandante",
          "mandante",
          "mandante",
          "mandante",
          "mandante",
          "mandante",
          "mandante",
          "mandante",
          "mandante",
          "mandante",
          "mandante",
          "mandante",
          "mandante",
          "mandante",
          "mandante",
          "mandante",
          "mandante",
          "mandante",
          "mandante",
          "mandante",
          "mandante",
          "mandante",
          "mandante",
          "mandante",
          "mandante",
          "mandante",
          "mandante",
          "mandante",
          "mandante",
          "mandante",
          "mandante",
          "mandante",
          "mandante",
          "mandante",
          "mandante",
          "mandante",
          "mandante",
          "mandante",
          "mandante",
          "mandante",
          "mandante",
          "mandante",
          "mandante",
          "mandante",
          "mandante",
          "mandante",
          "mandante",
          "mandante",
          "mandante",
          "mandante",
          "mandante",
          "mandante",
          "mandante",
          "mandante",
          "mandante",
          "mandante",
          "mandante",
          "mandante",
          "mandante",
          "mandante",
          "mandante",
          "mandante",
          "mandante",
          "mandante",
          "mandante",
          "mandante",
          "mandante",
          "mandante",
          "mandante",
          "mandante",
          "mandante",
          "mandante",
          "mandante",
          "mandante",
          "mandante",
          "mandante",
          "mandante",
          "mandante",
          "mandante",
          "mandante",
          "mandante",
          "mandante",
          "mandante",
          "mandante",
          "mandante",
          "mandante",
          "mandante",
          "mandante",
          "mandante",
          "mandante",
          "mandante",
          "mandante",
          "mandante",
          "mandante",
          "mandante",
          "mandante",
          "mandante",
          "mandante",
          "mandante",
          "mandante",
          "mandante",
          "mandante",
          "mandante",
          "mandante",
          "mandante",
          "mandante",
          "mandante",
          "mandante",
          "mandante",
          "mandante",
          "mandante",
          "mandante",
          "mandante",
          "mandante",
          "mandante",
          "mandante",
          "mandante",
          "mandante",
          "mandante",
          "mandante",
          "mandante",
          "mandante",
          "mandante",
          "mandante",
          "mandante",
          "mandante",
          "mandante",
          "mandante",
          "mandante",
          "mandante",
          "mandante",
          "mandante",
          "mandante",
          "mandante",
          "mandante",
          "mandante",
          "mandante",
          "mandante",
          "mandante",
          "mandante",
          "mandante",
          "mandante",
          "mandante",
          "mandante",
          "mandante",
          "mandante",
          "mandante",
          "mandante",
          "mandante",
          "mandante",
          "mandante",
          "mandante",
          "mandante",
          "mandante",
          "mandante",
          "mandante",
          "mandante",
          "mandante",
          "mandante",
          "mandante",
          "mandante",
          "mandante",
          "mandante",
          "mandante",
          "mandante",
          "mandante",
          "mandante",
          "mandante",
          "mandante",
          "mandante",
          "mandante",
          "mandante",
          "mandante",
          "mandante",
          "mandante",
          "mandante",
          "mandante",
          "mandante",
          "mandante",
          "mandante",
          "mandante",
          "mandante",
          "mandante",
          "mandante",
          "mandante",
          "mandante",
          "mandante",
          "mandante",
          "mandante",
          "mandante",
          "mandante",
          "mandante",
          "mandante",
          "mandante",
          "mandante",
          "mandante",
          "mandante",
          "mandante",
          "mandante",
          "mandante",
          "mandante",
          "mandante",
          "mandante",
          "mandante",
          "mandante",
          "mandante",
          "mandante",
          "mandante",
          "mandante",
          "mandante",
          "mandante",
          "mandante",
          "mandante",
          "mandante",
          "mandante",
          "mandante",
          "mandante",
          "mandante",
          "mandante",
          "mandante",
          "mandante",
          "mandante",
          "mandante",
          "mandante",
          "mandante",
          "mandante",
          "mandante",
          "mandante",
          "mandante",
          "mandante",
          "mandante",
          "mandante",
          "mandante",
          "mandante",
          "mandante",
          "mandante",
          "mandante",
          "mandante",
          "mandante",
          "mandante",
          "mandante",
          "mandante",
          "mandante",
          "mandante",
          "mandante",
          "mandante",
          "mandante",
          "mandante",
          "mandante",
          "mandante",
          "mandante",
          "mandante",
          "mandante",
          "mandante",
          "mandante",
          "mandante",
          "mandante",
          "mandante",
          "mandante",
          "mandante",
          "mandante",
          "mandante",
          "mandante",
          "mandante",
          "mandante",
          "mandante",
          "mandante",
          "mandante",
          "mandante",
          "mandante",
          "mandante",
          "mandante",
          "mandante",
          "mandante",
          "mandante",
          "mandante",
          "mandante",
          "mandante",
          "mandante",
          "mandante",
          "mandante",
          "mandante",
          "mandante",
          "mandante",
          "mandante",
          "mandante",
          "mandante",
          "mandante",
          "mandante",
          "mandante",
          "mandante",
          "mandante",
          "mandante",
          "mandante",
          "mandante",
          "mandante",
          "mandante",
          "mandante",
          "mandante",
          "mandante",
          "mandante",
          "mandante",
          "mandante",
          "mandante",
          "mandante",
          "mandante",
          "mandante",
          "mandante",
          "mandante",
          "mandante",
          "mandante",
          "mandante",
          "mandante",
          "mandante",
          "mandante",
          "mandante",
          "mandante",
          "mandante",
          "mandante",
          "mandante",
          "mandante",
          "mandante",
          "mandante",
          "mandante",
          "mandante",
          "mandante",
          "mandante",
          "mandante",
          "mandante",
          "mandante",
          "mandante",
          "mandante",
          "mandante",
          "mandante",
          "mandante",
          "mandante",
          "mandante",
          "mandante",
          "mandante",
          "mandante",
          "mandante",
          "mandante",
          "mandante",
          "mandante",
          "mandante",
          "mandante",
          "mandante",
          "mandante",
          "mandante",
          "mandante",
          "mandante",
          "mandante",
          "mandante",
          "mandante",
          "mandante",
          "mandante",
          "mandante",
          "mandante",
          "mandante",
          "mandante",
          "mandante",
          "mandante",
          "mandante",
          "mandante",
          "mandante",
          "mandante",
          "mandante",
          "mandante",
          "mandante",
          "mandante",
          "mandante",
          "mandante",
          "mandante",
          "mandante",
          "mandante",
          "mandante",
          "mandante",
          "mandante",
          "mandante",
          "mandante",
          "mandante",
          "mandante",
          "mandante",
          "mandante",
          "mandante",
          "mandante",
          "mandante",
          "mandante",
          "mandante",
          "mandante",
          "mandante",
          "mandante",
          "mandante",
          "mandante",
          "mandante",
          "mandante",
          "mandante",
          "mandante",
          "mandante",
          "mandante",
          "mandante",
          "mandante",
          "mandante",
          "mandante",
          "mandante",
          "mandante",
          "mandante",
          "mandante",
          "mandante",
          "mandante",
          "mandante",
          "mandante",
          "mandante",
          "mandante",
          "mandante",
          "mandante",
          "mandante",
          "mandante",
          "mandante",
          "mandante",
          "mandante",
          "mandante",
          "mandante",
          "mandante",
          "mandante",
          "mandante",
          "mandante",
          "mandante",
          "mandante",
          "mandante",
          "mandante",
          "mandante",
          "mandante",
          "mandante",
          "mandante",
          "mandante",
          "mandante",
          "mandante",
          "mandante",
          "mandante",
          "mandante",
          "mandante",
          "mandante",
          "mandante",
          "mandante",
          "mandante",
          "mandante",
          "mandante",
          "mandante",
          "mandante",
          "mandante",
          "mandante",
          "mandante",
          "mandante",
          "mandante",
          "mandante",
          "mandante",
          "mandante",
          "mandante",
          "mandante",
          "mandante",
          "mandante",
          "mandante",
          "mandante",
          "mandante",
          "mandante",
          "mandante",
          "mandante",
          "mandante",
          "mandante",
          "mandante",
          "mandante",
          "mandante",
          "mandante",
          "mandante",
          "mandante",
          "mandante",
          "mandante",
          "mandante",
          "mandante",
          "mandante",
          "mandante",
          "mandante",
          "mandante",
          "mandante",
          "mandante",
          "mandante",
          "mandante",
          "mandante",
          "mandante",
          "mandante",
          "mandante",
          "mandante",
          "mandante",
          "mandante",
          "mandante",
          "mandante",
          "mandante",
          "mandante",
          "mandante",
          "mandante",
          "mandante",
          "mandante",
          "mandante",
          "mandante",
          "mandante",
          "mandante",
          "mandante",
          "mandante",
          "mandante",
          "mandante",
          "mandante",
          "mandante",
          "mandante",
          "mandante",
          "mandante",
          "mandante",
          "mandante",
          "mandante",
          "mandante",
          "mandante",
          "mandante",
          "mandante",
          "mandante",
          "mandante",
          "mandante",
          "mandante",
          "mandante",
          "mandante",
          "mandante",
          "mandante",
          "mandante",
          "mandante",
          "mandante",
          "mandante",
          "mandante",
          "mandante",
          "mandante",
          "mandante",
          "mandante",
          "mandante",
          "mandante",
          "mandante",
          "mandante",
          "mandante",
          "mandante",
          "mandante",
          "mandante",
          "mandante",
          "mandante",
          "mandante",
          "mandante",
          "mandante",
          "mandante",
          "mandante",
          "mandante",
          "mandante",
          "mandante",
          "mandante",
          "mandante",
          "mandante",
          "mandante",
          "mandante",
          "mandante",
          "mandante",
          "mandante",
          "mandante",
          "mandante",
          "mandante",
          "mandante",
          "mandante",
          "mandante",
          "mandante",
          "mandante",
          "mandante",
          "mandante",
          "mandante",
          "mandante",
          "mandante",
          "mandante",
          "mandante",
          "mandante",
          "mandante",
          "mandante",
          "mandante",
          "mandante",
          "mandante",
          "mandante",
          "mandante",
          "mandante",
          "mandante",
          "mandante",
          "mandante",
          "mandante",
          "mandante",
          "mandante",
          "mandante",
          "mandante",
          "mandante",
          "mandante",
          "mandante",
          "mandante",
          "mandante",
          "mandante",
          "mandante",
          "mandante",
          "mandante",
          "mandante",
          "mandante",
          "mandante",
          "mandante",
          "mandante",
          "mandante",
          "mandante",
          "mandante",
          "mandante",
          "mandante",
          "mandante",
          "mandante",
          "mandante",
          "mandante",
          "mandante",
          "mandante",
          "mandante",
          "mandante",
          "mandante",
          "mandante",
          "mandante",
          "mandante",
          "mandante",
          "mandante",
          "mandante",
          "mandante",
          "mandante",
          "mandante",
          "mandante",
          "mandante",
          "mandante",
          "mandante",
          "mandante",
          "mandante",
          "mandante",
          "mandante",
          "mandante",
          "mandante",
          "mandante",
          "mandante",
          "mandante",
          "mandante",
          "mandante",
          "mandante",
          "mandante",
          "mandante",
          "mandante",
          "mandante",
          "mandante",
          "mandante",
          "mandante",
          "mandante",
          "mandante",
          "mandante",
          "mandante",
          "mandante",
          "mandante",
          "mandante",
          "mandante",
          "mandante",
          "mandante",
          "mandante",
          "mandante",
          "mandante",
          "mandante",
          "mandante",
          "mandante",
          "mandante",
          "mandante",
          "mandante",
          "mandante",
          "mandante",
          "mandante",
          "mandante",
          "mandante",
          "mandante",
          "mandante",
          "mandante",
          "mandante",
          "mandante",
          "mandante",
          "mandante",
          "mandante",
          "mandante",
          "mandante",
          "mandante",
          "mandante",
          "mandante",
          "mandante",
          "mandante",
          "mandante",
          "mandante",
          "mandante",
          "mandante",
          "mandante",
          "mandante",
          "mandante",
          "mandante",
          "mandante",
          "mandante",
          "mandante",
          "mandante",
          "mandante",
          "mandante",
          "mandante",
          "mandante",
          "mandante",
          "mandante",
          "mandante",
          "mandante",
          "mandante",
          "mandante",
          "mandante",
          "mandante",
          "mandante",
          "mandante",
          "mandante",
          "mandante",
          "mandante",
          "mandante",
          "mandante",
          "mandante",
          "mandante",
          "mandante",
          "mandante",
          "mandante",
          "mandante",
          "mandante",
          "mandante",
          "mandante",
          "mandante",
          "mandante",
          "mandante",
          "mandante",
          "mandante",
          "mandante",
          "mandante",
          "mandante",
          "mandante",
          "mandante",
          "mandante",
          "mandante",
          "mandante",
          "mandante",
          "mandante",
          "mandante",
          "mandante",
          "mandante",
          "mandante",
          "mandante",
          "mandante",
          "mandante",
          "mandante",
          "mandante",
          "mandante",
          "mandante",
          "mandante",
          "mandante",
          "mandante",
          "mandante",
          "mandante",
          "mandante",
          "mandante",
          "mandante",
          "mandante",
          "mandante",
          "mandante",
          "mandante",
          "mandante",
          "mandante",
          "mandante",
          "mandante",
          "mandante",
          "mandante",
          "mandante",
          "mandante",
          "mandante",
          "mandante",
          "mandante",
          "mandante",
          "mandante",
          "mandante",
          "mandante",
          "mandante",
          "mandante",
          "mandante"
         ],
         "xaxis": "x",
         "yaxis": "y"
        },
        {
         "bingroup": "x",
         "hovertemplate": "resultado_partida=%{x}<br>count=%{y}<extra></extra>",
         "legendgroup": "empate",
         "marker": {
          "color": "gray",
          "pattern": {
           "shape": ""
          }
         },
         "name": "empate",
         "orientation": "v",
         "showlegend": true,
         "texttemplate": "%{value}",
         "type": "histogram",
         "x": [
          "empate",
          "empate",
          "empate",
          "empate",
          "empate",
          "empate",
          "empate",
          "empate",
          "empate",
          "empate",
          "empate",
          "empate",
          "empate",
          "empate",
          "empate",
          "empate",
          "empate",
          "empate",
          "empate",
          "empate",
          "empate",
          "empate",
          "empate",
          "empate",
          "empate",
          "empate",
          "empate",
          "empate",
          "empate",
          "empate",
          "empate",
          "empate",
          "empate",
          "empate",
          "empate",
          "empate",
          "empate",
          "empate",
          "empate",
          "empate",
          "empate",
          "empate",
          "empate",
          "empate",
          "empate",
          "empate",
          "empate",
          "empate",
          "empate",
          "empate",
          "empate",
          "empate",
          "empate",
          "empate",
          "empate",
          "empate",
          "empate",
          "empate",
          "empate",
          "empate",
          "empate",
          "empate",
          "empate",
          "empate",
          "empate",
          "empate",
          "empate",
          "empate",
          "empate",
          "empate",
          "empate",
          "empate",
          "empate",
          "empate",
          "empate",
          "empate",
          "empate",
          "empate",
          "empate",
          "empate",
          "empate",
          "empate",
          "empate",
          "empate",
          "empate",
          "empate",
          "empate",
          "empate",
          "empate",
          "empate",
          "empate",
          "empate",
          "empate",
          "empate",
          "empate",
          "empate",
          "empate",
          "empate",
          "empate",
          "empate",
          "empate",
          "empate",
          "empate",
          "empate",
          "empate",
          "empate",
          "empate",
          "empate",
          "empate",
          "empate",
          "empate",
          "empate",
          "empate",
          "empate",
          "empate",
          "empate",
          "empate",
          "empate",
          "empate",
          "empate",
          "empate",
          "empate",
          "empate",
          "empate",
          "empate",
          "empate",
          "empate",
          "empate",
          "empate",
          "empate",
          "empate",
          "empate",
          "empate",
          "empate",
          "empate",
          "empate",
          "empate",
          "empate",
          "empate",
          "empate",
          "empate",
          "empate",
          "empate",
          "empate",
          "empate",
          "empate",
          "empate",
          "empate",
          "empate",
          "empate",
          "empate",
          "empate",
          "empate",
          "empate",
          "empate",
          "empate",
          "empate",
          "empate",
          "empate",
          "empate",
          "empate",
          "empate",
          "empate",
          "empate",
          "empate",
          "empate",
          "empate",
          "empate",
          "empate",
          "empate",
          "empate",
          "empate",
          "empate",
          "empate",
          "empate",
          "empate",
          "empate",
          "empate",
          "empate",
          "empate",
          "empate",
          "empate",
          "empate",
          "empate",
          "empate",
          "empate",
          "empate",
          "empate",
          "empate",
          "empate",
          "empate",
          "empate",
          "empate",
          "empate",
          "empate",
          "empate",
          "empate",
          "empate",
          "empate",
          "empate",
          "empate",
          "empate",
          "empate",
          "empate",
          "empate",
          "empate",
          "empate",
          "empate",
          "empate",
          "empate",
          "empate",
          "empate",
          "empate",
          "empate",
          "empate",
          "empate",
          "empate",
          "empate",
          "empate",
          "empate",
          "empate",
          "empate",
          "empate",
          "empate",
          "empate",
          "empate",
          "empate",
          "empate",
          "empate",
          "empate",
          "empate",
          "empate",
          "empate",
          "empate",
          "empate",
          "empate",
          "empate",
          "empate",
          "empate",
          "empate",
          "empate",
          "empate",
          "empate",
          "empate",
          "empate",
          "empate",
          "empate",
          "empate",
          "empate",
          "empate",
          "empate",
          "empate",
          "empate",
          "empate",
          "empate",
          "empate",
          "empate",
          "empate",
          "empate",
          "empate",
          "empate",
          "empate",
          "empate",
          "empate",
          "empate",
          "empate",
          "empate",
          "empate",
          "empate",
          "empate",
          "empate",
          "empate",
          "empate",
          "empate",
          "empate",
          "empate",
          "empate",
          "empate",
          "empate",
          "empate",
          "empate",
          "empate",
          "empate",
          "empate",
          "empate",
          "empate",
          "empate",
          "empate",
          "empate",
          "empate",
          "empate",
          "empate",
          "empate",
          "empate",
          "empate",
          "empate",
          "empate",
          "empate",
          "empate",
          "empate",
          "empate",
          "empate",
          "empate",
          "empate",
          "empate",
          "empate",
          "empate",
          "empate",
          "empate",
          "empate",
          "empate",
          "empate",
          "empate",
          "empate",
          "empate",
          "empate",
          "empate",
          "empate",
          "empate",
          "empate",
          "empate",
          "empate",
          "empate",
          "empate",
          "empate",
          "empate",
          "empate",
          "empate",
          "empate",
          "empate",
          "empate",
          "empate",
          "empate",
          "empate",
          "empate",
          "empate",
          "empate",
          "empate",
          "empate",
          "empate",
          "empate",
          "empate",
          "empate",
          "empate",
          "empate",
          "empate",
          "empate",
          "empate",
          "empate",
          "empate",
          "empate",
          "empate",
          "empate",
          "empate",
          "empate",
          "empate",
          "empate",
          "empate",
          "empate",
          "empate",
          "empate",
          "empate",
          "empate",
          "empate",
          "empate",
          "empate",
          "empate",
          "empate",
          "empate",
          "empate",
          "empate",
          "empate",
          "empate",
          "empate",
          "empate",
          "empate",
          "empate",
          "empate",
          "empate",
          "empate",
          "empate",
          "empate",
          "empate",
          "empate",
          "empate",
          "empate",
          "empate",
          "empate",
          "empate",
          "empate",
          "empate",
          "empate",
          "empate",
          "empate",
          "empate",
          "empate",
          "empate",
          "empate",
          "empate",
          "empate",
          "empate",
          "empate",
          "empate",
          "empate",
          "empate",
          "empate",
          "empate",
          "empate",
          "empate",
          "empate",
          "empate",
          "empate",
          "empate",
          "empate",
          "empate",
          "empate",
          "empate",
          "empate",
          "empate",
          "empate",
          "empate",
          "empate",
          "empate",
          "empate",
          "empate",
          "empate",
          "empate",
          "empate",
          "empate",
          "empate",
          "empate",
          "empate",
          "empate",
          "empate",
          "empate",
          "empate",
          "empate",
          "empate",
          "empate",
          "empate",
          "empate",
          "empate",
          "empate",
          "empate",
          "empate",
          "empate",
          "empate",
          "empate",
          "empate",
          "empate",
          "empate",
          "empate",
          "empate",
          "empate",
          "empate",
          "empate",
          "empate",
          "empate",
          "empate",
          "empate",
          "empate",
          "empate",
          "empate",
          "empate",
          "empate",
          "empate",
          "empate",
          "empate",
          "empate",
          "empate",
          "empate",
          "empate",
          "empate",
          "empate",
          "empate",
          "empate",
          "empate",
          "empate",
          "empate",
          "empate",
          "empate",
          "empate",
          "empate",
          "empate",
          "empate",
          "empate",
          "empate",
          "empate",
          "empate",
          "empate",
          "empate",
          "empate",
          "empate",
          "empate",
          "empate",
          "empate",
          "empate",
          "empate",
          "empate",
          "empate",
          "empate",
          "empate",
          "empate",
          "empate",
          "empate",
          "empate",
          "empate",
          "empate",
          "empate",
          "empate",
          "empate",
          "empate",
          "empate",
          "empate",
          "empate",
          "empate",
          "empate",
          "empate",
          "empate",
          "empate",
          "empate",
          "empate",
          "empate",
          "empate",
          "empate",
          "empate",
          "empate",
          "empate",
          "empate",
          "empate",
          "empate",
          "empate",
          "empate",
          "empate",
          "empate",
          "empate",
          "empate",
          "empate",
          "empate",
          "empate",
          "empate",
          "empate",
          "empate",
          "empate",
          "empate",
          "empate",
          "empate",
          "empate",
          "empate",
          "empate",
          "empate",
          "empate",
          "empate",
          "empate",
          "empate",
          "empate",
          "empate",
          "empate",
          "empate",
          "empate",
          "empate",
          "empate",
          "empate",
          "empate",
          "empate",
          "empate",
          "empate",
          "empate",
          "empate",
          "empate",
          "empate",
          "empate",
          "empate",
          "empate",
          "empate",
          "empate",
          "empate",
          "empate",
          "empate",
          "empate",
          "empate",
          "empate",
          "empate",
          "empate",
          "empate",
          "empate",
          "empate",
          "empate",
          "empate",
          "empate",
          "empate",
          "empate",
          "empate",
          "empate",
          "empate",
          "empate",
          "empate",
          "empate",
          "empate",
          "empate",
          "empate",
          "empate",
          "empate",
          "empate",
          "empate",
          "empate",
          "empate",
          "empate",
          "empate",
          "empate",
          "empate",
          "empate",
          "empate",
          "empate",
          "empate",
          "empate",
          "empate",
          "empate",
          "empate",
          "empate",
          "empate",
          "empate",
          "empate",
          "empate",
          "empate",
          "empate",
          "empate",
          "empate",
          "empate",
          "empate",
          "empate",
          "empate",
          "empate",
          "empate",
          "empate",
          "empate",
          "empate",
          "empate",
          "empate",
          "empate",
          "empate",
          "empate",
          "empate",
          "empate",
          "empate",
          "empate",
          "empate",
          "empate",
          "empate",
          "empate",
          "empate",
          "empate",
          "empate",
          "empate",
          "empate",
          "empate",
          "empate",
          "empate",
          "empate",
          "empate",
          "empate",
          "empate",
          "empate",
          "empate",
          "empate",
          "empate",
          "empate",
          "empate",
          "empate",
          "empate",
          "empate",
          "empate",
          "empate",
          "empate",
          "empate",
          "empate",
          "empate",
          "empate",
          "empate",
          "empate",
          "empate",
          "empate",
          "empate",
          "empate",
          "empate",
          "empate",
          "empate",
          "empate",
          "empate",
          "empate",
          "empate",
          "empate",
          "empate",
          "empate",
          "empate",
          "empate",
          "empate",
          "empate",
          "empate",
          "empate",
          "empate",
          "empate",
          "empate",
          "empate",
          "empate",
          "empate",
          "empate",
          "empate",
          "empate",
          "empate",
          "empate",
          "empate",
          "empate",
          "empate",
          "empate",
          "empate",
          "empate",
          "empate",
          "empate",
          "empate",
          "empate",
          "empate",
          "empate",
          "empate",
          "empate",
          "empate",
          "empate",
          "empate",
          "empate",
          "empate",
          "empate",
          "empate",
          "empate",
          "empate",
          "empate",
          "empate",
          "empate",
          "empate",
          "empate",
          "empate",
          "empate",
          "empate",
          "empate",
          "empate",
          "empate",
          "empate",
          "empate",
          "empate",
          "empate",
          "empate",
          "empate",
          "empate",
          "empate",
          "empate",
          "empate",
          "empate",
          "empate",
          "empate",
          "empate",
          "empate",
          "empate",
          "empate",
          "empate",
          "empate",
          "empate",
          "empate",
          "empate",
          "empate",
          "empate",
          "empate",
          "empate",
          "empate",
          "empate",
          "empate",
          "empate",
          "empate",
          "empate",
          "empate",
          "empate",
          "empate",
          "empate",
          "empate",
          "empate",
          "empate",
          "empate",
          "empate",
          "empate",
          "empate",
          "empate",
          "empate",
          "empate",
          "empate",
          "empate",
          "empate",
          "empate",
          "empate",
          "empate",
          "empate",
          "empate",
          "empate",
          "empate",
          "empate",
          "empate",
          "empate",
          "empate",
          "empate",
          "empate",
          "empate",
          "empate",
          "empate",
          "empate",
          "empate",
          "empate",
          "empate",
          "empate",
          "empate",
          "empate",
          "empate",
          "empate",
          "empate",
          "empate",
          "empate",
          "empate",
          "empate",
          "empate",
          "empate",
          "empate",
          "empate",
          "empate",
          "empate",
          "empate",
          "empate",
          "empate",
          "empate",
          "empate",
          "empate",
          "empate",
          "empate",
          "empate",
          "empate",
          "empate",
          "empate",
          "empate",
          "empate",
          "empate",
          "empate",
          "empate",
          "empate",
          "empate",
          "empate",
          "empate",
          "empate",
          "empate",
          "empate",
          "empate",
          "empate",
          "empate",
          "empate",
          "empate",
          "empate",
          "empate",
          "empate",
          "empate",
          "empate",
          "empate",
          "empate",
          "empate",
          "empate",
          "empate",
          "empate",
          "empate",
          "empate",
          "empate",
          "empate",
          "empate",
          "empate",
          "empate",
          "empate",
          "empate",
          "empate",
          "empate",
          "empate",
          "empate",
          "empate",
          "empate",
          "empate",
          "empate",
          "empate",
          "empate",
          "empate",
          "empate",
          "empate",
          "empate",
          "empate",
          "empate",
          "empate",
          "empate",
          "empate",
          "empate",
          "empate",
          "empate",
          "empate",
          "empate",
          "empate",
          "empate",
          "empate",
          "empate",
          "empate",
          "empate",
          "empate",
          "empate",
          "empate",
          "empate",
          "empate",
          "empate",
          "empate",
          "empate",
          "empate",
          "empate",
          "empate",
          "empate",
          "empate",
          "empate",
          "empate",
          "empate",
          "empate",
          "empate",
          "empate",
          "empate",
          "empate",
          "empate",
          "empate",
          "empate",
          "empate",
          "empate",
          "empate",
          "empate",
          "empate",
          "empate",
          "empate",
          "empate",
          "empate",
          "empate",
          "empate",
          "empate",
          "empate",
          "empate",
          "empate",
          "empate",
          "empate",
          "empate",
          "empate",
          "empate",
          "empate",
          "empate",
          "empate",
          "empate",
          "empate",
          "empate",
          "empate",
          "empate",
          "empate",
          "empate",
          "empate",
          "empate",
          "empate",
          "empate",
          "empate",
          "empate",
          "empate",
          "empate",
          "empate",
          "empate",
          "empate",
          "empate",
          "empate",
          "empate",
          "empate",
          "empate",
          "empate",
          "empate",
          "empate",
          "empate",
          "empate",
          "empate",
          "empate",
          "empate",
          "empate",
          "empate",
          "empate",
          "empate",
          "empate",
          "empate",
          "empate",
          "empate",
          "empate",
          "empate",
          "empate",
          "empate",
          "empate",
          "empate",
          "empate",
          "empate",
          "empate",
          "empate",
          "empate",
          "empate",
          "empate",
          "empate",
          "empate",
          "empate",
          "empate",
          "empate",
          "empate",
          "empate",
          "empate",
          "empate",
          "empate",
          "empate",
          "empate",
          "empate",
          "empate",
          "empate",
          "empate",
          "empate",
          "empate",
          "empate",
          "empate",
          "empate",
          "empate",
          "empate",
          "empate",
          "empate",
          "empate",
          "empate",
          "empate",
          "empate",
          "empate",
          "empate",
          "empate",
          "empate",
          "empate",
          "empate",
          "empate",
          "empate",
          "empate",
          "empate",
          "empate",
          "empate",
          "empate",
          "empate",
          "empate",
          "empate",
          "empate",
          "empate",
          "empate",
          "empate",
          "empate",
          "empate",
          "empate",
          "empate",
          "empate",
          "empate",
          "empate",
          "empate",
          "empate",
          "empate",
          "empate",
          "empate",
          "empate",
          "empate",
          "empate",
          "empate",
          "empate",
          "empate",
          "empate",
          "empate",
          "empate",
          "empate",
          "empate",
          "empate",
          "empate",
          "empate",
          "empate",
          "empate",
          "empate",
          "empate",
          "empate",
          "empate",
          "empate",
          "empate",
          "empate",
          "empate",
          "empate",
          "empate",
          "empate",
          "empate",
          "empate",
          "empate",
          "empate",
          "empate",
          "empate",
          "empate",
          "empate",
          "empate",
          "empate",
          "empate",
          "empate",
          "empate",
          "empate",
          "empate",
          "empate",
          "empate",
          "empate",
          "empate",
          "empate",
          "empate"
         ],
         "xaxis": "x",
         "yaxis": "y"
        },
        {
         "bingroup": "x",
         "hovertemplate": "resultado_partida=%{x}<br>count=%{y}<extra></extra>",
         "legendgroup": "visitante",
         "marker": {
          "color": "red",
          "pattern": {
           "shape": ""
          }
         },
         "name": "visitante",
         "orientation": "v",
         "showlegend": true,
         "texttemplate": "%{value}",
         "type": "histogram",
         "x": [
          "visitante",
          "visitante",
          "visitante",
          "visitante",
          "visitante",
          "visitante",
          "visitante",
          "visitante",
          "visitante",
          "visitante",
          "visitante",
          "visitante",
          "visitante",
          "visitante",
          "visitante",
          "visitante",
          "visitante",
          "visitante",
          "visitante",
          "visitante",
          "visitante",
          "visitante",
          "visitante",
          "visitante",
          "visitante",
          "visitante",
          "visitante",
          "visitante",
          "visitante",
          "visitante",
          "visitante",
          "visitante",
          "visitante",
          "visitante",
          "visitante",
          "visitante",
          "visitante",
          "visitante",
          "visitante",
          "visitante",
          "visitante",
          "visitante",
          "visitante",
          "visitante",
          "visitante",
          "visitante",
          "visitante",
          "visitante",
          "visitante",
          "visitante",
          "visitante",
          "visitante",
          "visitante",
          "visitante",
          "visitante",
          "visitante",
          "visitante",
          "visitante",
          "visitante",
          "visitante",
          "visitante",
          "visitante",
          "visitante",
          "visitante",
          "visitante",
          "visitante",
          "visitante",
          "visitante",
          "visitante",
          "visitante",
          "visitante",
          "visitante",
          "visitante",
          "visitante",
          "visitante",
          "visitante",
          "visitante",
          "visitante",
          "visitante",
          "visitante",
          "visitante",
          "visitante",
          "visitante",
          "visitante",
          "visitante",
          "visitante",
          "visitante",
          "visitante",
          "visitante",
          "visitante",
          "visitante",
          "visitante",
          "visitante",
          "visitante",
          "visitante",
          "visitante",
          "visitante",
          "visitante",
          "visitante",
          "visitante",
          "visitante",
          "visitante",
          "visitante",
          "visitante",
          "visitante",
          "visitante",
          "visitante",
          "visitante",
          "visitante",
          "visitante",
          "visitante",
          "visitante",
          "visitante",
          "visitante",
          "visitante",
          "visitante",
          "visitante",
          "visitante",
          "visitante",
          "visitante",
          "visitante",
          "visitante",
          "visitante",
          "visitante",
          "visitante",
          "visitante",
          "visitante",
          "visitante",
          "visitante",
          "visitante",
          "visitante",
          "visitante",
          "visitante",
          "visitante",
          "visitante",
          "visitante",
          "visitante",
          "visitante",
          "visitante",
          "visitante",
          "visitante",
          "visitante",
          "visitante",
          "visitante",
          "visitante",
          "visitante",
          "visitante",
          "visitante",
          "visitante",
          "visitante",
          "visitante",
          "visitante",
          "visitante",
          "visitante",
          "visitante",
          "visitante",
          "visitante",
          "visitante",
          "visitante",
          "visitante",
          "visitante",
          "visitante",
          "visitante",
          "visitante",
          "visitante",
          "visitante",
          "visitante",
          "visitante",
          "visitante",
          "visitante",
          "visitante",
          "visitante",
          "visitante",
          "visitante",
          "visitante",
          "visitante",
          "visitante",
          "visitante",
          "visitante",
          "visitante",
          "visitante",
          "visitante",
          "visitante",
          "visitante",
          "visitante",
          "visitante",
          "visitante",
          "visitante",
          "visitante",
          "visitante",
          "visitante",
          "visitante",
          "visitante",
          "visitante",
          "visitante",
          "visitante",
          "visitante",
          "visitante",
          "visitante",
          "visitante",
          "visitante",
          "visitante",
          "visitante",
          "visitante",
          "visitante",
          "visitante",
          "visitante",
          "visitante",
          "visitante",
          "visitante",
          "visitante",
          "visitante",
          "visitante",
          "visitante",
          "visitante",
          "visitante",
          "visitante",
          "visitante",
          "visitante",
          "visitante",
          "visitante",
          "visitante",
          "visitante",
          "visitante",
          "visitante",
          "visitante",
          "visitante",
          "visitante",
          "visitante",
          "visitante",
          "visitante",
          "visitante",
          "visitante",
          "visitante",
          "visitante",
          "visitante",
          "visitante",
          "visitante",
          "visitante",
          "visitante",
          "visitante",
          "visitante",
          "visitante",
          "visitante",
          "visitante",
          "visitante",
          "visitante",
          "visitante",
          "visitante",
          "visitante",
          "visitante",
          "visitante",
          "visitante",
          "visitante",
          "visitante",
          "visitante",
          "visitante",
          "visitante",
          "visitante",
          "visitante",
          "visitante",
          "visitante",
          "visitante",
          "visitante",
          "visitante",
          "visitante",
          "visitante",
          "visitante",
          "visitante",
          "visitante",
          "visitante",
          "visitante",
          "visitante",
          "visitante",
          "visitante",
          "visitante",
          "visitante",
          "visitante",
          "visitante",
          "visitante",
          "visitante",
          "visitante",
          "visitante",
          "visitante",
          "visitante",
          "visitante",
          "visitante",
          "visitante",
          "visitante",
          "visitante",
          "visitante",
          "visitante",
          "visitante",
          "visitante",
          "visitante",
          "visitante",
          "visitante",
          "visitante",
          "visitante",
          "visitante",
          "visitante",
          "visitante",
          "visitante",
          "visitante",
          "visitante",
          "visitante",
          "visitante",
          "visitante",
          "visitante",
          "visitante",
          "visitante",
          "visitante",
          "visitante",
          "visitante",
          "visitante",
          "visitante",
          "visitante",
          "visitante",
          "visitante",
          "visitante",
          "visitante",
          "visitante",
          "visitante",
          "visitante",
          "visitante",
          "visitante",
          "visitante",
          "visitante",
          "visitante",
          "visitante",
          "visitante",
          "visitante",
          "visitante",
          "visitante",
          "visitante",
          "visitante",
          "visitante",
          "visitante",
          "visitante",
          "visitante",
          "visitante",
          "visitante",
          "visitante",
          "visitante",
          "visitante",
          "visitante",
          "visitante",
          "visitante",
          "visitante",
          "visitante",
          "visitante",
          "visitante",
          "visitante",
          "visitante",
          "visitante",
          "visitante",
          "visitante",
          "visitante",
          "visitante",
          "visitante",
          "visitante",
          "visitante",
          "visitante",
          "visitante",
          "visitante",
          "visitante",
          "visitante",
          "visitante",
          "visitante",
          "visitante",
          "visitante",
          "visitante",
          "visitante",
          "visitante",
          "visitante",
          "visitante",
          "visitante",
          "visitante",
          "visitante",
          "visitante",
          "visitante",
          "visitante",
          "visitante",
          "visitante",
          "visitante",
          "visitante",
          "visitante",
          "visitante",
          "visitante",
          "visitante",
          "visitante",
          "visitante",
          "visitante",
          "visitante",
          "visitante",
          "visitante",
          "visitante",
          "visitante",
          "visitante",
          "visitante",
          "visitante",
          "visitante",
          "visitante",
          "visitante",
          "visitante",
          "visitante",
          "visitante",
          "visitante",
          "visitante",
          "visitante",
          "visitante",
          "visitante",
          "visitante",
          "visitante",
          "visitante",
          "visitante",
          "visitante",
          "visitante",
          "visitante",
          "visitante",
          "visitante",
          "visitante",
          "visitante",
          "visitante",
          "visitante",
          "visitante",
          "visitante",
          "visitante",
          "visitante",
          "visitante",
          "visitante",
          "visitante",
          "visitante",
          "visitante",
          "visitante",
          "visitante",
          "visitante",
          "visitante",
          "visitante",
          "visitante",
          "visitante",
          "visitante",
          "visitante",
          "visitante",
          "visitante",
          "visitante",
          "visitante",
          "visitante",
          "visitante",
          "visitante",
          "visitante",
          "visitante",
          "visitante",
          "visitante",
          "visitante",
          "visitante",
          "visitante",
          "visitante",
          "visitante",
          "visitante",
          "visitante",
          "visitante",
          "visitante",
          "visitante",
          "visitante",
          "visitante",
          "visitante",
          "visitante",
          "visitante",
          "visitante",
          "visitante",
          "visitante",
          "visitante",
          "visitante",
          "visitante",
          "visitante",
          "visitante",
          "visitante",
          "visitante",
          "visitante",
          "visitante",
          "visitante",
          "visitante",
          "visitante",
          "visitante",
          "visitante",
          "visitante",
          "visitante",
          "visitante",
          "visitante",
          "visitante",
          "visitante",
          "visitante",
          "visitante",
          "visitante",
          "visitante",
          "visitante",
          "visitante",
          "visitante",
          "visitante",
          "visitante",
          "visitante",
          "visitante",
          "visitante",
          "visitante",
          "visitante",
          "visitante",
          "visitante",
          "visitante",
          "visitante",
          "visitante",
          "visitante",
          "visitante",
          "visitante",
          "visitante",
          "visitante",
          "visitante",
          "visitante",
          "visitante",
          "visitante",
          "visitante",
          "visitante",
          "visitante",
          "visitante",
          "visitante",
          "visitante",
          "visitante",
          "visitante",
          "visitante",
          "visitante",
          "visitante",
          "visitante",
          "visitante",
          "visitante",
          "visitante",
          "visitante",
          "visitante",
          "visitante",
          "visitante",
          "visitante",
          "visitante",
          "visitante",
          "visitante",
          "visitante",
          "visitante",
          "visitante",
          "visitante",
          "visitante",
          "visitante",
          "visitante",
          "visitante",
          "visitante",
          "visitante",
          "visitante",
          "visitante",
          "visitante",
          "visitante",
          "visitante",
          "visitante",
          "visitante",
          "visitante",
          "visitante",
          "visitante",
          "visitante",
          "visitante",
          "visitante",
          "visitante",
          "visitante",
          "visitante",
          "visitante",
          "visitante",
          "visitante",
          "visitante",
          "visitante",
          "visitante",
          "visitante",
          "visitante",
          "visitante",
          "visitante",
          "visitante",
          "visitante",
          "visitante",
          "visitante",
          "visitante",
          "visitante",
          "visitante",
          "visitante",
          "visitante",
          "visitante",
          "visitante",
          "visitante",
          "visitante",
          "visitante",
          "visitante",
          "visitante",
          "visitante",
          "visitante",
          "visitante",
          "visitante",
          "visitante",
          "visitante",
          "visitante",
          "visitante",
          "visitante",
          "visitante",
          "visitante",
          "visitante",
          "visitante",
          "visitante",
          "visitante",
          "visitante",
          "visitante",
          "visitante",
          "visitante",
          "visitante",
          "visitante",
          "visitante",
          "visitante",
          "visitante",
          "visitante",
          "visitante",
          "visitante",
          "visitante",
          "visitante",
          "visitante",
          "visitante",
          "visitante",
          "visitante",
          "visitante",
          "visitante",
          "visitante",
          "visitante",
          "visitante",
          "visitante",
          "visitante",
          "visitante",
          "visitante",
          "visitante",
          "visitante",
          "visitante",
          "visitante",
          "visitante",
          "visitante",
          "visitante",
          "visitante",
          "visitante",
          "visitante",
          "visitante",
          "visitante",
          "visitante",
          "visitante",
          "visitante",
          "visitante",
          "visitante",
          "visitante",
          "visitante",
          "visitante",
          "visitante",
          "visitante",
          "visitante",
          "visitante",
          "visitante",
          "visitante",
          "visitante",
          "visitante",
          "visitante",
          "visitante",
          "visitante",
          "visitante",
          "visitante",
          "visitante",
          "visitante",
          "visitante",
          "visitante",
          "visitante",
          "visitante",
          "visitante",
          "visitante",
          "visitante",
          "visitante",
          "visitante",
          "visitante",
          "visitante",
          "visitante",
          "visitante",
          "visitante",
          "visitante",
          "visitante",
          "visitante",
          "visitante",
          "visitante",
          "visitante",
          "visitante",
          "visitante",
          "visitante",
          "visitante",
          "visitante",
          "visitante",
          "visitante",
          "visitante",
          "visitante",
          "visitante",
          "visitante",
          "visitante",
          "visitante",
          "visitante",
          "visitante",
          "visitante",
          "visitante",
          "visitante",
          "visitante",
          "visitante",
          "visitante",
          "visitante",
          "visitante",
          "visitante",
          "visitante",
          "visitante",
          "visitante",
          "visitante",
          "visitante",
          "visitante",
          "visitante",
          "visitante",
          "visitante",
          "visitante",
          "visitante",
          "visitante",
          "visitante",
          "visitante",
          "visitante",
          "visitante",
          "visitante",
          "visitante",
          "visitante",
          "visitante",
          "visitante",
          "visitante",
          "visitante",
          "visitante",
          "visitante",
          "visitante",
          "visitante",
          "visitante",
          "visitante",
          "visitante",
          "visitante",
          "visitante",
          "visitante",
          "visitante",
          "visitante",
          "visitante",
          "visitante",
          "visitante",
          "visitante",
          "visitante",
          "visitante",
          "visitante",
          "visitante",
          "visitante",
          "visitante",
          "visitante",
          "visitante",
          "visitante",
          "visitante",
          "visitante",
          "visitante",
          "visitante",
          "visitante",
          "visitante",
          "visitante",
          "visitante",
          "visitante",
          "visitante",
          "visitante",
          "visitante",
          "visitante",
          "visitante",
          "visitante",
          "visitante",
          "visitante",
          "visitante",
          "visitante",
          "visitante",
          "visitante",
          "visitante",
          "visitante",
          "visitante",
          "visitante",
          "visitante",
          "visitante",
          "visitante",
          "visitante",
          "visitante",
          "visitante",
          "visitante",
          "visitante",
          "visitante",
          "visitante",
          "visitante",
          "visitante",
          "visitante",
          "visitante",
          "visitante",
          "visitante",
          "visitante",
          "visitante",
          "visitante",
          "visitante",
          "visitante",
          "visitante",
          "visitante",
          "visitante",
          "visitante",
          "visitante",
          "visitante",
          "visitante",
          "visitante",
          "visitante",
          "visitante",
          "visitante",
          "visitante",
          "visitante",
          "visitante",
          "visitante",
          "visitante",
          "visitante",
          "visitante",
          "visitante",
          "visitante",
          "visitante",
          "visitante",
          "visitante",
          "visitante",
          "visitante",
          "visitante",
          "visitante",
          "visitante",
          "visitante",
          "visitante",
          "visitante",
          "visitante",
          "visitante",
          "visitante",
          "visitante",
          "visitante",
          "visitante",
          "visitante",
          "visitante",
          "visitante",
          "visitante",
          "visitante",
          "visitante",
          "visitante",
          "visitante",
          "visitante",
          "visitante",
          "visitante",
          "visitante",
          "visitante",
          "visitante",
          "visitante",
          "visitante",
          "visitante",
          "visitante",
          "visitante",
          "visitante",
          "visitante",
          "visitante",
          "visitante",
          "visitante",
          "visitante",
          "visitante",
          "visitante",
          "visitante",
          "visitante",
          "visitante",
          "visitante",
          "visitante",
          "visitante",
          "visitante",
          "visitante",
          "visitante",
          "visitante",
          "visitante",
          "visitante",
          "visitante",
          "visitante",
          "visitante",
          "visitante",
          "visitante",
          "visitante",
          "visitante",
          "visitante",
          "visitante",
          "visitante",
          "visitante",
          "visitante",
          "visitante",
          "visitante",
          "visitante",
          "visitante",
          "visitante",
          "visitante",
          "visitante",
          "visitante",
          "visitante",
          "visitante",
          "visitante",
          "visitante",
          "visitante",
          "visitante",
          "visitante",
          "visitante",
          "visitante",
          "visitante",
          "visitante",
          "visitante",
          "visitante",
          "visitante",
          "visitante",
          "visitante",
          "visitante",
          "visitante",
          "visitante",
          "visitante",
          "visitante",
          "visitante",
          "visitante",
          "visitante",
          "visitante",
          "visitante",
          "visitante",
          "visitante",
          "visitante",
          "visitante",
          "visitante",
          "visitante",
          "visitante",
          "visitante",
          "visitante",
          "visitante",
          "visitante",
          "visitante",
          "visitante",
          "visitante",
          "visitante",
          "visitante",
          "visitante",
          "visitante",
          "visitante",
          "visitante",
          "visitante",
          "visitante",
          "visitante",
          "visitante",
          "visitante",
          "visitante",
          "visitante",
          "visitante",
          "visitante",
          "visitante",
          "visitante",
          "visitante",
          "visitante",
          "visitante",
          "visitante",
          "visitante",
          "visitante",
          "visitante",
          "visitante",
          "visitante",
          "visitante",
          "visitante",
          "visitante",
          "visitante",
          "visitante",
          "visitante",
          "visitante",
          "visitante",
          "visitante",
          "visitante",
          "visitante",
          "visitante",
          "visitante",
          "visitante",
          "visitante",
          "visitante",
          "visitante",
          "visitante",
          "visitante",
          "visitante",
          "visitante",
          "visitante",
          "visitante",
          "visitante",
          "visitante",
          "visitante",
          "visitante",
          "visitante",
          "visitante",
          "visitante",
          "visitante",
          "visitante",
          "visitante",
          "visitante",
          "visitante",
          "visitante",
          "visitante",
          "visitante",
          "visitante",
          "visitante",
          "visitante",
          "visitante",
          "visitante",
          "visitante",
          "visitante",
          "visitante",
          "visitante",
          "visitante",
          "visitante",
          "visitante",
          "visitante",
          "visitante",
          "visitante",
          "visitante",
          "visitante",
          "visitante",
          "visitante",
          "visitante",
          "visitante",
          "visitante",
          "visitante",
          "visitante",
          "visitante",
          "visitante",
          "visitante",
          "visitante",
          "visitante",
          "visitante"
         ],
         "xaxis": "x",
         "yaxis": "y"
        }
       ],
       "layout": {
        "barmode": "relative",
        "legend": {
         "title": {
          "text": "resultado_partida"
         },
         "tracegroupgap": 0
        },
        "template": {
         "data": {
          "bar": [
           {
            "error_x": {
             "color": "#2a3f5f"
            },
            "error_y": {
             "color": "#2a3f5f"
            },
            "marker": {
             "line": {
              "color": "#E5ECF6",
              "width": 0.5
             },
             "pattern": {
              "fillmode": "overlay",
              "size": 10,
              "solidity": 0.2
             }
            },
            "type": "bar"
           }
          ],
          "barpolar": [
           {
            "marker": {
             "line": {
              "color": "#E5ECF6",
              "width": 0.5
             },
             "pattern": {
              "fillmode": "overlay",
              "size": 10,
              "solidity": 0.2
             }
            },
            "type": "barpolar"
           }
          ],
          "carpet": [
           {
            "aaxis": {
             "endlinecolor": "#2a3f5f",
             "gridcolor": "white",
             "linecolor": "white",
             "minorgridcolor": "white",
             "startlinecolor": "#2a3f5f"
            },
            "baxis": {
             "endlinecolor": "#2a3f5f",
             "gridcolor": "white",
             "linecolor": "white",
             "minorgridcolor": "white",
             "startlinecolor": "#2a3f5f"
            },
            "type": "carpet"
           }
          ],
          "choropleth": [
           {
            "colorbar": {
             "outlinewidth": 0,
             "ticks": ""
            },
            "type": "choropleth"
           }
          ],
          "contour": [
           {
            "colorbar": {
             "outlinewidth": 0,
             "ticks": ""
            },
            "colorscale": [
             [
              0,
              "#0d0887"
             ],
             [
              0.1111111111111111,
              "#46039f"
             ],
             [
              0.2222222222222222,
              "#7201a8"
             ],
             [
              0.3333333333333333,
              "#9c179e"
             ],
             [
              0.4444444444444444,
              "#bd3786"
             ],
             [
              0.5555555555555556,
              "#d8576b"
             ],
             [
              0.6666666666666666,
              "#ed7953"
             ],
             [
              0.7777777777777778,
              "#fb9f3a"
             ],
             [
              0.8888888888888888,
              "#fdca26"
             ],
             [
              1,
              "#f0f921"
             ]
            ],
            "type": "contour"
           }
          ],
          "contourcarpet": [
           {
            "colorbar": {
             "outlinewidth": 0,
             "ticks": ""
            },
            "type": "contourcarpet"
           }
          ],
          "heatmap": [
           {
            "colorbar": {
             "outlinewidth": 0,
             "ticks": ""
            },
            "colorscale": [
             [
              0,
              "#0d0887"
             ],
             [
              0.1111111111111111,
              "#46039f"
             ],
             [
              0.2222222222222222,
              "#7201a8"
             ],
             [
              0.3333333333333333,
              "#9c179e"
             ],
             [
              0.4444444444444444,
              "#bd3786"
             ],
             [
              0.5555555555555556,
              "#d8576b"
             ],
             [
              0.6666666666666666,
              "#ed7953"
             ],
             [
              0.7777777777777778,
              "#fb9f3a"
             ],
             [
              0.8888888888888888,
              "#fdca26"
             ],
             [
              1,
              "#f0f921"
             ]
            ],
            "type": "heatmap"
           }
          ],
          "histogram": [
           {
            "marker": {
             "pattern": {
              "fillmode": "overlay",
              "size": 10,
              "solidity": 0.2
             }
            },
            "type": "histogram"
           }
          ],
          "histogram2d": [
           {
            "colorbar": {
             "outlinewidth": 0,
             "ticks": ""
            },
            "colorscale": [
             [
              0,
              "#0d0887"
             ],
             [
              0.1111111111111111,
              "#46039f"
             ],
             [
              0.2222222222222222,
              "#7201a8"
             ],
             [
              0.3333333333333333,
              "#9c179e"
             ],
             [
              0.4444444444444444,
              "#bd3786"
             ],
             [
              0.5555555555555556,
              "#d8576b"
             ],
             [
              0.6666666666666666,
              "#ed7953"
             ],
             [
              0.7777777777777778,
              "#fb9f3a"
             ],
             [
              0.8888888888888888,
              "#fdca26"
             ],
             [
              1,
              "#f0f921"
             ]
            ],
            "type": "histogram2d"
           }
          ],
          "histogram2dcontour": [
           {
            "colorbar": {
             "outlinewidth": 0,
             "ticks": ""
            },
            "colorscale": [
             [
              0,
              "#0d0887"
             ],
             [
              0.1111111111111111,
              "#46039f"
             ],
             [
              0.2222222222222222,
              "#7201a8"
             ],
             [
              0.3333333333333333,
              "#9c179e"
             ],
             [
              0.4444444444444444,
              "#bd3786"
             ],
             [
              0.5555555555555556,
              "#d8576b"
             ],
             [
              0.6666666666666666,
              "#ed7953"
             ],
             [
              0.7777777777777778,
              "#fb9f3a"
             ],
             [
              0.8888888888888888,
              "#fdca26"
             ],
             [
              1,
              "#f0f921"
             ]
            ],
            "type": "histogram2dcontour"
           }
          ],
          "mesh3d": [
           {
            "colorbar": {
             "outlinewidth": 0,
             "ticks": ""
            },
            "type": "mesh3d"
           }
          ],
          "parcoords": [
           {
            "line": {
             "colorbar": {
              "outlinewidth": 0,
              "ticks": ""
             }
            },
            "type": "parcoords"
           }
          ],
          "pie": [
           {
            "automargin": true,
            "type": "pie"
           }
          ],
          "scatter": [
           {
            "fillpattern": {
             "fillmode": "overlay",
             "size": 10,
             "solidity": 0.2
            },
            "type": "scatter"
           }
          ],
          "scatter3d": [
           {
            "line": {
             "colorbar": {
              "outlinewidth": 0,
              "ticks": ""
             }
            },
            "marker": {
             "colorbar": {
              "outlinewidth": 0,
              "ticks": ""
             }
            },
            "type": "scatter3d"
           }
          ],
          "scattercarpet": [
           {
            "marker": {
             "colorbar": {
              "outlinewidth": 0,
              "ticks": ""
             }
            },
            "type": "scattercarpet"
           }
          ],
          "scattergeo": [
           {
            "marker": {
             "colorbar": {
              "outlinewidth": 0,
              "ticks": ""
             }
            },
            "type": "scattergeo"
           }
          ],
          "scattergl": [
           {
            "marker": {
             "colorbar": {
              "outlinewidth": 0,
              "ticks": ""
             }
            },
            "type": "scattergl"
           }
          ],
          "scattermap": [
           {
            "marker": {
             "colorbar": {
              "outlinewidth": 0,
              "ticks": ""
             }
            },
            "type": "scattermap"
           }
          ],
          "scattermapbox": [
           {
            "marker": {
             "colorbar": {
              "outlinewidth": 0,
              "ticks": ""
             }
            },
            "type": "scattermapbox"
           }
          ],
          "scatterpolar": [
           {
            "marker": {
             "colorbar": {
              "outlinewidth": 0,
              "ticks": ""
             }
            },
            "type": "scatterpolar"
           }
          ],
          "scatterpolargl": [
           {
            "marker": {
             "colorbar": {
              "outlinewidth": 0,
              "ticks": ""
             }
            },
            "type": "scatterpolargl"
           }
          ],
          "scatterternary": [
           {
            "marker": {
             "colorbar": {
              "outlinewidth": 0,
              "ticks": ""
             }
            },
            "type": "scatterternary"
           }
          ],
          "surface": [
           {
            "colorbar": {
             "outlinewidth": 0,
             "ticks": ""
            },
            "colorscale": [
             [
              0,
              "#0d0887"
             ],
             [
              0.1111111111111111,
              "#46039f"
             ],
             [
              0.2222222222222222,
              "#7201a8"
             ],
             [
              0.3333333333333333,
              "#9c179e"
             ],
             [
              0.4444444444444444,
              "#bd3786"
             ],
             [
              0.5555555555555556,
              "#d8576b"
             ],
             [
              0.6666666666666666,
              "#ed7953"
             ],
             [
              0.7777777777777778,
              "#fb9f3a"
             ],
             [
              0.8888888888888888,
              "#fdca26"
             ],
             [
              1,
              "#f0f921"
             ]
            ],
            "type": "surface"
           }
          ],
          "table": [
           {
            "cells": {
             "fill": {
              "color": "#EBF0F8"
             },
             "line": {
              "color": "white"
             }
            },
            "header": {
             "fill": {
              "color": "#C8D4E3"
             },
             "line": {
              "color": "white"
             }
            },
            "type": "table"
           }
          ]
         },
         "layout": {
          "annotationdefaults": {
           "arrowcolor": "#2a3f5f",
           "arrowhead": 0,
           "arrowwidth": 1
          },
          "autotypenumbers": "strict",
          "coloraxis": {
           "colorbar": {
            "outlinewidth": 0,
            "ticks": ""
           }
          },
          "colorscale": {
           "diverging": [
            [
             0,
             "#8e0152"
            ],
            [
             0.1,
             "#c51b7d"
            ],
            [
             0.2,
             "#de77ae"
            ],
            [
             0.3,
             "#f1b6da"
            ],
            [
             0.4,
             "#fde0ef"
            ],
            [
             0.5,
             "#f7f7f7"
            ],
            [
             0.6,
             "#e6f5d0"
            ],
            [
             0.7,
             "#b8e186"
            ],
            [
             0.8,
             "#7fbc41"
            ],
            [
             0.9,
             "#4d9221"
            ],
            [
             1,
             "#276419"
            ]
           ],
           "sequential": [
            [
             0,
             "#0d0887"
            ],
            [
             0.1111111111111111,
             "#46039f"
            ],
            [
             0.2222222222222222,
             "#7201a8"
            ],
            [
             0.3333333333333333,
             "#9c179e"
            ],
            [
             0.4444444444444444,
             "#bd3786"
            ],
            [
             0.5555555555555556,
             "#d8576b"
            ],
            [
             0.6666666666666666,
             "#ed7953"
            ],
            [
             0.7777777777777778,
             "#fb9f3a"
            ],
            [
             0.8888888888888888,
             "#fdca26"
            ],
            [
             1,
             "#f0f921"
            ]
           ],
           "sequentialminus": [
            [
             0,
             "#0d0887"
            ],
            [
             0.1111111111111111,
             "#46039f"
            ],
            [
             0.2222222222222222,
             "#7201a8"
            ],
            [
             0.3333333333333333,
             "#9c179e"
            ],
            [
             0.4444444444444444,
             "#bd3786"
            ],
            [
             0.5555555555555556,
             "#d8576b"
            ],
            [
             0.6666666666666666,
             "#ed7953"
            ],
            [
             0.7777777777777778,
             "#fb9f3a"
            ],
            [
             0.8888888888888888,
             "#fdca26"
            ],
            [
             1,
             "#f0f921"
            ]
           ]
          },
          "colorway": [
           "#636efa",
           "#EF553B",
           "#00cc96",
           "#ab63fa",
           "#FFA15A",
           "#19d3f3",
           "#FF6692",
           "#B6E880",
           "#FF97FF",
           "#FECB52"
          ],
          "font": {
           "color": "#2a3f5f"
          },
          "geo": {
           "bgcolor": "white",
           "lakecolor": "white",
           "landcolor": "#E5ECF6",
           "showlakes": true,
           "showland": true,
           "subunitcolor": "white"
          },
          "hoverlabel": {
           "align": "left"
          },
          "hovermode": "closest",
          "mapbox": {
           "style": "light"
          },
          "paper_bgcolor": "white",
          "plot_bgcolor": "#E5ECF6",
          "polar": {
           "angularaxis": {
            "gridcolor": "white",
            "linecolor": "white",
            "ticks": ""
           },
           "bgcolor": "#E5ECF6",
           "radialaxis": {
            "gridcolor": "white",
            "linecolor": "white",
            "ticks": ""
           }
          },
          "scene": {
           "xaxis": {
            "backgroundcolor": "#E5ECF6",
            "gridcolor": "white",
            "gridwidth": 2,
            "linecolor": "white",
            "showbackground": true,
            "ticks": "",
            "zerolinecolor": "white"
           },
           "yaxis": {
            "backgroundcolor": "#E5ECF6",
            "gridcolor": "white",
            "gridwidth": 2,
            "linecolor": "white",
            "showbackground": true,
            "ticks": "",
            "zerolinecolor": "white"
           },
           "zaxis": {
            "backgroundcolor": "#E5ECF6",
            "gridcolor": "white",
            "gridwidth": 2,
            "linecolor": "white",
            "showbackground": true,
            "ticks": "",
            "zerolinecolor": "white"
           }
          },
          "shapedefaults": {
           "line": {
            "color": "#2a3f5f"
           }
          },
          "ternary": {
           "aaxis": {
            "gridcolor": "white",
            "linecolor": "white",
            "ticks": ""
           },
           "baxis": {
            "gridcolor": "white",
            "linecolor": "white",
            "ticks": ""
           },
           "bgcolor": "#E5ECF6",
           "caxis": {
            "gridcolor": "white",
            "linecolor": "white",
            "ticks": ""
           }
          },
          "title": {
           "x": 0.05
          },
          "xaxis": {
           "automargin": true,
           "gridcolor": "white",
           "linecolor": "white",
           "ticks": "",
           "title": {
            "standoff": 15
           },
           "zerolinecolor": "white",
           "zerolinewidth": 2
          },
          "yaxis": {
           "automargin": true,
           "gridcolor": "white",
           "linecolor": "white",
           "ticks": "",
           "title": {
            "standoff": 15
           },
           "zerolinecolor": "white",
           "zerolinewidth": 2
          }
         }
        },
        "title": {
         "text": "Distribuição dos Resultados (Mandante / Empate / Visitante)"
        },
        "xaxis": {
         "anchor": "y",
         "categoryarray": [
          "mandante",
          "empate",
          "visitante"
         ],
         "categoryorder": "array",
         "domain": [
          0,
          1
         ],
         "title": {
          "text": "resultado_partida"
         }
        },
        "yaxis": {
         "anchor": "x",
         "domain": [
          0,
          1
         ],
         "title": {
          "text": "count"
         }
        }
       }
      }
     },
     "metadata": {},
     "output_type": "display_data"
    }
   ],
   "source": [
    "# --- Distribuição dos resultados da partida ---\n",
    "fig_resultado = px.histogram(\n",
    "    df_modelo,\n",
    "    x=\"resultado_partida\",\n",
    "    color=\"resultado_partida\",\n",
    "    title=\"Distribuição dos Resultados (Mandante / Empate / Visitante)\",\n",
    "    text_auto=True,\n",
    "    color_discrete_map={\n",
    "        \"mandante\": \"blue\",\n",
    "        \"visitante\": \"red\",\n",
    "        \"empate\": \"gray\"\n",
    "    }\n",
    ")\n",
    "fig_resultado.show()"
   ]
  },
  {
   "cell_type": "code",
   "execution_count": 16,
   "id": "ebdc680c",
   "metadata": {},
   "outputs": [
    {
     "data": {
      "application/vnd.plotly.v1+json": {
       "config": {
        "plotlyServerURL": "https://plot.ly"
       },
       "data": [
        {
         "bingroup": "x",
         "hovertemplate": "total_gols=%{x}<br>count=%{y}<extra></extra>",
         "legendgroup": "",
         "marker": {
          "color": "#636efa",
          "pattern": {
           "shape": ""
          }
         },
         "name": "",
         "orientation": "v",
         "showlegend": false,
         "texttemplate": "%{value}",
         "type": "histogram",
         "x": {
          "bdata": "AwEAAwMBAgMAAAACAgQEAQMCAwEABQQGAQEDAQEDAgMCAwMCAgECBgIFAQECAgMAAQICBAEBAgIHAwUBAQAFAgIEAgABAgABAgIABAECAgMDAwMAAgQCAgEBAgABAgMDBQIEAQIBAwAEAQACAQEEBQMCAwMFAQMCAgMBAgABAgQDAgEAAgEBAgQBAwIBAgMBAwACBAICAgMBBwEAAgEDAQEBAQMEAgMBAAEBBgICAQIAAQMEAQQBAAIGAAUCAAECAQEDAwQBBgIDBAECAgMBAAIDBAIFAgAAAgQEBQECBQUBAwYEAQIDAwIBBQEDBAABAgACAgMBBAYCBAYDAQIBAQMDBAEBAQEAAQUEAwECAwEDAQEDAwMDAwMABgMEBAMBAgECAwECAgIBAQABAgMCBAICBQMCAwECBAEDAwMBAwECAQIEAwUBAwQBAgEDAwEBBQECAgEBAgECAQUDBAIDAwQBAgIDAgECBAQEAgcCAgEDAQMDAQEDAAIGAgUEAwYBAwUDAAIBAgIAAQUEAAEBAQIDAQEDAQACAQEDBAQDAgACBQMDAgEDAgUBBQQCAQQEAQIDAAEBAgIEAwEBAAMCAwQDAAMBAgECAwQBAgMCAQMBBAMBAQMBAwQCAgIDAQEDAAQAAAQDAgQBAgAFAQIDAgMDBAECAwQDAgEDAwQCAQMBAwEAAgICAQMCAwICAAEBBQEDBAEBAgAEBAIAAQACAAMCAQUEAwUDAgABAgcBAgMAAQYDAAMCAwMDAwcBAAMDAgMDAwEDAAQFAQMDAQMDBgAEAwECAAECAwIGAAIGAwQCAAIBAQECAgIDAAIBBAMCBAIDAQMCAwUCAAEDBAQDAgUCAgMFAwMCAgQCBAMEAgQDAwIEAwMCAgQEBQAGAQMDAwIBBAMEAgEEAwIEAQUEBQUBAQABAgADAQABAwMBAgIDAgADAQMBAwMFAgMBBQABAwQBAwYBAQACBgIEAQcAAwIAAQQFAgECAwMCAQQDAQMBAgMCAQACBgEEAQEFAAABAAEDBAIDAQMEBQIEAwQDAQQCAgUCAwIDAgMBAQIBAgIBAwcBAQECAQEHAQADAQMBCAEDAQMEAgUCAQUBAgMFAgYCAQEEAgEEBAEDAwQEAwUCAwQCAAMBAAYDAAIDAQUDAgMCBgADBQEFAwQFAQMCCAABBAEBBAMDAgQCAAIDAwEAAwMCBgQDAgICAgEGAwIBBAEBAwMBBQMCAQMEAgECBAADAgQCAAMAAgYCAQEEAwMEAgQCAQIDAQQEAwEBAQMBAwECBAMDAwMCAgEEAgIAAgMBBQMBBAEDAwQDAwIDAwEECAIDAwACBgQBAwEDAQICAQECAgIBAQQBBQEBAwEDBAMBAgEEAQQAAgUCAwEBBQMBBAEAAwIBAgMCAwACAAMGAQMBAQMCAAUDAgEDAgMBAgEEAAMCAwEBAQQCAQQAAgABAQAEAwUBBgEBAgMCAgEBAQIFAgICBAQBAgMBBgQCAQQCAAEBAwIGAQEDAgECBQAFAQACAgIFAAgEAQQCBQEBAwMBAwICAgIFAgQBAgEHAQECAQMCAQACAQACAwIBAQMCCQECBwEEAwQFBQICAgIBAAEEBAACAwEBAgEBAAIGAwQEAAYCAwEEAQEEAwIGAQEDAQICBQEBAgECAQIEAAEABAYDAQICBAICBQIDAQMBBAMBAgUCBQQGAwIEAAIDAgMEAQIEAAQCBAEAAwMDAQECAwICAgcCAwICBAIAAQQCAwUDAgQDBQEEBAIAAQICAwAAAAEBBQICAAUBAAECAAMCAgMCAAMBAQECAwYDAQIBBQIBBAICAQQCAwICAgEBBAIDAQQBAgIDBQEBAQQBAgICAQICAQEFAgEDAwQDAgIEAwEBBAECAQQBAgEDBAEBBQQAAgUCAgUCAwMEBAECAwIDAwAAAgECBwAEBAQDAQQEAgEFAgIDAQMEAQIDBQQEAQEEAgICAgIEAgMEAQIEAwYEAwECAQIAAwEEAwIDAwEBAwUEAgEDAgMBAgMDBAIDBwIBBAMCAwMGAgIBAQIEAAIBAwEAAgMBAwIAAwAAAwQFAgEEAgMGAgIAAgEFBQQDBAQDAQIDAQACAQIDAwQFAAEDAgMBBAEBBQUCAQUCAAECAAYDAQIHBAEEAwABAAIBAQICAgQBAgUEBgcBAgMAAAECAAMCAgEDBAEEAgICAQICAQQCAwUBBQEAAwQBAQEBAwMCAgIBAwUCBAUDAQIEAAIDAQIAAgIAAQIAAQQCBAEDBAEDAwEDAQIDAwACAgECAQACAgECAgEDAQEABAQDAgIBBAEDAQICAQMAAgICAwAAAwICAQMAAQEBAAEBAgIEAwICAgECAAAEAwMCBQMDAgEHAwMDAgEABAMBBAcEAAIDAQQCAwEEBAIDAQECBAIEAAIAAgEAAwQDAQMEBAIBBwMDAQICBAMDAQEFAwIBBAEDAQIBAwICBAIDAAECAwABAQMBAQICAwEBAQIDAQIBAAMCAgMBBAICAQMFAAIEAQACAQMAAQMAAwAFAQECAQICAwMFBQQBBAQBAwIBAgMFAwMDAgECAQADAgkBAwEAAwIEAwEBAAMFAwQAAgECBAIDAQEABQEDBQIBAwIBAQIBAwIEAwMBAQAAAAMEAAQBAQIDAgIDAgEEAgMCAQcBAAEDAgMAAgIEAQIEAAQCAwIBAAQFBAAAAwMHAgMAAgIGAgUFBAAEBAMBAwIBAgEFAQECAgECAQEDAwYCAwICAAABAQEDAgEBBQECBAEDAQUDAgIDAwEDAQQBAwECAgADAwMBAQIBAwMBAAgHAgIBBAUAAQIDAgIDAQECAwEBAwMAAQECAQQCAQQCAAQEAAMAAgECAgEBAAEFAgEEAQMDAgEBAwQDAwMCAQEEAgIDAwIABQICBQMDAQIEAwIEAQIEAwICBAEABQIBAgUCAwIFAgECAwIAAwMDAgADAQMBBAECCAICAQIBAQADAgADAQcBAQIEBQEBAwEDAQIFAwIBAgEDAgQDAwMCAQECAQYCAgcDAAMCAwIDAwUCAwQAAgEBAgEFBQIDAwEBAgICAgABAgMDAwIABAIDAgEEAwECAwQDAQECAwADAQICAQICAwIDAQECAwEDAgACCAMDAgQDBAMEBAECAwEBAgEGAgICAgQDAwEEAwIDAgEBBAUFBgECAQABBwEBAgICBAICBAQAAwIDAgIEAwUABQACAwMDAwYAAwMCAwACAQMDAwMDAwMEBAECAQgCAgIDBAYCAgIAAAQDAgMEAwQDAAQBAQEFBAIBAwMDAwEEAgEEAAECAwICAQMFBgICAwMCAAQEAQQCAwMAAQECAgEDBgMEAAMFAAMABAEEAgEEBAABBAEDAwMFAQECAAMDAwIBAQcCAgMDAgEAAwIDAQIDAwMCAQMCBgMAAAEBAgECAwAEBQECAgMEAwYBBAMEAQIGBAICBQYDAgMDAwcCAgIFAgICAwYAAgMCAgMDAwIGAgQBAQMBAAIGAgIHAwMCBgACAgICAwMDAwQAAQECAgADBQIBAAQCAQIDBQMEAAICAgEEAwMBBQEDAQQAAgEBBgMEAQYEAAIBAgEAAQQBAQIDAAMBAAEDAwACAwICAQUCBAMEAQIDAwMDBAECBQQAAAICAgEFBQcDAAAFAgACAgMCAQEBAwIBAgMCBAECAwICAAEABQQBAQMCBAMBAQEDBQMFBAEBAQMCAQMGAQEDAAEDAAAEAgEBBAIBAAMBAAMABAIFAwMCAgQBAwIGAwIBAgICAgEEAQICAgAEAgIAAgEDAgACAAMGAwICAwMCBAICAwABAgMDAQMCAQACBAABAwIDAgMGAQAAAgMEAgMCAwECBAAEAgQCBAIDBAABAgMHAQIGAAECBAQBAAECAQQDAQEDBQQAAAABAwIAAgQDBAMBAwIDAgIDAQEABAEBAgMBBAEDAAEBAgECAgEBAQQDAgMEAQMDAgUABAMDBAMDAgUBAwECAAQCAQEBAgEEAgIAAgMCBAQCAwABBAIBAwICAwEDAwQFAwECAQECBwIABAABAQMBAgECAwcCAwECAQACAwQCAQQBBQQCBQMDBAMBBAQBAAIBAwEDAQIEBQEBAgQCBQEAAwMBAQIBBQECAgMCAgQEAgMBBAMBAwECAAMCAQMCAgIEAgEBAQMCAwIBAwQCAgEBAwACAwIEAwEBBAICAggCAgICAgECAAQBBgADAgMBBgUCAAABAgEBBQQCBAMGAAMDAQQCAAEFAwQDAgMDAQMCAQQDAwQBAAACAQEAAgEABAEBAwQBBQMFBAYBAgEEAgYDAQMDAwEAAgEDAQEFAQMBBAEEAQICAwIBAwMFAwIBAQEBAwUBAwABBwQCAgICAQEBAQMCAQIAAQAEAQIBBAICBAQCAgMCAQMDAgACAgIDAQICAwIBAgEEAwQBAwUEAgMBAAEBAwICAwUBAgQFAwICBAQDAwMAAwYCAQACAwMCBQMBAgACAQEDAgQGAwEDBAMBAgMAAwQFAwQBAQQDAgABAgEFAwUBBAMEBAIFAQEBAgICAgIDBAYBAwMDAgQDAwMDBAIBAgUBAwMCAwMCAwMBAwICAwMABAMEAQMGAgUDAwUDAQMBAwMEAgMCBgUCAgQCBAMCAgMAAgUFAgIBAgAFBAMCAgEDAwIGAQQAAQMCAgICAgICAgMAAQECAwMBBAIFAAIEAgQDAgMEAgEDAgEEAQEBAgQBAwMBBgUCAwEBAQIDAQIEBAMAAwIBBAEHAAIBAgIAAQUAAAICAAIEAwABBAACAQIGAQMDBAAFBQIDAgQBAgEEAAEDAwEDBAECBAQBAgIBAAIEAQUDBAICAAICAwMEBAEDAgACAgABAgIAAwMDBgMDBAIGAQEDCAACBgMDAQEBAQEDAQIDAwUCAgMCAgoABQMCAgMFAgADAwMCAgQBAQIGAgMCAgEIAQECAgMFCAMFAwEFAwcBAgIHAgECAQECAwMCAgEEBwECAgEDAQEBAAMAAgECAQcDAwECAQQDAAIDAwEEBAEBAAYDAgAEAwEDAQIDAwEGAwIDAgQDAQMFAwABAQEDAQMFAgMEBQMBAgMCAwQDAAUBAwQDAgECAgIDAwEDAQEEAQADBgMEAwIDBAICAgEABAIEAQIDAAICAQIDAQMCAgECAwIHAgEBAAEHAgQBAwMABAMCAQMEAwIFAAQDAwQDAgIBAQYDAQIDAwABAQIFAgMEBQMCAgMCAQMDAwMCAgIBBAMDAQICAwIBBAICBQQGAwICAwMBAwMDAgMCAgQEAwIBAwMDAgEBAwEEAwECAQIAAQQBAgICBAMEAQIDAgIBAgMDAQMBAQQFAwICAQIBAwEEBQECAgQCAgADAgIDBAMBBQMABAMFAQABAwEDAgMAAQMEBQMEAQIDAgIAAwICBQQDAQIDAwMBAwEBAwAFBAAFAwQDAgEBBAEEAgEAAgEABAECAgQEAgMHAgIDAAIBAQIIAQEEBgQDAwEEAgEFAgADAwQCAwIDAQECAAMDAwMAAQMAAQMBAgIDAwQBAAICAQQFAgQEAAAEBQIDBgUDAgICBAMCAwMCAQMEAQMDAwQDAQEBAgYD",
          "dtype": "i1"
         },
         "xaxis": "x",
         "yaxis": "y"
        }
       ],
       "layout": {
        "bargap": 0.1,
        "barmode": "relative",
        "legend": {
         "tracegroupgap": 0
        },
        "template": {
         "data": {
          "bar": [
           {
            "error_x": {
             "color": "#2a3f5f"
            },
            "error_y": {
             "color": "#2a3f5f"
            },
            "marker": {
             "line": {
              "color": "#E5ECF6",
              "width": 0.5
             },
             "pattern": {
              "fillmode": "overlay",
              "size": 10,
              "solidity": 0.2
             }
            },
            "type": "bar"
           }
          ],
          "barpolar": [
           {
            "marker": {
             "line": {
              "color": "#E5ECF6",
              "width": 0.5
             },
             "pattern": {
              "fillmode": "overlay",
              "size": 10,
              "solidity": 0.2
             }
            },
            "type": "barpolar"
           }
          ],
          "carpet": [
           {
            "aaxis": {
             "endlinecolor": "#2a3f5f",
             "gridcolor": "white",
             "linecolor": "white",
             "minorgridcolor": "white",
             "startlinecolor": "#2a3f5f"
            },
            "baxis": {
             "endlinecolor": "#2a3f5f",
             "gridcolor": "white",
             "linecolor": "white",
             "minorgridcolor": "white",
             "startlinecolor": "#2a3f5f"
            },
            "type": "carpet"
           }
          ],
          "choropleth": [
           {
            "colorbar": {
             "outlinewidth": 0,
             "ticks": ""
            },
            "type": "choropleth"
           }
          ],
          "contour": [
           {
            "colorbar": {
             "outlinewidth": 0,
             "ticks": ""
            },
            "colorscale": [
             [
              0,
              "#0d0887"
             ],
             [
              0.1111111111111111,
              "#46039f"
             ],
             [
              0.2222222222222222,
              "#7201a8"
             ],
             [
              0.3333333333333333,
              "#9c179e"
             ],
             [
              0.4444444444444444,
              "#bd3786"
             ],
             [
              0.5555555555555556,
              "#d8576b"
             ],
             [
              0.6666666666666666,
              "#ed7953"
             ],
             [
              0.7777777777777778,
              "#fb9f3a"
             ],
             [
              0.8888888888888888,
              "#fdca26"
             ],
             [
              1,
              "#f0f921"
             ]
            ],
            "type": "contour"
           }
          ],
          "contourcarpet": [
           {
            "colorbar": {
             "outlinewidth": 0,
             "ticks": ""
            },
            "type": "contourcarpet"
           }
          ],
          "heatmap": [
           {
            "colorbar": {
             "outlinewidth": 0,
             "ticks": ""
            },
            "colorscale": [
             [
              0,
              "#0d0887"
             ],
             [
              0.1111111111111111,
              "#46039f"
             ],
             [
              0.2222222222222222,
              "#7201a8"
             ],
             [
              0.3333333333333333,
              "#9c179e"
             ],
             [
              0.4444444444444444,
              "#bd3786"
             ],
             [
              0.5555555555555556,
              "#d8576b"
             ],
             [
              0.6666666666666666,
              "#ed7953"
             ],
             [
              0.7777777777777778,
              "#fb9f3a"
             ],
             [
              0.8888888888888888,
              "#fdca26"
             ],
             [
              1,
              "#f0f921"
             ]
            ],
            "type": "heatmap"
           }
          ],
          "histogram": [
           {
            "marker": {
             "pattern": {
              "fillmode": "overlay",
              "size": 10,
              "solidity": 0.2
             }
            },
            "type": "histogram"
           }
          ],
          "histogram2d": [
           {
            "colorbar": {
             "outlinewidth": 0,
             "ticks": ""
            },
            "colorscale": [
             [
              0,
              "#0d0887"
             ],
             [
              0.1111111111111111,
              "#46039f"
             ],
             [
              0.2222222222222222,
              "#7201a8"
             ],
             [
              0.3333333333333333,
              "#9c179e"
             ],
             [
              0.4444444444444444,
              "#bd3786"
             ],
             [
              0.5555555555555556,
              "#d8576b"
             ],
             [
              0.6666666666666666,
              "#ed7953"
             ],
             [
              0.7777777777777778,
              "#fb9f3a"
             ],
             [
              0.8888888888888888,
              "#fdca26"
             ],
             [
              1,
              "#f0f921"
             ]
            ],
            "type": "histogram2d"
           }
          ],
          "histogram2dcontour": [
           {
            "colorbar": {
             "outlinewidth": 0,
             "ticks": ""
            },
            "colorscale": [
             [
              0,
              "#0d0887"
             ],
             [
              0.1111111111111111,
              "#46039f"
             ],
             [
              0.2222222222222222,
              "#7201a8"
             ],
             [
              0.3333333333333333,
              "#9c179e"
             ],
             [
              0.4444444444444444,
              "#bd3786"
             ],
             [
              0.5555555555555556,
              "#d8576b"
             ],
             [
              0.6666666666666666,
              "#ed7953"
             ],
             [
              0.7777777777777778,
              "#fb9f3a"
             ],
             [
              0.8888888888888888,
              "#fdca26"
             ],
             [
              1,
              "#f0f921"
             ]
            ],
            "type": "histogram2dcontour"
           }
          ],
          "mesh3d": [
           {
            "colorbar": {
             "outlinewidth": 0,
             "ticks": ""
            },
            "type": "mesh3d"
           }
          ],
          "parcoords": [
           {
            "line": {
             "colorbar": {
              "outlinewidth": 0,
              "ticks": ""
             }
            },
            "type": "parcoords"
           }
          ],
          "pie": [
           {
            "automargin": true,
            "type": "pie"
           }
          ],
          "scatter": [
           {
            "fillpattern": {
             "fillmode": "overlay",
             "size": 10,
             "solidity": 0.2
            },
            "type": "scatter"
           }
          ],
          "scatter3d": [
           {
            "line": {
             "colorbar": {
              "outlinewidth": 0,
              "ticks": ""
             }
            },
            "marker": {
             "colorbar": {
              "outlinewidth": 0,
              "ticks": ""
             }
            },
            "type": "scatter3d"
           }
          ],
          "scattercarpet": [
           {
            "marker": {
             "colorbar": {
              "outlinewidth": 0,
              "ticks": ""
             }
            },
            "type": "scattercarpet"
           }
          ],
          "scattergeo": [
           {
            "marker": {
             "colorbar": {
              "outlinewidth": 0,
              "ticks": ""
             }
            },
            "type": "scattergeo"
           }
          ],
          "scattergl": [
           {
            "marker": {
             "colorbar": {
              "outlinewidth": 0,
              "ticks": ""
             }
            },
            "type": "scattergl"
           }
          ],
          "scattermap": [
           {
            "marker": {
             "colorbar": {
              "outlinewidth": 0,
              "ticks": ""
             }
            },
            "type": "scattermap"
           }
          ],
          "scattermapbox": [
           {
            "marker": {
             "colorbar": {
              "outlinewidth": 0,
              "ticks": ""
             }
            },
            "type": "scattermapbox"
           }
          ],
          "scatterpolar": [
           {
            "marker": {
             "colorbar": {
              "outlinewidth": 0,
              "ticks": ""
             }
            },
            "type": "scatterpolar"
           }
          ],
          "scatterpolargl": [
           {
            "marker": {
             "colorbar": {
              "outlinewidth": 0,
              "ticks": ""
             }
            },
            "type": "scatterpolargl"
           }
          ],
          "scatterternary": [
           {
            "marker": {
             "colorbar": {
              "outlinewidth": 0,
              "ticks": ""
             }
            },
            "type": "scatterternary"
           }
          ],
          "surface": [
           {
            "colorbar": {
             "outlinewidth": 0,
             "ticks": ""
            },
            "colorscale": [
             [
              0,
              "#0d0887"
             ],
             [
              0.1111111111111111,
              "#46039f"
             ],
             [
              0.2222222222222222,
              "#7201a8"
             ],
             [
              0.3333333333333333,
              "#9c179e"
             ],
             [
              0.4444444444444444,
              "#bd3786"
             ],
             [
              0.5555555555555556,
              "#d8576b"
             ],
             [
              0.6666666666666666,
              "#ed7953"
             ],
             [
              0.7777777777777778,
              "#fb9f3a"
             ],
             [
              0.8888888888888888,
              "#fdca26"
             ],
             [
              1,
              "#f0f921"
             ]
            ],
            "type": "surface"
           }
          ],
          "table": [
           {
            "cells": {
             "fill": {
              "color": "#EBF0F8"
             },
             "line": {
              "color": "white"
             }
            },
            "header": {
             "fill": {
              "color": "#C8D4E3"
             },
             "line": {
              "color": "white"
             }
            },
            "type": "table"
           }
          ]
         },
         "layout": {
          "annotationdefaults": {
           "arrowcolor": "#2a3f5f",
           "arrowhead": 0,
           "arrowwidth": 1
          },
          "autotypenumbers": "strict",
          "coloraxis": {
           "colorbar": {
            "outlinewidth": 0,
            "ticks": ""
           }
          },
          "colorscale": {
           "diverging": [
            [
             0,
             "#8e0152"
            ],
            [
             0.1,
             "#c51b7d"
            ],
            [
             0.2,
             "#de77ae"
            ],
            [
             0.3,
             "#f1b6da"
            ],
            [
             0.4,
             "#fde0ef"
            ],
            [
             0.5,
             "#f7f7f7"
            ],
            [
             0.6,
             "#e6f5d0"
            ],
            [
             0.7,
             "#b8e186"
            ],
            [
             0.8,
             "#7fbc41"
            ],
            [
             0.9,
             "#4d9221"
            ],
            [
             1,
             "#276419"
            ]
           ],
           "sequential": [
            [
             0,
             "#0d0887"
            ],
            [
             0.1111111111111111,
             "#46039f"
            ],
            [
             0.2222222222222222,
             "#7201a8"
            ],
            [
             0.3333333333333333,
             "#9c179e"
            ],
            [
             0.4444444444444444,
             "#bd3786"
            ],
            [
             0.5555555555555556,
             "#d8576b"
            ],
            [
             0.6666666666666666,
             "#ed7953"
            ],
            [
             0.7777777777777778,
             "#fb9f3a"
            ],
            [
             0.8888888888888888,
             "#fdca26"
            ],
            [
             1,
             "#f0f921"
            ]
           ],
           "sequentialminus": [
            [
             0,
             "#0d0887"
            ],
            [
             0.1111111111111111,
             "#46039f"
            ],
            [
             0.2222222222222222,
             "#7201a8"
            ],
            [
             0.3333333333333333,
             "#9c179e"
            ],
            [
             0.4444444444444444,
             "#bd3786"
            ],
            [
             0.5555555555555556,
             "#d8576b"
            ],
            [
             0.6666666666666666,
             "#ed7953"
            ],
            [
             0.7777777777777778,
             "#fb9f3a"
            ],
            [
             0.8888888888888888,
             "#fdca26"
            ],
            [
             1,
             "#f0f921"
            ]
           ]
          },
          "colorway": [
           "#636efa",
           "#EF553B",
           "#00cc96",
           "#ab63fa",
           "#FFA15A",
           "#19d3f3",
           "#FF6692",
           "#B6E880",
           "#FF97FF",
           "#FECB52"
          ],
          "font": {
           "color": "#2a3f5f"
          },
          "geo": {
           "bgcolor": "white",
           "lakecolor": "white",
           "landcolor": "#E5ECF6",
           "showlakes": true,
           "showland": true,
           "subunitcolor": "white"
          },
          "hoverlabel": {
           "align": "left"
          },
          "hovermode": "closest",
          "mapbox": {
           "style": "light"
          },
          "paper_bgcolor": "white",
          "plot_bgcolor": "#E5ECF6",
          "polar": {
           "angularaxis": {
            "gridcolor": "white",
            "linecolor": "white",
            "ticks": ""
           },
           "bgcolor": "#E5ECF6",
           "radialaxis": {
            "gridcolor": "white",
            "linecolor": "white",
            "ticks": ""
           }
          },
          "scene": {
           "xaxis": {
            "backgroundcolor": "#E5ECF6",
            "gridcolor": "white",
            "gridwidth": 2,
            "linecolor": "white",
            "showbackground": true,
            "ticks": "",
            "zerolinecolor": "white"
           },
           "yaxis": {
            "backgroundcolor": "#E5ECF6",
            "gridcolor": "white",
            "gridwidth": 2,
            "linecolor": "white",
            "showbackground": true,
            "ticks": "",
            "zerolinecolor": "white"
           },
           "zaxis": {
            "backgroundcolor": "#E5ECF6",
            "gridcolor": "white",
            "gridwidth": 2,
            "linecolor": "white",
            "showbackground": true,
            "ticks": "",
            "zerolinecolor": "white"
           }
          },
          "shapedefaults": {
           "line": {
            "color": "#2a3f5f"
           }
          },
          "ternary": {
           "aaxis": {
            "gridcolor": "white",
            "linecolor": "white",
            "ticks": ""
           },
           "baxis": {
            "gridcolor": "white",
            "linecolor": "white",
            "ticks": ""
           },
           "bgcolor": "#E5ECF6",
           "caxis": {
            "gridcolor": "white",
            "linecolor": "white",
            "ticks": ""
           }
          },
          "title": {
           "x": 0.05
          },
          "xaxis": {
           "automargin": true,
           "gridcolor": "white",
           "linecolor": "white",
           "ticks": "",
           "title": {
            "standoff": 15
           },
           "zerolinecolor": "white",
           "zerolinewidth": 2
          },
          "yaxis": {
           "automargin": true,
           "gridcolor": "white",
           "linecolor": "white",
           "ticks": "",
           "title": {
            "standoff": 15
           },
           "zerolinecolor": "white",
           "zerolinewidth": 2
          }
         }
        },
        "title": {
         "text": "Distribuição do Total de Gols por Partida"
        },
        "xaxis": {
         "anchor": "y",
         "categoryarray": [
          0,
          1,
          2,
          3,
          4,
          5,
          6,
          7,
          8,
          9,
          10
         ],
         "categoryorder": "array",
         "domain": [
          0,
          1
         ],
         "dtick": 1,
         "tick0": 0,
         "tickmode": "linear",
         "title": {
          "text": "total_gols"
         }
        },
        "yaxis": {
         "anchor": "x",
         "domain": [
          0,
          1
         ],
         "title": {
          "text": "count"
         }
        }
       }
      }
     },
     "metadata": {},
     "output_type": "display_data"
    }
   ],
   "source": [
    "# --- Distribuição do total de gols ---\n",
    "fig_gols = px.histogram(\n",
    "    df_modelo,\n",
    "    x=\"total_gols\",\n",
    "    title=\"Distribuição do Total de Gols por Partida\",\n",
    "    text_auto=True,\n",
    "    category_orders={\"total_gols\": sorted(df_modelo['total_gols'].unique())}\n",
    ")\n",
    "# Corrigir espaçamento dos ticks\n",
    "fig_gols.update_layout(\n",
    "    xaxis=dict(\n",
    "        tickmode='linear',\n",
    "        tick0=0,\n",
    "        dtick=1\n",
    "    ),\n",
    "    bargap=0.1\n",
    ")\n",
    "\n",
    "fig_gols.show()"
   ]
  },
  {
   "cell_type": "code",
   "execution_count": 17,
   "id": "512f789f",
   "metadata": {},
   "outputs": [
    {
     "data": {
      "application/vnd.plotly.v1+json": {
       "config": {
        "plotlyServerURL": "https://plot.ly"
       },
       "data": [
        {
         "bingroup": "x",
         "hovertemplate": "dia_semana=%{x}<br>count=%{y}<extra></extra>",
         "legendgroup": "",
         "marker": {
          "color": "green",
          "pattern": {
           "shape": ""
          }
         },
         "name": "",
         "orientation": "v",
         "showlegend": false,
         "texttemplate": "%{value}",
         "type": "histogram",
         "x": [
          "sáb",
          "sáb",
          "dom",
          "dom",
          "dom",
          "dom",
          "dom",
          "dom",
          "dom",
          "sáb",
          "sáb",
          "dom",
          "dom",
          "dom",
          "dom",
          "dom",
          "dom",
          "dom",
          "dom",
          "sáb",
          "sáb",
          "sáb",
          "sáb",
          "dom",
          "dom",
          "dom",
          "dom",
          "dom",
          "dom",
          "sáb",
          "sáb",
          "sáb",
          "dom",
          "dom",
          "dom",
          "dom",
          "dom",
          "dom",
          "dom",
          "sáb",
          "qua",
          "sáb",
          "dom",
          "dom",
          "dom",
          "dom",
          "dom",
          "dom",
          "dom",
          "qua",
          "qua",
          "qui",
          "qui",
          "qua",
          "qua",
          "qua",
          "qua",
          "qua",
          "qui",
          "sáb",
          "dom",
          "dom",
          "dom",
          "dom",
          "dom",
          "dom",
          "dom",
          "dom",
          "sáb",
          "qua",
          "qua",
          "qua",
          "qui",
          "qua",
          "qua",
          "qua",
          "qua",
          "qua",
          "qui",
          "sáb",
          "sáb",
          "dom",
          "dom",
          "dom",
          "dom",
          "dom",
          "dom",
          "dom",
          "sáb",
          "qua",
          "qua",
          "qua",
          "qua",
          "qui",
          "qui",
          "qua",
          "qua",
          "qua",
          "qui",
          "sáb",
          "sáb",
          "sáb",
          "dom",
          "dom",
          "dom",
          "dom",
          "dom",
          "dom",
          "sáb",
          "sáb",
          "sáb",
          "sáb",
          "dom",
          "dom",
          "dom",
          "dom",
          "dom",
          "dom",
          "sáb",
          "sáb",
          "sáb",
          "dom",
          "dom",
          "dom",
          "dom",
          "dom",
          "dom",
          "dom",
          "sáb",
          "qua",
          "sáb",
          "sáb",
          "dom",
          "dom",
          "dom",
          "dom",
          "dom",
          "dom",
          "dom",
          "sáb",
          "sáb",
          "dom",
          "dom",
          "dom",
          "dom",
          "dom",
          "dom",
          "dom",
          "dom",
          "sáb",
          "qua",
          "qua",
          "qua",
          "qui",
          "qui",
          "qua",
          "qua",
          "qua",
          "qua",
          "qua",
          "sáb",
          "sáb",
          "dom",
          "dom",
          "dom",
          "dom",
          "dom",
          "dom",
          "dom",
          "sáb",
          "sáb",
          "sáb",
          "dom",
          "dom",
          "dom",
          "dom",
          "dom",
          "dom",
          "dom",
          "dom",
          "sáb",
          "sáb",
          "dom",
          "dom",
          "dom",
          "dom",
          "dom",
          "dom",
          "dom",
          "sáb",
          "qua",
          "qua",
          "qua",
          "qui",
          "qui",
          "qua",
          "qua",
          "qua",
          "qua",
          "qua",
          "sáb",
          "sáb",
          "dom",
          "dom",
          "dom",
          "dom",
          "dom",
          "dom",
          "dom",
          "sáb",
          "qua",
          "qua",
          "qui",
          "qui",
          "qui",
          "qua",
          "qua",
          "qua",
          "qua",
          "qua",
          "sáb",
          "dom",
          "dom",
          "dom",
          "dom",
          "dom",
          "dom",
          "dom",
          "dom",
          "sáb",
          "qua",
          "qua",
          "qui",
          "qui",
          "qui",
          "qua",
          "qua",
          "qua",
          "qua",
          "qua",
          "sáb",
          "sáb",
          "dom",
          "dom",
          "dom",
          "dom",
          "dom",
          "dom",
          "dom",
          "sáb",
          "qui",
          "sáb",
          "sáb",
          "sáb",
          "sáb",
          "sáb",
          "sáb",
          "sáb",
          "sáb",
          "sáb",
          "qua",
          "qua",
          "qua",
          "qui",
          "qui",
          "qui",
          "qua",
          "qua",
          "qua",
          "qua",
          "sáb",
          "sáb",
          "dom",
          "dom",
          "dom",
          "dom",
          "dom",
          "dom",
          "dom",
          "sáb",
          "sáb",
          "sáb",
          "sáb",
          "dom",
          "dom",
          "dom",
          "dom",
          "dom",
          "dom",
          "sáb",
          "ter",
          "qua",
          "qua",
          "qua",
          "qua",
          "qua",
          "qua",
          "qua",
          "qua",
          "qua",
          "sáb",
          "sáb",
          "sáb",
          "sáb",
          "sáb",
          "sáb",
          "sáb",
          "sáb",
          "sáb",
          "seg",
          "sáb",
          "sáb",
          "sáb",
          "dom",
          "dom",
          "dom",
          "dom",
          "dom",
          "dom",
          "dom",
          "sáb",
          "sáb",
          "sáb",
          "dom",
          "dom",
          "dom",
          "dom",
          "dom",
          "dom",
          "dom",
          "qua",
          "sáb",
          "sáb",
          "dom",
          "dom",
          "dom",
          "dom",
          "dom",
          "dom",
          "dom",
          "dom",
          "qua",
          "qua",
          "qua",
          "qua",
          "qua",
          "qui",
          "qui",
          "qua",
          "qua",
          "sáb",
          "sáb",
          "dom",
          "dom",
          "dom",
          "dom",
          "dom",
          "dom",
          "dom",
          "dom",
          "sáb",
          "sáb",
          "sáb",
          "dom",
          "dom",
          "dom",
          "dom",
          "dom",
          "dom",
          "dom",
          "sáb",
          "sáb",
          "dom",
          "dom",
          "dom",
          "dom",
          "dom",
          "dom",
          "dom",
          "dom",
          "sáb",
          "sáb",
          "dom",
          "dom",
          "dom",
          "dom",
          "dom",
          "dom",
          "dom",
          "sáb",
          "sáb",
          "sáb",
          "dom",
          "dom",
          "dom",
          "dom",
          "dom",
          "dom",
          "dom",
          "sáb",
          "sáb",
          "sáb",
          "dom",
          "dom",
          "dom",
          "dom",
          "dom",
          "dom",
          "dom",
          "sáb",
          "sáb",
          "sáb",
          "dom",
          "dom",
          "dom",
          "dom",
          "dom",
          "dom",
          "dom",
          "sáb",
          "qua",
          "qua",
          "qua",
          "qui",
          "qua",
          "qua",
          "qua",
          "qua",
          "qui",
          "qui",
          "sáb",
          "sáb",
          "sáb",
          "dom",
          "dom",
          "dom",
          "dom",
          "sáb",
          "sáb",
          "sáb",
          "qua",
          "sáb",
          "sáb",
          "sáb",
          "dom",
          "dom",
          "dom",
          "dom",
          "sáb",
          "sáb",
          "qui",
          "sáb",
          "sáb",
          "sáb",
          "dom",
          "dom",
          "dom",
          "dom",
          "sáb",
          "qua",
          "sáb",
          "sáb",
          "dom",
          "dom",
          "dom",
          "dom",
          "dom",
          "dom",
          "dom",
          "sáb",
          "qua",
          "qua",
          "qui",
          "qui",
          "qua",
          "qua",
          "qua",
          "qua",
          "qua",
          "qui",
          "sáb",
          "dom",
          "dom",
          "dom",
          "dom",
          "dom",
          "dom",
          "dom",
          "sáb",
          "sáb",
          "qua",
          "qua",
          "qua",
          "qui",
          "qua",
          "qua",
          "qua",
          "qua",
          "qua",
          "qui",
          "sáb",
          "sáb",
          "dom",
          "dom",
          "dom",
          "dom",
          "dom",
          "dom",
          "dom",
          "sáb",
          "sáb",
          "sáb",
          "dom",
          "dom",
          "dom",
          "dom",
          "dom",
          "dom",
          "dom",
          "sáb",
          "sáb",
          "sáb",
          "dom",
          "dom",
          "dom",
          "dom",
          "dom",
          "dom",
          "dom",
          "sáb",
          "qua",
          "qua",
          "sáb",
          "dom",
          "dom",
          "dom",
          "dom",
          "dom",
          "dom",
          "dom",
          "sáb",
          "dom",
          "dom",
          "dom",
          "dom",
          "dom",
          "dom",
          "dom",
          "dom",
          "sáb",
          "qua",
          "qua",
          "qui",
          "qua",
          "qua",
          "qua",
          "qua",
          "qua",
          "qui",
          "qui",
          "sáb",
          "sáb",
          "dom",
          "dom",
          "dom",
          "dom",
          "dom",
          "dom",
          "dom",
          "sáb",
          "sáb",
          "sáb",
          "dom",
          "dom",
          "dom",
          "dom",
          "dom",
          "dom",
          "dom",
          "sáb",
          "sáb",
          "dom",
          "dom",
          "dom",
          "dom",
          "dom",
          "dom",
          "dom",
          "dom",
          "sáb",
          "qua",
          "qua",
          "qua",
          "qui",
          "qua",
          "qua",
          "qua",
          "qua",
          "qua",
          "qui",
          "sáb",
          "sáb",
          "dom",
          "dom",
          "dom",
          "dom",
          "dom",
          "dom",
          "dom",
          "sáb",
          "qua",
          "qua",
          "qua",
          "qui",
          "qua",
          "qua",
          "qua",
          "qua",
          "qui",
          "qui",
          "sáb",
          "dom",
          "dom",
          "dom",
          "dom",
          "dom",
          "dom",
          "dom",
          "dom",
          "sáb",
          "qua",
          "qua",
          "qua",
          "qui",
          "qua",
          "qua",
          "qua",
          "qua",
          "qua",
          "qui",
          "sáb",
          "sáb",
          "dom",
          "dom",
          "dom",
          "dom",
          "dom",
          "dom",
          "dom",
          "sáb",
          "sáb",
          "dom",
          "dom",
          "dom",
          "dom",
          "dom",
          "dom",
          "dom",
          "dom",
          "sáb",
          "sáb",
          "sáb",
          "dom",
          "dom",
          "dom",
          "dom",
          "dom",
          "dom",
          "dom",
          "sáb",
          "qua",
          "qua",
          "qui",
          "qui",
          "qua",
          "qua",
          "qua",
          "qua",
          "qua",
          "qui",
          "sáb",
          "dom",
          "dom",
          "dom",
          "dom",
          "dom",
          "dom",
          "dom",
          "dom",
          "sáb",
          "sáb",
          "sáb",
          "sáb",
          "sáb",
          "dom",
          "dom",
          "dom",
          "dom",
          "dom",
          "dom",
          "sáb",
          "sáb",
          "sáb",
          "sáb",
          "dom",
          "dom",
          "dom",
          "dom",
          "dom",
          "dom",
          "sáb",
          "sáb",
          "sáb",
          "sáb",
          "dom",
          "dom",
          "dom",
          "dom",
          "dom",
          "dom",
          "dom",
          "qua",
          "qua",
          "qua",
          "qua",
          "qui",
          "qui",
          "qui",
          "qui",
          "qui",
          "sáb",
          "dom",
          "dom",
          "dom",
          "dom",
          "dom",
          "dom",
          "dom",
          "dom",
          "dom",
          "sáb",
          "sáb",
          "sáb",
          "dom",
          "dom",
          "dom",
          "dom",
          "dom",
          "dom",
          "dom",
          "dom",
          "dom",
          "dom",
          "dom",
          "dom",
          "dom",
          "dom",
          "dom",
          "dom",
          "dom",
          "sáb",
          "sáb",
          "sáb",
          "dom",
          "dom",
          "dom",
          "dom",
          "dom",
          "dom",
          "sáb",
          "sáb",
          "sáb",
          "dom",
          "dom",
          "dom",
          "dom",
          "dom",
          "dom",
          "dom",
          "sáb",
          "qua",
          "qua",
          "qui",
          "qui",
          "qua",
          "qua",
          "qua",
          "qua",
          "qua",
          "qui",
          "sáb",
          "sáb",
          "dom",
          "dom",
          "dom",
          "dom",
          "dom",
          "dom",
          "dom",
          "sáb",
          "qua",
          "qui",
          "qua",
          "qua",
          "qua",
          "qua",
          "qua",
          "qua",
          "qui",
          "qui",
          "sáb",
          "sáb",
          "sáb",
          "dom",
          "dom",
          "dom",
          "dom",
          "dom",
          "dom",
          "dom",
          "sáb",
          "sáb",
          "sáb",
          "dom",
          "dom",
          "dom",
          "dom",
          "dom",
          "dom",
          "sáb",
          "qua",
          "qua",
          "qua",
          "qui",
          "qui",
          "qua",
          "qua",
          "qua",
          "qua",
          "qua",
          "sáb",
          "sáb",
          "dom",
          "dom",
          "dom",
          "dom",
          "dom",
          "dom",
          "dom",
          "sáb",
          "qua",
          "ter",
          "qui",
          "qui",
          "qua",
          "qua",
          "qua",
          "qua",
          "qui",
          "qui",
          "sáb",
          "dom",
          "dom",
          "dom",
          "dom",
          "dom",
          "dom",
          "dom",
          "dom",
          "sáb",
          "qua",
          "qua",
          "qua",
          "qui",
          "qui",
          "qua",
          "qua",
          "qua",
          "qua",
          "qui",
          "sáb",
          "sáb",
          "dom",
          "dom",
          "dom",
          "dom",
          "dom",
          "dom",
          "dom",
          "seg",
          "sáb",
          "sáb",
          "dom",
          "dom",
          "dom",
          "dom",
          "dom",
          "sáb",
          "seg",
          "ter",
          "sáb",
          "sáb",
          "dom",
          "dom",
          "dom",
          "dom",
          "dom",
          "dom",
          "dom",
          "seg",
          "sáb",
          "sáb",
          "dom",
          "dom",
          "dom",
          "dom",
          "dom",
          "dom",
          "dom",
          "seg",
          "sáb",
          "sáb",
          "dom",
          "dom",
          "dom",
          "dom",
          "dom",
          "dom",
          "dom",
          "sáb",
          "qua",
          "qua",
          "qui",
          "qui",
          "qui",
          "qua",
          "qua",
          "qui",
          "qui",
          "sáb",
          "dom",
          "dom",
          "dom",
          "dom",
          "dom",
          "dom",
          "seg",
          "seg",
          "sáb",
          "sáb",
          "dom",
          "dom",
          "dom",
          "dom",
          "dom",
          "dom",
          "dom",
          "seg",
          "sex",
          "dom",
          "dom",
          "dom",
          "dom",
          "dom",
          "dom",
          "dom",
          "sáb",
          "seg",
          "sáb",
          "dom",
          "dom",
          "dom",
          "dom",
          "dom",
          "dom",
          "dom",
          "dom",
          "seg",
          "sáb",
          "dom",
          "qua",
          "qua",
          "qua",
          "qua",
          "qui",
          "qua",
          "qua",
          "qua",
          "qui",
          "qui",
          "sáb",
          "dom",
          "dom",
          "dom",
          "dom",
          "dom",
          "dom",
          "dom",
          "dom",
          "seg",
          "qua",
          "qua",
          "qui",
          "qui",
          "qua",
          "qua",
          "qua",
          "qua",
          "qui",
          "qui",
          "sáb",
          "dom",
          "dom",
          "dom",
          "dom",
          "dom",
          "dom",
          "dom",
          "dom",
          "seg",
          "sáb",
          "sáb",
          "dom",
          "dom",
          "dom",
          "dom",
          "dom",
          "dom",
          "dom",
          "sáb",
          "sáb",
          "sáb",
          "sáb",
          "sáb",
          "sáb",
          "sáb",
          "sáb",
          "sáb",
          "seg",
          "seg",
          "qua",
          "qua",
          "qui",
          "qua",
          "qua",
          "qua",
          "dom",
          "dom",
          "dom",
          "sáb",
          "qua",
          "qua",
          "qui",
          "qui",
          "qui",
          "qua",
          "qua",
          "qui",
          "qui",
          "qui",
          "dom",
          "dom",
          "dom",
          "dom",
          "dom",
          "dom",
          "dom",
          "dom",
          "dom",
          "seg",
          "qua",
          "sáb",
          "dom",
          "dom",
          "dom",
          "dom",
          "dom",
          "dom",
          "dom",
          "seg",
          "qui",
          "sex",
          "sáb",
          "sáb",
          "sáb",
          "sáb",
          "sáb",
          "sáb",
          "sáb",
          "seg",
          "sáb",
          "sáb",
          "dom",
          "dom",
          "dom",
          "dom",
          "dom",
          "dom",
          "dom",
          "seg",
          "ter",
          "qua",
          "qua",
          "qua",
          "qua",
          "qua",
          "qui",
          "qui",
          "qui",
          "qui",
          "dom",
          "dom",
          "dom",
          "dom",
          "dom",
          "dom",
          "dom",
          "dom",
          "dom",
          "seg",
          "sáb",
          "sáb",
          "sáb",
          "dom",
          "dom",
          "dom",
          "dom",
          "dom",
          "dom",
          "seg",
          "dom",
          "dom",
          "dom",
          "dom",
          "dom",
          "dom",
          "dom",
          "dom",
          "dom",
          "dom",
          "sáb",
          "sáb",
          "dom",
          "dom",
          "dom",
          "dom",
          "dom",
          "dom",
          "dom",
          "seg",
          "sáb",
          "sáb",
          "sáb",
          "dom",
          "dom",
          "dom",
          "dom",
          "dom",
          "dom",
          "seg",
          "sáb",
          "sáb",
          "dom",
          "dom",
          "dom",
          "dom",
          "dom",
          "dom",
          "sáb",
          "seg",
          "sáb",
          "sáb",
          "sáb",
          "dom",
          "dom",
          "dom",
          "dom",
          "dom",
          "dom",
          "seg",
          "ter",
          "qua",
          "qua",
          "qui",
          "qui",
          "qui",
          "qua",
          "qua",
          "qua",
          "qui",
          "sáb",
          "sáb",
          "dom",
          "dom",
          "dom",
          "dom",
          "dom",
          "dom",
          "dom",
          "seg",
          "qua",
          "qua",
          "qua",
          "qua",
          "qui",
          "qua",
          "qua",
          "qua",
          "qua",
          "qui",
          "sáb",
          "sáb",
          "dom",
          "dom",
          "dom",
          "dom",
          "dom",
          "dom",
          "sáb",
          "seg",
          "qua",
          "qui",
          "qui",
          "qua",
          "qua",
          "qua",
          "qua",
          "qua",
          "qui",
          "qui",
          "sáb",
          "dom",
          "dom",
          "dom",
          "dom",
          "dom",
          "dom",
          "dom",
          "dom",
          "seg",
          "sáb",
          "sáb",
          "dom",
          "dom",
          "dom",
          "dom",
          "dom",
          "dom",
          "dom",
          "seg",
          "sáb",
          "sáb",
          "sáb",
          "dom",
          "dom",
          "dom",
          "dom",
          "dom",
          "dom",
          "seg",
          "qua",
          "qua",
          "qui",
          "qui",
          "qui",
          "qua",
          "qua",
          "qua",
          "qua",
          "qui",
          "sáb",
          "dom",
          "dom",
          "dom",
          "dom",
          "dom",
          "dom",
          "dom",
          "dom",
          "seg",
          "qua",
          "qua",
          "qui",
          "qui",
          "qua",
          "qua",
          "qua",
          "qua",
          "qua",
          "qui",
          "sáb",
          "sáb",
          "dom",
          "dom",
          "dom",
          "dom",
          "dom",
          "dom",
          "dom",
          "seg",
          "sáb",
          "sáb",
          "dom",
          "dom",
          "dom",
          "dom",
          "dom",
          "dom",
          "seg",
          "qua",
          "qua",
          "qui",
          "qui",
          "qui",
          "qua",
          "qua",
          "qua",
          "qua",
          "qua",
          "sáb",
          "sáb",
          "dom",
          "dom",
          "dom",
          "dom",
          "dom",
          "dom",
          "dom",
          "dom",
          "qua",
          "sáb",
          "sáb",
          "dom",
          "dom",
          "dom",
          "dom",
          "dom",
          "dom",
          "seg",
          "sáb",
          "sáb",
          "dom",
          "dom",
          "dom",
          "dom",
          "dom",
          "dom",
          "dom",
          "seg",
          "qua",
          "sáb",
          "sáb",
          "dom",
          "dom",
          "dom",
          "dom",
          "dom",
          "dom",
          "seg",
          "sáb",
          "sáb",
          "sáb",
          "sáb",
          "dom",
          "dom",
          "dom",
          "dom",
          "dom",
          "dom",
          "seg",
          "sáb",
          "dom",
          "dom",
          "dom",
          "dom",
          "dom",
          "dom",
          "dom",
          "sáb",
          "seg",
          "sáb",
          "dom",
          "dom",
          "dom",
          "dom",
          "dom",
          "dom",
          "dom",
          "sáb",
          "seg",
          "sáb",
          "sáb",
          "sáb",
          "dom",
          "dom",
          "dom",
          "dom",
          "dom",
          "dom",
          "seg",
          "sáb",
          "qua",
          "qua",
          "qui",
          "qui",
          "qui",
          "qua",
          "qua",
          "qua",
          "qua",
          "qui",
          "sáb",
          "dom",
          "dom",
          "dom",
          "dom",
          "dom",
          "dom",
          "sáb",
          "seg",
          "qua",
          "qua",
          "qua",
          "qua",
          "qua",
          "qua",
          "qui",
          "qui",
          "qui",
          "qui",
          "sáb",
          "dom",
          "dom",
          "dom",
          "dom",
          "dom",
          "dom",
          "dom",
          "dom",
          "seg",
          "sáb",
          "sáb",
          "sáb",
          "dom",
          "dom",
          "dom",
          "dom",
          "dom",
          "dom",
          "seg",
          "sáb",
          "sáb",
          "sáb",
          "sáb",
          "dom",
          "dom",
          "dom",
          "dom",
          "dom",
          "dom",
          "qua",
          "qua",
          "qua",
          "qua",
          "qua",
          "qua",
          "qua",
          "qui",
          "qui",
          "qui",
          "sáb",
          "sáb",
          "dom",
          "dom",
          "dom",
          "dom",
          "dom",
          "dom",
          "dom",
          "seg",
          "qua",
          "qua",
          "qua",
          "qua",
          "qua",
          "qui",
          "qui",
          "qui",
          "qui",
          "qui",
          "dom",
          "dom",
          "dom",
          "dom",
          "dom",
          "dom",
          "dom",
          "dom",
          "seg",
          "seg",
          "sáb",
          "dom",
          "dom",
          "dom",
          "dom",
          "dom",
          "dom",
          "dom",
          "dom",
          "seg",
          "dom",
          "dom",
          "dom",
          "dom",
          "dom",
          "dom",
          "dom",
          "dom",
          "dom",
          "dom",
          "sáb",
          "sáb",
          "dom",
          "dom",
          "dom",
          "dom",
          "dom",
          "sáb",
          "seg",
          "seg",
          "sáb",
          "sáb",
          "dom",
          "dom",
          "dom",
          "dom",
          "dom",
          "dom",
          "dom",
          "seg",
          "sáb",
          "dom",
          "dom",
          "dom",
          "dom",
          "dom",
          "dom",
          "dom",
          "seg",
          "sáb",
          "sáb",
          "dom",
          "dom",
          "dom",
          "dom",
          "dom",
          "dom",
          "dom",
          "seg",
          "sáb",
          "dom",
          "dom",
          "dom",
          "dom",
          "dom",
          "dom",
          "dom",
          "seg",
          "seg",
          "sáb",
          "sáb",
          "dom",
          "dom",
          "dom",
          "dom",
          "dom",
          "dom",
          "sáb",
          "seg",
          "sáb",
          "sáb",
          "dom",
          "dom",
          "dom",
          "dom",
          "dom",
          "dom",
          "dom",
          "sáb",
          "qua",
          "qua",
          "qua",
          "qui",
          "qui",
          "qua",
          "qua",
          "qua",
          "qua",
          "qui",
          "sáb",
          "sáb",
          "sáb",
          "dom",
          "dom",
          "dom",
          "dom",
          "dom",
          "sáb",
          "seg",
          "qua",
          "qua",
          "ter",
          "qui",
          "qui",
          "qua",
          "qua",
          "qua",
          "qua",
          "qui",
          "sáb",
          "sáb",
          "sáb",
          "dom",
          "dom",
          "dom",
          "dom",
          "dom",
          "dom",
          "sáb",
          "qua",
          "qua",
          "qua",
          "qua",
          "ter",
          "qua",
          "qua",
          "qua",
          "qua",
          "qua",
          "qua",
          "qui",
          "qui",
          "qui",
          "qui",
          "qua",
          "qua",
          "qua",
          "qua",
          "qui",
          "sáb",
          "dom",
          "dom",
          "dom",
          "dom",
          "dom",
          "dom",
          "dom",
          "sáb",
          "seg",
          "qua",
          "qui",
          "qui",
          "qui",
          "qui",
          "qua",
          "qua",
          "qua",
          "sáb",
          "dom",
          "dom",
          "dom",
          "dom",
          "dom",
          "dom",
          "dom",
          "dom",
          "seg",
          "sáb",
          "sáb",
          "dom",
          "dom",
          "dom",
          "dom",
          "dom",
          "dom",
          "sáb",
          "seg",
          "qua",
          "sáb",
          "sáb",
          "dom",
          "dom",
          "dom",
          "dom",
          "dom",
          "dom",
          "dom",
          "seg",
          "sáb",
          "sáb",
          "dom",
          "dom",
          "dom",
          "dom",
          "dom",
          "dom",
          "dom",
          "seg",
          "qua",
          "qua",
          "qui",
          "qui",
          "qua",
          "qua",
          "qua",
          "qua",
          "sáb",
          "sáb",
          "sáb",
          "dom",
          "dom",
          "dom",
          "dom",
          "dom",
          "sáb",
          "sáb",
          "qua",
          "qua",
          "sáb",
          "sáb",
          "sáb",
          "dom",
          "dom",
          "dom",
          "dom",
          "dom",
          "dom",
          "sáb",
          "qua",
          "qua",
          "qua",
          "qui",
          "qui",
          "qui",
          "qua",
          "qua",
          "qua",
          "qua",
          "sáb",
          "sáb",
          "dom",
          "dom",
          "dom",
          "dom",
          "dom",
          "dom",
          "sáb",
          "seg",
          "qui",
          "sáb",
          "sáb",
          "sáb",
          "dom",
          "dom",
          "dom",
          "dom",
          "dom",
          "dom",
          "seg",
          "sáb",
          "dom",
          "dom",
          "dom",
          "dom",
          "dom",
          "dom",
          "dom",
          "seg",
          "seg",
          "qui",
          "sáb",
          "sáb",
          "dom",
          "dom",
          "dom",
          "dom",
          "dom",
          "dom",
          "sáb",
          "seg",
          "sex",
          "sáb",
          "sáb",
          "sáb",
          "sex",
          "sex",
          "sáb",
          "seg",
          "ter",
          "sáb",
          "sáb",
          "dom",
          "dom",
          "dom",
          "dom",
          "dom",
          "dom",
          "sáb",
          "seg",
          "sáb",
          "sáb",
          "sáb",
          "sáb",
          "dom",
          "dom",
          "dom",
          "dom",
          "dom",
          "seg",
          "qua",
          "sex",
          "sáb",
          "sáb",
          "sáb",
          "sáb",
          "sáb",
          "sex",
          "sáb",
          "sáb",
          "seg",
          "sáb",
          "sáb",
          "sáb",
          "dom",
          "dom",
          "dom",
          "dom",
          "dom",
          "dom",
          "seg",
          "sáb",
          "sáb",
          "sáb",
          "sáb",
          "dom",
          "dom",
          "dom",
          "dom",
          "dom",
          "seg",
          "qua",
          "qua",
          "qua",
          "qua",
          "qua",
          "qua",
          "qui",
          "qui",
          "qui",
          "qui",
          "sáb",
          "sáb",
          "sáb",
          "dom",
          "dom",
          "dom",
          "dom",
          "dom",
          "dom",
          "seg",
          "qua",
          "qua",
          "qua",
          "qua",
          "qua",
          "qua",
          "qui",
          "qui",
          "qui",
          "qui",
          "sáb",
          "dom",
          "dom",
          "dom",
          "dom",
          "dom",
          "dom",
          "dom",
          "seg",
          "seg",
          "sáb",
          "sáb",
          "dom",
          "dom",
          "dom",
          "dom",
          "dom",
          "dom",
          "dom",
          "dom",
          "sáb",
          "sáb",
          "sáb",
          "dom",
          "dom",
          "dom",
          "dom",
          "dom",
          "dom",
          "sáb",
          "qua",
          "qua",
          "qua",
          "qua",
          "qua",
          "qui",
          "qui",
          "qua",
          "qua",
          "qua",
          "sáb",
          "sáb",
          "dom",
          "dom",
          "dom",
          "dom",
          "dom",
          "dom",
          "dom",
          "sáb",
          "sáb",
          "sáb",
          "dom",
          "dom",
          "dom",
          "dom",
          "dom",
          "dom",
          "dom",
          "sáb",
          "sáb",
          "sáb",
          "sáb",
          "dom",
          "dom",
          "dom",
          "dom",
          "dom",
          "dom",
          "dom",
          "sáb",
          "sáb",
          "dom",
          "dom",
          "dom",
          "dom",
          "dom",
          "dom",
          "seg",
          "seg",
          "sáb",
          "sáb",
          "dom",
          "dom",
          "dom",
          "dom",
          "dom",
          "dom",
          "dom",
          "sex",
          "sáb",
          "sáb",
          "sáb",
          "sáb",
          "dom",
          "dom",
          "dom",
          "sáb",
          "seg",
          "qua",
          "qui",
          "qui",
          "qui",
          "qui",
          "qui",
          "qua",
          "qua",
          "qua",
          "qua",
          "sáb",
          "sáb",
          "sáb",
          "sáb",
          "dom",
          "dom",
          "dom",
          "dom",
          "dom",
          "seg",
          "sáb",
          "sáb",
          "sáb",
          "sáb",
          "sáb",
          "dom",
          "dom",
          "dom",
          "dom",
          "seg",
          "sáb",
          "sáb",
          "sáb",
          "sáb",
          "dom",
          "dom",
          "dom",
          "dom",
          "dom",
          "seg",
          "sáb",
          "sáb",
          "dom",
          "dom",
          "dom",
          "dom",
          "dom",
          "dom",
          "seg",
          "qua",
          "sáb",
          "sáb",
          "sáb",
          "dom",
          "dom",
          "dom",
          "dom",
          "dom",
          "sáb",
          "seg",
          "sáb",
          "sáb",
          "sáb",
          "sáb",
          "dom",
          "dom",
          "dom",
          "dom",
          "dom",
          "sáb",
          "qua",
          "sáb",
          "sáb",
          "dom",
          "dom",
          "dom",
          "dom",
          "dom",
          "dom",
          "seg",
          "sáb",
          "sáb",
          "sáb",
          "sáb",
          "dom",
          "dom",
          "dom",
          "dom",
          "sáb",
          "seg",
          "sáb",
          "sáb",
          "sáb",
          "sáb",
          "sáb",
          "dom",
          "dom",
          "dom",
          "dom",
          "sáb",
          "ter",
          "sáb",
          "sáb",
          "sáb",
          "dom",
          "dom",
          "dom",
          "dom",
          "dom",
          "dom",
          "sáb",
          "sáb",
          "sáb",
          "sáb",
          "dom",
          "dom",
          "dom",
          "dom",
          "dom",
          "sáb",
          "seg",
          "qua",
          "qui",
          "qui",
          "qui",
          "qua",
          "qua",
          "qua",
          "qui",
          "sáb",
          "dom",
          "dom",
          "dom",
          "dom",
          "dom",
          "dom",
          "seg",
          "seg",
          "seg",
          "qua",
          "qua",
          "sáb",
          "sáb",
          "sáb",
          "sáb",
          "dom",
          "dom",
          "dom",
          "dom",
          "dom",
          "sáb",
          "qua",
          "qua",
          "qua",
          "qui",
          "qui",
          "qui",
          "qua",
          "qua",
          "qua",
          "qua",
          "sáb",
          "sáb",
          "dom",
          "dom",
          "dom",
          "dom",
          "dom",
          "dom",
          "dom",
          "sáb",
          "qua",
          "qua",
          "qua",
          "qui",
          "qui",
          "qua",
          "qua",
          "qua",
          "qua",
          "qui",
          "sáb",
          "sáb",
          "dom",
          "dom",
          "dom",
          "dom",
          "dom",
          "dom",
          "seg",
          "seg",
          "sáb",
          "sáb",
          "sáb",
          "sáb",
          "dom",
          "dom",
          "dom",
          "dom",
          "dom",
          "sáb",
          "qua",
          "qua",
          "qua",
          "qui",
          "qui",
          "qua",
          "qua",
          "qua",
          "qui",
          "qui",
          "sáb",
          "sáb",
          "sáb",
          "dom",
          "dom",
          "dom",
          "dom",
          "dom",
          "dom",
          "sáb",
          "qua",
          "qua",
          "qui",
          "qui",
          "qui",
          "qua",
          "qua",
          "qua",
          "qua",
          "qui",
          "sáb",
          "sáb",
          "dom",
          "dom",
          "dom",
          "dom",
          "dom",
          "dom",
          "dom",
          "seg",
          "qua",
          "sáb",
          "sáb",
          "dom",
          "dom",
          "dom",
          "dom",
          "dom",
          "dom",
          "seg",
          "seg",
          "dom",
          "dom",
          "dom",
          "dom",
          "dom",
          "dom",
          "dom",
          "sáb",
          "seg",
          "qua",
          "qua",
          "qui",
          "qui",
          "qui",
          "qua",
          "qua",
          "qua",
          "qua",
          "qui",
          "sáb",
          "sáb",
          "dom",
          "dom",
          "dom",
          "dom",
          "dom",
          "dom",
          "dom",
          "seg",
          "qua",
          "qua",
          "qua",
          "qui",
          "qui",
          "qui",
          "qui",
          "qua",
          "qua",
          "qua",
          "dom",
          "dom",
          "dom",
          "dom",
          "dom",
          "dom",
          "dom",
          "dom",
          "dom",
          "dom",
          "sáb",
          "sáb",
          "dom",
          "dom",
          "dom",
          "sáb",
          "qua",
          "qua",
          "qua",
          "qua",
          "qua",
          "qui",
          "qui",
          "qui",
          "qua",
          "qua",
          "sáb",
          "sáb",
          "dom",
          "dom",
          "dom",
          "dom",
          "dom",
          "dom",
          "dom",
          "sáb",
          "qua",
          "qua",
          "qua",
          "qua",
          "qua",
          "qui",
          "qui",
          "qui",
          "qua",
          "qua",
          "sáb",
          "sáb",
          "dom",
          "dom",
          "dom",
          "dom",
          "dom",
          "dom",
          "sáb",
          "qua",
          "qua",
          "sáb",
          "sáb",
          "sáb",
          "dom",
          "dom",
          "dom",
          "dom",
          "sáb",
          "qua",
          "qua",
          "qua",
          "qua",
          "qua",
          "qua",
          "qui",
          "qui",
          "qua",
          "qua",
          "sáb",
          "sáb",
          "dom",
          "dom",
          "dom",
          "dom",
          "dom",
          "dom",
          "dom",
          "sáb",
          "qua",
          "qua",
          "qua",
          "qua",
          "qui",
          "qui",
          "qui",
          "qua",
          "qua",
          "qui",
          "sáb",
          "sáb",
          "dom",
          "dom",
          "dom",
          "dom",
          "dom",
          "dom",
          "dom",
          "dom",
          "qua",
          "sáb",
          "sáb",
          "dom",
          "dom",
          "dom",
          "dom",
          "sáb",
          "qua",
          "sáb",
          "sáb",
          "dom",
          "dom",
          "dom",
          "dom",
          "dom",
          "sáb",
          "seg",
          "qua",
          "qua",
          "sáb",
          "sáb",
          "dom",
          "dom",
          "dom",
          "dom",
          "dom",
          "dom",
          "dom",
          "sáb",
          "qua",
          "qua",
          "qua",
          "qua",
          "qua",
          "qua",
          "qui",
          "qua",
          "qua",
          "qui",
          "sáb",
          "sáb",
          "sáb",
          "dom",
          "dom",
          "dom",
          "dom",
          "dom",
          "dom",
          "sáb",
          "ter",
          "qua",
          "qua",
          "qua",
          "qui",
          "qua",
          "qua",
          "qua",
          "sex",
          "sáb",
          "sáb",
          "sáb",
          "dom",
          "dom",
          "dom",
          "dom",
          "sáb",
          "seg",
          "seg",
          "qua",
          "sáb",
          "sáb",
          "dom",
          "dom",
          "dom",
          "dom",
          "sáb",
          "sáb",
          "sáb",
          "sáb",
          "dom",
          "dom",
          "dom",
          "dom",
          "sáb",
          "seg",
          "seg",
          "sáb",
          "sáb",
          "dom",
          "dom",
          "dom",
          "dom",
          "dom",
          "dom",
          "dom",
          "sáb",
          "qua",
          "sáb",
          "sáb",
          "sáb",
          "sáb",
          "sáb",
          "sáb",
          "sáb",
          "sáb",
          "seg",
          "seg",
          "qua",
          "qui",
          "sex",
          "sáb",
          "sáb",
          "dom",
          "dom",
          "dom",
          "dom",
          "dom",
          "sáb",
          "seg",
          "qua",
          "qui",
          "qua",
          "qua",
          "sáb",
          "sáb",
          "sáb",
          "sáb",
          "seg",
          "seg",
          "seg",
          "qui",
          "qua",
          "sáb",
          "sáb",
          "sáb",
          "sáb",
          "dom",
          "dom",
          "dom",
          "sáb",
          "seg",
          "qua",
          "sáb",
          "sáb",
          "sáb",
          "sáb",
          "dom",
          "dom",
          "dom",
          "dom",
          "sáb",
          "sáb",
          "qua",
          "qua",
          "sáb",
          "dom",
          "dom",
          "dom",
          "dom",
          "sáb",
          "sáb",
          "seg",
          "sáb",
          "sáb",
          "sáb",
          "dom",
          "dom",
          "dom",
          "dom",
          "dom",
          "dom",
          "sáb",
          "qua",
          "qua",
          "qua",
          "qua",
          "qui",
          "qua",
          "qua",
          "qui",
          "sáb",
          "sáb",
          "dom",
          "dom",
          "dom",
          "dom",
          "dom",
          "sáb",
          "seg",
          "qua",
          "sáb",
          "sex",
          "dom",
          "dom",
          "dom",
          "dom",
          "dom",
          "sáb",
          "seg",
          "seg",
          "qua",
          "qua",
          "qua",
          "qua",
          "qui",
          "qui",
          "qui",
          "qua",
          "qua",
          "qui",
          "sáb",
          "dom",
          "dom",
          "dom",
          "dom",
          "dom",
          "dom",
          "dom",
          "sáb",
          "seg",
          "ter",
          "ter",
          "qui",
          "qui",
          "dom",
          "dom",
          "dom",
          "dom",
          "dom",
          "dom",
          "dom",
          "seg",
          "ter",
          "qua",
          "qua",
          "qui",
          "qua",
          "qua",
          "qua",
          "sex",
          "qui",
          "qui",
          "sáb",
          "dom",
          "sáb",
          "seg",
          "qua",
          "qua",
          "qua",
          "qua",
          "qua",
          "sáb",
          "sáb",
          "sáb",
          "dom",
          "dom",
          "dom",
          "dom",
          "dom",
          "seg",
          "seg",
          "qua",
          "qua",
          "sáb",
          "sex",
          "dom",
          "dom",
          "dom",
          "dom",
          "dom",
          "dom",
          "sáb",
          "seg",
          "seg",
          "qui",
          "qui",
          "qui",
          "qui",
          "qui",
          "qui",
          "qui",
          "qui",
          "qui",
          "qui",
          "sáb",
          "sáb",
          "dom",
          "dom",
          "dom",
          "dom",
          "dom",
          "dom",
          "dom",
          "sáb",
          "sáb",
          "dom",
          "dom",
          "dom",
          "dom",
          "dom",
          "dom",
          "sáb",
          "sáb",
          "sáb",
          "sáb",
          "dom",
          "dom",
          "dom",
          "dom",
          "dom",
          "dom",
          "dom",
          "qua",
          "qua",
          "qua",
          "qui",
          "qui",
          "qui",
          "qui",
          "qui",
          "qua",
          "dom",
          "dom",
          "dom",
          "dom",
          "dom",
          "dom",
          "dom",
          "sáb",
          "seg",
          "qua",
          "qua",
          "qua",
          "qua",
          "qui",
          "qui",
          "qui",
          "qui",
          "qui",
          "qui",
          "dom",
          "dom",
          "dom",
          "dom",
          "dom",
          "dom",
          "dom",
          "dom",
          "dom",
          "seg",
          "qua",
          "qua",
          "qua",
          "qua",
          "qua",
          "qui",
          "qui",
          "qui",
          "qua",
          "qua",
          "sáb",
          "sáb",
          "dom",
          "dom",
          "dom",
          "dom",
          "dom",
          "dom",
          "dom",
          "sáb",
          "ter",
          "qua",
          "qua",
          "qua",
          "qua",
          "qua",
          "qua",
          "qua",
          "qua",
          "qui",
          "sáb",
          "sáb",
          "sáb",
          "sáb",
          "sáb",
          "sáb",
          "dom",
          "dom",
          "dom",
          "dom",
          "sáb",
          "sáb",
          "sáb",
          "dom",
          "dom",
          "dom",
          "dom",
          "dom",
          "sáb",
          "seg",
          "qua",
          "sáb",
          "sáb",
          "dom",
          "dom",
          "dom",
          "dom",
          "dom",
          "dom",
          "seg",
          "seg",
          "sáb",
          "sáb",
          "dom",
          "dom",
          "dom",
          "dom",
          "dom",
          "dom",
          "sáb",
          "sex",
          "sáb",
          "dom",
          "dom",
          "dom",
          "dom",
          "dom",
          "sáb",
          "sáb",
          "seg",
          "sáb",
          "sáb",
          "dom",
          "dom",
          "dom",
          "dom",
          "dom",
          "dom",
          "sáb",
          "seg",
          "qua",
          "sáb",
          "sáb",
          "dom",
          "dom",
          "dom",
          "dom",
          "dom",
          "sáb",
          "seg",
          "seg",
          "sáb",
          "sáb",
          "dom",
          "dom",
          "dom",
          "dom",
          "sáb",
          "sáb",
          "seg",
          "seg",
          "qui",
          "dom",
          "sáb",
          "sáb",
          "ter",
          "ter",
          "sáb",
          "sáb",
          "sáb",
          "dom",
          "dom",
          "dom",
          "dom",
          "dom",
          "sáb",
          "seg",
          "sáb",
          "sáb",
          "sáb",
          "dom",
          "dom",
          "dom",
          "dom",
          "sáb",
          "sáb",
          "seg",
          "qua",
          "sáb",
          "sáb",
          "dom",
          "dom",
          "dom",
          "dom",
          "dom",
          "dom",
          "dom",
          "sáb",
          "sáb",
          "sáb",
          "sáb",
          "dom",
          "dom",
          "dom",
          "dom",
          "sáb",
          "qua",
          "qua",
          "qua",
          "qua",
          "qua",
          "ter",
          "qui",
          "qua",
          "qua",
          "qua",
          "sáb",
          "sáb",
          "sáb",
          "sáb",
          "sáb",
          "dom",
          "dom",
          "sáb",
          "sáb",
          "seg",
          "ter",
          "qua",
          "qua",
          "qua",
          "qua",
          "ter",
          "qui",
          "qui",
          "qua",
          "qua",
          "sáb",
          "dom",
          "dom",
          "dom",
          "dom",
          "dom",
          "dom",
          "dom",
          "sáb",
          "seg",
          "qua",
          "qui",
          "sáb",
          "sáb",
          "sáb",
          "sáb",
          "dom",
          "dom",
          "dom",
          "dom",
          "seg",
          "seg",
          "qua",
          "qua",
          "qui",
          "sáb",
          "sáb",
          "sáb",
          "dom",
          "dom",
          "dom",
          "dom",
          "sáb",
          "seg",
          "ter",
          "seg",
          "qua",
          "qui",
          "sáb",
          "sáb",
          "sex",
          "dom",
          "dom",
          "dom",
          "dom",
          "dom",
          "sáb",
          "seg",
          "qua",
          "qua",
          "qua",
          "qua",
          "ter",
          "qui",
          "qua",
          "qua",
          "qua",
          "sáb",
          "sáb",
          "sáb",
          "sáb",
          "dom",
          "dom",
          "dom",
          "dom",
          "sáb",
          "ter",
          "ter",
          "qua",
          "qua",
          "qua",
          "qua",
          "qua",
          "qua",
          "qua",
          "qui",
          "sáb",
          "sáb",
          "sáb",
          "dom",
          "dom",
          "dom",
          "sáb",
          "sáb",
          "ter",
          "ter",
          "ter",
          "qui",
          "qui",
          "qua",
          "qua",
          "sex",
          "sáb",
          "dom",
          "dom",
          "dom",
          "sáb",
          "seg",
          "ter",
          "ter",
          "ter",
          "ter",
          "qui",
          "qui",
          "sex",
          "sex",
          "sex",
          "sex",
          "dom",
          "dom",
          "dom",
          "dom",
          "seg",
          "seg",
          "seg",
          "seg",
          "seg",
          "seg",
          "qui",
          "qui",
          "qui",
          "qui",
          "qui",
          "qui",
          "qui",
          "qui",
          "qui",
          "qui",
          "sáb",
          "sáb",
          "dom",
          "dom",
          "dom",
          "dom",
          "dom",
          "dom",
          "sáb",
          "seg",
          "sáb",
          "sáb",
          "sáb",
          "dom",
          "dom",
          "dom",
          "dom",
          "dom",
          "dom",
          "sáb",
          "qua",
          "sáb",
          "sáb",
          "sáb",
          "sáb",
          "dom",
          "dom",
          "dom",
          "sáb",
          "seg",
          "sáb",
          "sáb",
          "sáb",
          "sáb",
          "dom",
          "dom",
          "dom",
          "dom",
          "seg",
          "sáb",
          "sáb",
          "dom",
          "dom",
          "dom",
          "dom",
          "dom",
          "dom",
          "dom",
          "seg",
          "qua",
          "sáb",
          "sáb",
          "sáb",
          "sáb",
          "dom",
          "dom",
          "dom",
          "dom",
          "dom",
          "sáb",
          "sáb",
          "sáb",
          "sáb",
          "sáb",
          "dom",
          "dom",
          "dom",
          "sáb",
          "sáb",
          "sáb",
          "sáb",
          "sáb",
          "dom",
          "dom",
          "dom",
          "dom",
          "dom",
          "dom",
          "seg",
          "qua",
          "sáb",
          "sáb",
          "sáb",
          "sáb",
          "sáb",
          "dom",
          "dom",
          "dom",
          "dom",
          "seg",
          "qua",
          "qua",
          "qua",
          "ter",
          "qua",
          "qui",
          "qui",
          "qui",
          "qua",
          "qua",
          "sáb",
          "sáb",
          "sáb",
          "sáb",
          "dom",
          "dom",
          "dom",
          "dom",
          "sáb",
          "seg",
          "qua",
          "qua",
          "qua",
          "qua",
          "ter",
          "qui",
          "qui",
          "qui",
          "qua",
          "qua",
          "sáb",
          "dom",
          "dom",
          "dom",
          "dom",
          "dom",
          "dom",
          "dom",
          "sáb",
          "seg",
          "sáb",
          "sáb",
          "sáb",
          "sex",
          "dom",
          "dom",
          "dom",
          "dom",
          "dom",
          "sáb",
          "sáb",
          "sáb",
          "sáb",
          "sáb",
          "dom",
          "dom",
          "dom",
          "dom",
          "sáb",
          "seg",
          "sáb",
          "sáb",
          "sáb",
          "dom",
          "dom",
          "dom",
          "dom",
          "dom",
          "dom",
          "seg",
          "sáb",
          "sáb",
          "sáb",
          "dom",
          "dom",
          "dom",
          "dom",
          "dom",
          "sáb",
          "seg",
          "qua",
          "qua",
          "qua",
          "qua",
          "qua",
          "ter",
          "qui",
          "qui",
          "qua",
          "qua",
          "sáb",
          "dom",
          "dom",
          "dom",
          "dom",
          "dom",
          "dom",
          "dom",
          "sáb",
          "seg",
          "sáb",
          "sáb",
          "sáb",
          "sáb",
          "dom",
          "dom",
          "dom",
          "dom",
          "dom",
          "seg",
          "sáb",
          "sáb",
          "sáb",
          "sáb",
          "sáb",
          "dom",
          "dom",
          "dom",
          "dom",
          "seg",
          "sáb",
          "sáb",
          "sáb",
          "dom",
          "dom",
          "dom",
          "dom",
          "dom",
          "dom",
          "sáb",
          "sáb",
          "sáb",
          "dom",
          "dom",
          "dom",
          "dom",
          "dom",
          "dom",
          "dom",
          "seg",
          "sáb",
          "sáb",
          "sáb",
          "dom",
          "dom",
          "dom",
          "dom",
          "sáb",
          "seg",
          "seg",
          "sáb",
          "sáb",
          "sáb",
          "sáb",
          "dom",
          "dom",
          "dom",
          "dom",
          "dom",
          "seg",
          "qua",
          "sáb",
          "sáb",
          "sáb",
          "dom",
          "dom",
          "dom",
          "dom",
          "dom",
          "sáb",
          "sáb",
          "sáb",
          "dom",
          "dom",
          "dom",
          "dom",
          "dom",
          "dom",
          "dom",
          "seg",
          "dom",
          "qua",
          "qua",
          "qua",
          "qua",
          "ter",
          "qua",
          "qua",
          "qua",
          "qua",
          "sáb",
          "sáb",
          "sáb",
          "sáb",
          "sáb",
          "sáb",
          "sáb",
          "sáb",
          "seg",
          "qua",
          "qua",
          "qua",
          "qua",
          "ter",
          "qui",
          "qui",
          "qui",
          "qua",
          "qua",
          "sáb",
          "dom",
          "dom",
          "dom",
          "dom",
          "dom",
          "dom",
          "sáb",
          "seg",
          "seg",
          "sáb",
          "sáb",
          "dom",
          "dom",
          "dom",
          "dom",
          "dom",
          "dom",
          "seg",
          "qui",
          "sáb",
          "sáb",
          "sáb",
          "dom",
          "dom",
          "dom",
          "dom",
          "dom",
          "sáb",
          "seg",
          "qua",
          "ter",
          "ter",
          "qui",
          "qui",
          "qui",
          "qui",
          "qua",
          "qua",
          "qua",
          "sáb",
          "seg",
          "ter",
          "qua",
          "qua",
          "qua",
          "qua",
          "qua",
          "ter",
          "qua",
          "qua",
          "sáb",
          "sáb",
          "sáb",
          "sáb",
          "sáb",
          "dom",
          "dom",
          "dom",
          "sáb",
          "seg",
          "qua",
          "qua",
          "qua",
          "qua",
          "ter",
          "qui",
          "qui",
          "qua",
          "qua",
          "qua",
          "sáb",
          "dom",
          "dom",
          "dom",
          "dom",
          "dom",
          "dom",
          "dom",
          "dom",
          "dom",
          "sáb",
          "sáb",
          "sáb",
          "sáb",
          "sáb",
          "sáb",
          "dom",
          "dom",
          "dom",
          "sáb",
          "sáb",
          "sáb",
          "sáb",
          "dom",
          "dom",
          "dom",
          "dom",
          "dom",
          "sáb",
          "seg",
          "sáb",
          "sáb",
          "sáb",
          "sáb",
          "sáb",
          "dom",
          "dom",
          "dom",
          "sáb",
          "seg",
          "sáb",
          "dom",
          "dom",
          "dom",
          "dom",
          "dom",
          "dom",
          "dom",
          "sáb",
          "seg",
          "qua",
          "qua",
          "qua",
          "qua",
          "qua",
          "qui",
          "qui",
          "qui",
          "qua",
          "qua",
          "sáb",
          "sáb",
          "sáb",
          "dom",
          "dom",
          "dom",
          "dom",
          "dom",
          "dom",
          "sáb",
          "sáb",
          "sáb",
          "sáb",
          "sáb",
          "sáb",
          "sáb",
          "dom",
          "dom",
          "sáb",
          "seg",
          "sáb",
          "sáb",
          "sáb",
          "sáb",
          "dom",
          "dom",
          "dom",
          "dom",
          "dom",
          "sáb",
          "sáb",
          "sáb",
          "sáb",
          "sáb",
          "dom",
          "dom",
          "dom",
          "dom",
          "sáb",
          "seg",
          "sáb",
          "sáb",
          "sáb",
          "sáb",
          "dom",
          "dom",
          "dom",
          "dom",
          "dom",
          "sáb",
          "qua",
          "qua",
          "qua",
          "qui",
          "qui",
          "qui",
          "qui",
          "qua",
          "qua",
          "qui",
          "sáb",
          "sáb",
          "sáb",
          "dom",
          "dom",
          "dom",
          "dom",
          "dom",
          "sáb",
          "seg",
          "sáb",
          "sáb",
          "sáb",
          "dom",
          "dom",
          "dom",
          "dom",
          "dom",
          "sáb",
          "seg",
          "sáb",
          "sáb",
          "sáb",
          "sáb",
          "dom",
          "dom",
          "dom",
          "dom",
          "dom",
          "sáb",
          "dom",
          "dom",
          "dom",
          "dom",
          "dom",
          "dom",
          "sáb",
          "seg",
          "sáb",
          "sáb",
          "sáb",
          "sáb",
          "dom",
          "dom",
          "dom",
          "dom",
          "sáb",
          "seg",
          "sáb",
          "sáb",
          "sáb",
          "sáb",
          "sáb",
          "dom",
          "dom",
          "dom",
          "dom",
          "sáb",
          "sáb",
          "sáb",
          "sáb",
          "dom",
          "dom",
          "dom",
          "dom",
          "dom",
          "dom",
          "sáb",
          "dom",
          "dom",
          "dom",
          "dom",
          "dom",
          "dom",
          "sáb",
          "seg",
          "ter",
          "seg",
          "sáb",
          "sáb",
          "sáb",
          "sáb",
          "dom",
          "dom",
          "dom",
          "dom",
          "sáb",
          "seg",
          "sáb",
          "dom",
          "dom",
          "dom",
          "dom",
          "dom",
          "dom",
          "dom",
          "dom",
          "sáb",
          "sáb",
          "sáb",
          "dom",
          "dom",
          "dom",
          "dom",
          "dom",
          "dom",
          "sáb",
          "qui",
          "qui",
          "qui",
          "qua",
          "qua",
          "sex",
          "qui",
          "sáb",
          "sex",
          "sáb",
          "seg",
          "seg",
          "qua",
          "ter",
          "qui",
          "qui",
          "qua",
          "qua",
          "sex",
          "qui",
          "sáb",
          "seg",
          "qua",
          "sáb",
          "sáb",
          "sáb",
          "sáb",
          "dom",
          "dom",
          "dom",
          "dom",
          "sáb",
          "seg",
          "sáb",
          "sáb",
          "dom",
          "dom",
          "dom",
          "dom",
          "dom",
          "dom",
          "sáb",
          "sáb",
          "qua",
          "qua",
          "qua",
          "qui",
          "qui",
          "qui",
          "qua",
          "qua",
          "qua",
          "qui",
          "sáb",
          "sáb",
          "sáb",
          "dom",
          "dom",
          "dom",
          "dom",
          "dom",
          "dom",
          "dom",
          "qua",
          "qua",
          "qua",
          "qua",
          "qua",
          "qui",
          "qua",
          "qua",
          "qui",
          "sáb",
          "sáb",
          "dom",
          "dom",
          "dom",
          "dom",
          "dom",
          "sáb",
          "ter",
          "qua",
          "qua",
          "qua",
          "qua",
          "qui",
          "qui",
          "qui",
          "qua",
          "qua",
          "sáb",
          "sáb",
          "dom",
          "dom",
          "dom",
          "dom",
          "sáb",
          "seg",
          "seg",
          "qua",
          "qua",
          "qua",
          "qua",
          "qui",
          "qui",
          "qui",
          "qui",
          "qua",
          "sáb",
          "sáb",
          "dom",
          "dom",
          "dom",
          "dom",
          "dom",
          "dom",
          "sáb",
          "sáb",
          "qua",
          "qui",
          "qua",
          "qui",
          "sáb",
          "sex",
          "dom",
          "dom",
          "dom",
          "dom",
          "dom",
          "dom",
          "sáb",
          "seg",
          "qua",
          "qua",
          "qua",
          "qua",
          "ter",
          "qui",
          "qui",
          "qui",
          "qua",
          "qua",
          "sáb",
          "dom",
          "dom",
          "dom",
          "dom",
          "dom",
          "dom",
          "dom",
          "dom",
          "sáb",
          "qua",
          "qua",
          "qua",
          "qua",
          "qua",
          "qua",
          "qua",
          "qua",
          "qua",
          "qua",
          "sáb",
          "sáb",
          "dom",
          "dom",
          "dom",
          "dom",
          "dom",
          "dom",
          "sáb",
          "sáb",
          "qua",
          "qua",
          "qua",
          "qua",
          "qua",
          "qua",
          "ter",
          "qua",
          "qui",
          "sáb",
          "sáb",
          "sáb",
          "dom",
          "dom",
          "dom",
          "dom",
          "dom",
          "sáb",
          "sáb",
          "sáb",
          "dom",
          "dom",
          "dom",
          "dom",
          "dom",
          "dom",
          "sáb",
          "seg",
          "sáb",
          "sáb",
          "dom",
          "dom",
          "dom",
          "dom",
          "sáb",
          "sáb",
          "dom",
          "dom",
          "dom",
          "dom",
          "dom",
          "seg",
          "sáb",
          "sáb",
          "sáb",
          "sáb",
          "dom",
          "dom",
          "dom",
          "dom",
          "dom",
          "sáb",
          "qua",
          "qua",
          "dom",
          "ter",
          "ter",
          "ter",
          "ter",
          "qui",
          "qui",
          "qui",
          "qui",
          "qui",
          "qui",
          "sáb",
          "dom",
          "dom",
          "dom",
          "dom",
          "dom",
          "dom",
          "dom",
          "sáb",
          "seg",
          "qua",
          "qua",
          "qua",
          "qua",
          "qua",
          "qui",
          "qui",
          "qua",
          "qua",
          "qui",
          "sáb",
          "sáb",
          "sáb",
          "dom",
          "dom",
          "dom",
          "dom",
          "dom",
          "dom",
          "sáb",
          "qua",
          "qua",
          "qua",
          "qua",
          "qua",
          "qui",
          "qui",
          "qua",
          "qua",
          "qua",
          "sáb",
          "sáb",
          "dom",
          "dom",
          "dom",
          "dom",
          "dom",
          "dom",
          "dom",
          "seg",
          "qua",
          "qua",
          "qua",
          "qui",
          "qui",
          "qui",
          "qui",
          "qua",
          "qua",
          "qua",
          "sáb",
          "sáb",
          "dom",
          "dom",
          "dom",
          "dom",
          "dom",
          "dom",
          "dom",
          "dom",
          "qua",
          "qua",
          "qua",
          "qui",
          "qui",
          "qui",
          "qui",
          "qui",
          "sáb",
          "sáb",
          "ter",
          "qua",
          "qua",
          "ter",
          "qua",
          "qua",
          "sáb",
          "sáb",
          "dom",
          "dom",
          "dom",
          "dom",
          "dom",
          "dom",
          "dom",
          "sáb",
          "qua",
          "qua",
          "qua",
          "qua",
          "qui",
          "qua",
          "qua",
          "sáb",
          "sáb",
          "sáb",
          "dom",
          "dom",
          "dom",
          "dom",
          "dom",
          "sáb",
          "sáb",
          "sáb",
          "sáb",
          "sáb",
          "sáb",
          "dom",
          "dom",
          "dom",
          "dom",
          "sáb",
          "seg",
          "sáb",
          "sáb",
          "dom",
          "dom",
          "dom",
          "dom",
          "dom",
          "sáb",
          "sáb",
          "sáb",
          "qua",
          "sáb",
          "sáb",
          "sáb",
          "dom",
          "dom",
          "dom",
          "dom",
          "dom",
          "sáb",
          "seg",
          "sáb",
          "sáb",
          "dom",
          "dom",
          "dom",
          "dom",
          "dom",
          "dom",
          "sáb",
          "seg",
          "qua",
          "qua",
          "sáb",
          "dom",
          "dom",
          "dom",
          "dom",
          "dom",
          "dom",
          "dom",
          "dom",
          "sáb",
          "qui",
          "qua",
          "sáb",
          "sáb",
          "dom",
          "dom",
          "dom",
          "dom",
          "dom",
          "dom",
          "sáb",
          "seg",
          "sáb",
          "sáb",
          "sáb",
          "dom",
          "dom",
          "dom",
          "dom",
          "dom",
          "dom",
          "sáb",
          "qua",
          "qua",
          "sáb",
          "dom",
          "dom",
          "dom",
          "dom",
          "dom",
          "dom",
          "dom",
          "dom",
          "sáb",
          "qui",
          "qui",
          "sáb",
          "sáb",
          "sáb",
          "sáb",
          "sáb",
          "sáb",
          "sex",
          "sáb",
          "qua",
          "qui",
          "qui",
          "qua",
          "qua",
          "sex",
          "sex",
          "sáb",
          "sáb",
          "sex",
          "dom",
          "ter",
          "qui",
          "sáb",
          "sáb",
          "sáb",
          "sáb",
          "sáb",
          "sáb",
          "sáb",
          "sáb",
          "seg",
          "seg",
          "qua",
          "sáb",
          "sáb",
          "sáb",
          "sex",
          "seg",
          "ter",
          "ter",
          "ter",
          "qua",
          "qua",
          "sex",
          "sáb",
          "sáb",
          "sáb",
          "sáb",
          "sáb",
          "sáb",
          "sex",
          "sáb",
          "qua",
          "sáb",
          "qua",
          "qua",
          "qua",
          "qua",
          "qua",
          "qua",
          "qua",
          "qui",
          "qua",
          "sáb",
          "sáb",
          "sáb",
          "sex",
          "dom",
          "dom",
          "dom",
          "sáb",
          "ter",
          "ter",
          "ter",
          "ter",
          "qua",
          "sáb",
          "sáb",
          "dom",
          "dom",
          "dom",
          "dom",
          "dom",
          "sáb",
          "ter",
          "qua",
          "qua",
          "qua",
          "qua",
          "qui",
          "qui",
          "qua",
          "qua",
          "qua",
          "dom",
          "dom",
          "dom",
          "dom",
          "dom",
          "dom",
          "dom",
          "dom",
          "dom",
          "dom"
         ],
         "xaxis": "x",
         "yaxis": "y"
        }
       ],
       "layout": {
        "barmode": "relative",
        "legend": {
         "tracegroupgap": 0
        },
        "template": {
         "data": {
          "bar": [
           {
            "error_x": {
             "color": "#2a3f5f"
            },
            "error_y": {
             "color": "#2a3f5f"
            },
            "marker": {
             "line": {
              "color": "#E5ECF6",
              "width": 0.5
             },
             "pattern": {
              "fillmode": "overlay",
              "size": 10,
              "solidity": 0.2
             }
            },
            "type": "bar"
           }
          ],
          "barpolar": [
           {
            "marker": {
             "line": {
              "color": "#E5ECF6",
              "width": 0.5
             },
             "pattern": {
              "fillmode": "overlay",
              "size": 10,
              "solidity": 0.2
             }
            },
            "type": "barpolar"
           }
          ],
          "carpet": [
           {
            "aaxis": {
             "endlinecolor": "#2a3f5f",
             "gridcolor": "white",
             "linecolor": "white",
             "minorgridcolor": "white",
             "startlinecolor": "#2a3f5f"
            },
            "baxis": {
             "endlinecolor": "#2a3f5f",
             "gridcolor": "white",
             "linecolor": "white",
             "minorgridcolor": "white",
             "startlinecolor": "#2a3f5f"
            },
            "type": "carpet"
           }
          ],
          "choropleth": [
           {
            "colorbar": {
             "outlinewidth": 0,
             "ticks": ""
            },
            "type": "choropleth"
           }
          ],
          "contour": [
           {
            "colorbar": {
             "outlinewidth": 0,
             "ticks": ""
            },
            "colorscale": [
             [
              0,
              "#0d0887"
             ],
             [
              0.1111111111111111,
              "#46039f"
             ],
             [
              0.2222222222222222,
              "#7201a8"
             ],
             [
              0.3333333333333333,
              "#9c179e"
             ],
             [
              0.4444444444444444,
              "#bd3786"
             ],
             [
              0.5555555555555556,
              "#d8576b"
             ],
             [
              0.6666666666666666,
              "#ed7953"
             ],
             [
              0.7777777777777778,
              "#fb9f3a"
             ],
             [
              0.8888888888888888,
              "#fdca26"
             ],
             [
              1,
              "#f0f921"
             ]
            ],
            "type": "contour"
           }
          ],
          "contourcarpet": [
           {
            "colorbar": {
             "outlinewidth": 0,
             "ticks": ""
            },
            "type": "contourcarpet"
           }
          ],
          "heatmap": [
           {
            "colorbar": {
             "outlinewidth": 0,
             "ticks": ""
            },
            "colorscale": [
             [
              0,
              "#0d0887"
             ],
             [
              0.1111111111111111,
              "#46039f"
             ],
             [
              0.2222222222222222,
              "#7201a8"
             ],
             [
              0.3333333333333333,
              "#9c179e"
             ],
             [
              0.4444444444444444,
              "#bd3786"
             ],
             [
              0.5555555555555556,
              "#d8576b"
             ],
             [
              0.6666666666666666,
              "#ed7953"
             ],
             [
              0.7777777777777778,
              "#fb9f3a"
             ],
             [
              0.8888888888888888,
              "#fdca26"
             ],
             [
              1,
              "#f0f921"
             ]
            ],
            "type": "heatmap"
           }
          ],
          "histogram": [
           {
            "marker": {
             "pattern": {
              "fillmode": "overlay",
              "size": 10,
              "solidity": 0.2
             }
            },
            "type": "histogram"
           }
          ],
          "histogram2d": [
           {
            "colorbar": {
             "outlinewidth": 0,
             "ticks": ""
            },
            "colorscale": [
             [
              0,
              "#0d0887"
             ],
             [
              0.1111111111111111,
              "#46039f"
             ],
             [
              0.2222222222222222,
              "#7201a8"
             ],
             [
              0.3333333333333333,
              "#9c179e"
             ],
             [
              0.4444444444444444,
              "#bd3786"
             ],
             [
              0.5555555555555556,
              "#d8576b"
             ],
             [
              0.6666666666666666,
              "#ed7953"
             ],
             [
              0.7777777777777778,
              "#fb9f3a"
             ],
             [
              0.8888888888888888,
              "#fdca26"
             ],
             [
              1,
              "#f0f921"
             ]
            ],
            "type": "histogram2d"
           }
          ],
          "histogram2dcontour": [
           {
            "colorbar": {
             "outlinewidth": 0,
             "ticks": ""
            },
            "colorscale": [
             [
              0,
              "#0d0887"
             ],
             [
              0.1111111111111111,
              "#46039f"
             ],
             [
              0.2222222222222222,
              "#7201a8"
             ],
             [
              0.3333333333333333,
              "#9c179e"
             ],
             [
              0.4444444444444444,
              "#bd3786"
             ],
             [
              0.5555555555555556,
              "#d8576b"
             ],
             [
              0.6666666666666666,
              "#ed7953"
             ],
             [
              0.7777777777777778,
              "#fb9f3a"
             ],
             [
              0.8888888888888888,
              "#fdca26"
             ],
             [
              1,
              "#f0f921"
             ]
            ],
            "type": "histogram2dcontour"
           }
          ],
          "mesh3d": [
           {
            "colorbar": {
             "outlinewidth": 0,
             "ticks": ""
            },
            "type": "mesh3d"
           }
          ],
          "parcoords": [
           {
            "line": {
             "colorbar": {
              "outlinewidth": 0,
              "ticks": ""
             }
            },
            "type": "parcoords"
           }
          ],
          "pie": [
           {
            "automargin": true,
            "type": "pie"
           }
          ],
          "scatter": [
           {
            "fillpattern": {
             "fillmode": "overlay",
             "size": 10,
             "solidity": 0.2
            },
            "type": "scatter"
           }
          ],
          "scatter3d": [
           {
            "line": {
             "colorbar": {
              "outlinewidth": 0,
              "ticks": ""
             }
            },
            "marker": {
             "colorbar": {
              "outlinewidth": 0,
              "ticks": ""
             }
            },
            "type": "scatter3d"
           }
          ],
          "scattercarpet": [
           {
            "marker": {
             "colorbar": {
              "outlinewidth": 0,
              "ticks": ""
             }
            },
            "type": "scattercarpet"
           }
          ],
          "scattergeo": [
           {
            "marker": {
             "colorbar": {
              "outlinewidth": 0,
              "ticks": ""
             }
            },
            "type": "scattergeo"
           }
          ],
          "scattergl": [
           {
            "marker": {
             "colorbar": {
              "outlinewidth": 0,
              "ticks": ""
             }
            },
            "type": "scattergl"
           }
          ],
          "scattermap": [
           {
            "marker": {
             "colorbar": {
              "outlinewidth": 0,
              "ticks": ""
             }
            },
            "type": "scattermap"
           }
          ],
          "scattermapbox": [
           {
            "marker": {
             "colorbar": {
              "outlinewidth": 0,
              "ticks": ""
             }
            },
            "type": "scattermapbox"
           }
          ],
          "scatterpolar": [
           {
            "marker": {
             "colorbar": {
              "outlinewidth": 0,
              "ticks": ""
             }
            },
            "type": "scatterpolar"
           }
          ],
          "scatterpolargl": [
           {
            "marker": {
             "colorbar": {
              "outlinewidth": 0,
              "ticks": ""
             }
            },
            "type": "scatterpolargl"
           }
          ],
          "scatterternary": [
           {
            "marker": {
             "colorbar": {
              "outlinewidth": 0,
              "ticks": ""
             }
            },
            "type": "scatterternary"
           }
          ],
          "surface": [
           {
            "colorbar": {
             "outlinewidth": 0,
             "ticks": ""
            },
            "colorscale": [
             [
              0,
              "#0d0887"
             ],
             [
              0.1111111111111111,
              "#46039f"
             ],
             [
              0.2222222222222222,
              "#7201a8"
             ],
             [
              0.3333333333333333,
              "#9c179e"
             ],
             [
              0.4444444444444444,
              "#bd3786"
             ],
             [
              0.5555555555555556,
              "#d8576b"
             ],
             [
              0.6666666666666666,
              "#ed7953"
             ],
             [
              0.7777777777777778,
              "#fb9f3a"
             ],
             [
              0.8888888888888888,
              "#fdca26"
             ],
             [
              1,
              "#f0f921"
             ]
            ],
            "type": "surface"
           }
          ],
          "table": [
           {
            "cells": {
             "fill": {
              "color": "#EBF0F8"
             },
             "line": {
              "color": "white"
             }
            },
            "header": {
             "fill": {
              "color": "#C8D4E3"
             },
             "line": {
              "color": "white"
             }
            },
            "type": "table"
           }
          ]
         },
         "layout": {
          "annotationdefaults": {
           "arrowcolor": "#2a3f5f",
           "arrowhead": 0,
           "arrowwidth": 1
          },
          "autotypenumbers": "strict",
          "coloraxis": {
           "colorbar": {
            "outlinewidth": 0,
            "ticks": ""
           }
          },
          "colorscale": {
           "diverging": [
            [
             0,
             "#8e0152"
            ],
            [
             0.1,
             "#c51b7d"
            ],
            [
             0.2,
             "#de77ae"
            ],
            [
             0.3,
             "#f1b6da"
            ],
            [
             0.4,
             "#fde0ef"
            ],
            [
             0.5,
             "#f7f7f7"
            ],
            [
             0.6,
             "#e6f5d0"
            ],
            [
             0.7,
             "#b8e186"
            ],
            [
             0.8,
             "#7fbc41"
            ],
            [
             0.9,
             "#4d9221"
            ],
            [
             1,
             "#276419"
            ]
           ],
           "sequential": [
            [
             0,
             "#0d0887"
            ],
            [
             0.1111111111111111,
             "#46039f"
            ],
            [
             0.2222222222222222,
             "#7201a8"
            ],
            [
             0.3333333333333333,
             "#9c179e"
            ],
            [
             0.4444444444444444,
             "#bd3786"
            ],
            [
             0.5555555555555556,
             "#d8576b"
            ],
            [
             0.6666666666666666,
             "#ed7953"
            ],
            [
             0.7777777777777778,
             "#fb9f3a"
            ],
            [
             0.8888888888888888,
             "#fdca26"
            ],
            [
             1,
             "#f0f921"
            ]
           ],
           "sequentialminus": [
            [
             0,
             "#0d0887"
            ],
            [
             0.1111111111111111,
             "#46039f"
            ],
            [
             0.2222222222222222,
             "#7201a8"
            ],
            [
             0.3333333333333333,
             "#9c179e"
            ],
            [
             0.4444444444444444,
             "#bd3786"
            ],
            [
             0.5555555555555556,
             "#d8576b"
            ],
            [
             0.6666666666666666,
             "#ed7953"
            ],
            [
             0.7777777777777778,
             "#fb9f3a"
            ],
            [
             0.8888888888888888,
             "#fdca26"
            ],
            [
             1,
             "#f0f921"
            ]
           ]
          },
          "colorway": [
           "#636efa",
           "#EF553B",
           "#00cc96",
           "#ab63fa",
           "#FFA15A",
           "#19d3f3",
           "#FF6692",
           "#B6E880",
           "#FF97FF",
           "#FECB52"
          ],
          "font": {
           "color": "#2a3f5f"
          },
          "geo": {
           "bgcolor": "white",
           "lakecolor": "white",
           "landcolor": "#E5ECF6",
           "showlakes": true,
           "showland": true,
           "subunitcolor": "white"
          },
          "hoverlabel": {
           "align": "left"
          },
          "hovermode": "closest",
          "mapbox": {
           "style": "light"
          },
          "paper_bgcolor": "white",
          "plot_bgcolor": "#E5ECF6",
          "polar": {
           "angularaxis": {
            "gridcolor": "white",
            "linecolor": "white",
            "ticks": ""
           },
           "bgcolor": "#E5ECF6",
           "radialaxis": {
            "gridcolor": "white",
            "linecolor": "white",
            "ticks": ""
           }
          },
          "scene": {
           "xaxis": {
            "backgroundcolor": "#E5ECF6",
            "gridcolor": "white",
            "gridwidth": 2,
            "linecolor": "white",
            "showbackground": true,
            "ticks": "",
            "zerolinecolor": "white"
           },
           "yaxis": {
            "backgroundcolor": "#E5ECF6",
            "gridcolor": "white",
            "gridwidth": 2,
            "linecolor": "white",
            "showbackground": true,
            "ticks": "",
            "zerolinecolor": "white"
           },
           "zaxis": {
            "backgroundcolor": "#E5ECF6",
            "gridcolor": "white",
            "gridwidth": 2,
            "linecolor": "white",
            "showbackground": true,
            "ticks": "",
            "zerolinecolor": "white"
           }
          },
          "shapedefaults": {
           "line": {
            "color": "#2a3f5f"
           }
          },
          "ternary": {
           "aaxis": {
            "gridcolor": "white",
            "linecolor": "white",
            "ticks": ""
           },
           "baxis": {
            "gridcolor": "white",
            "linecolor": "white",
            "ticks": ""
           },
           "bgcolor": "#E5ECF6",
           "caxis": {
            "gridcolor": "white",
            "linecolor": "white",
            "ticks": ""
           }
          },
          "title": {
           "x": 0.05
          },
          "xaxis": {
           "automargin": true,
           "gridcolor": "white",
           "linecolor": "white",
           "ticks": "",
           "title": {
            "standoff": 15
           },
           "zerolinecolor": "white",
           "zerolinewidth": 2
          },
          "yaxis": {
           "automargin": true,
           "gridcolor": "white",
           "linecolor": "white",
           "ticks": "",
           "title": {
            "standoff": 15
           },
           "zerolinecolor": "white",
           "zerolinewidth": 2
          }
         }
        },
        "title": {
         "text": "Número de Jogos por Dia da Semana"
        },
        "xaxis": {
         "anchor": "y",
         "domain": [
          0,
          1
         ],
         "title": {
          "text": "dia_semana"
         }
        },
        "yaxis": {
         "anchor": "x",
         "domain": [
          0,
          1
         ],
         "title": {
          "text": "count"
         }
        }
       }
      }
     },
     "metadata": {},
     "output_type": "display_data"
    }
   ],
   "source": [
    "fig_dia_semana = px.histogram(\n",
    "    df_modelo,\n",
    "    x=\"dia_semana\",\n",
    "    title=\"Número de Jogos por Dia da Semana\",\n",
    "    text_auto=True,\n",
    "    color_discrete_sequence=[\"green\"]\n",
    ")\n",
    "\n",
    "fig_dia_semana.show()"
   ]
  },
  {
   "cell_type": "code",
   "execution_count": 18,
   "id": "a7153e05",
   "metadata": {},
   "outputs": [
    {
     "data": {
      "application/vnd.plotly.v1+json": {
       "config": {
        "plotlyServerURL": "https://plot.ly"
       },
       "data": [
        {
         "hovertemplate": "temporada=%{x}<br>publico=%{y}<extra></extra>",
         "legendgroup": "",
         "marker": {
          "color": "orange",
          "pattern": {
           "shape": ""
          }
         },
         "name": "",
         "orientation": "v",
         "showlegend": false,
         "textposition": "auto",
         "texttemplate": "%{y:.2s}",
         "type": "bar",
         "x": {
          "bdata": "3gffB+AH4QfiB+MH5AflB+YH5wfoBw==",
          "dtype": "i2"
         },
         "xaxis": "x",
         "y": {
          "bdata": "+z23xFlT0EA2lNdQ3hDRQE79nluixM5Aqt9zS8w40ECc+j23dJDTQOiWOPXb6tVAAAAAAAAAAACamZmZGam4QDtWIIwEM9JA++T3Y4Rj2kBsKK+hLDXaQA==",
          "dtype": "f8"
         },
         "yaxis": "y"
        }
       ],
       "layout": {
        "bargap": 0.3,
        "barmode": "relative",
        "legend": {
         "tracegroupgap": 0
        },
        "template": {
         "data": {
          "bar": [
           {
            "error_x": {
             "color": "#2a3f5f"
            },
            "error_y": {
             "color": "#2a3f5f"
            },
            "marker": {
             "line": {
              "color": "#E5ECF6",
              "width": 0.5
             },
             "pattern": {
              "fillmode": "overlay",
              "size": 10,
              "solidity": 0.2
             }
            },
            "type": "bar"
           }
          ],
          "barpolar": [
           {
            "marker": {
             "line": {
              "color": "#E5ECF6",
              "width": 0.5
             },
             "pattern": {
              "fillmode": "overlay",
              "size": 10,
              "solidity": 0.2
             }
            },
            "type": "barpolar"
           }
          ],
          "carpet": [
           {
            "aaxis": {
             "endlinecolor": "#2a3f5f",
             "gridcolor": "white",
             "linecolor": "white",
             "minorgridcolor": "white",
             "startlinecolor": "#2a3f5f"
            },
            "baxis": {
             "endlinecolor": "#2a3f5f",
             "gridcolor": "white",
             "linecolor": "white",
             "minorgridcolor": "white",
             "startlinecolor": "#2a3f5f"
            },
            "type": "carpet"
           }
          ],
          "choropleth": [
           {
            "colorbar": {
             "outlinewidth": 0,
             "ticks": ""
            },
            "type": "choropleth"
           }
          ],
          "contour": [
           {
            "colorbar": {
             "outlinewidth": 0,
             "ticks": ""
            },
            "colorscale": [
             [
              0,
              "#0d0887"
             ],
             [
              0.1111111111111111,
              "#46039f"
             ],
             [
              0.2222222222222222,
              "#7201a8"
             ],
             [
              0.3333333333333333,
              "#9c179e"
             ],
             [
              0.4444444444444444,
              "#bd3786"
             ],
             [
              0.5555555555555556,
              "#d8576b"
             ],
             [
              0.6666666666666666,
              "#ed7953"
             ],
             [
              0.7777777777777778,
              "#fb9f3a"
             ],
             [
              0.8888888888888888,
              "#fdca26"
             ],
             [
              1,
              "#f0f921"
             ]
            ],
            "type": "contour"
           }
          ],
          "contourcarpet": [
           {
            "colorbar": {
             "outlinewidth": 0,
             "ticks": ""
            },
            "type": "contourcarpet"
           }
          ],
          "heatmap": [
           {
            "colorbar": {
             "outlinewidth": 0,
             "ticks": ""
            },
            "colorscale": [
             [
              0,
              "#0d0887"
             ],
             [
              0.1111111111111111,
              "#46039f"
             ],
             [
              0.2222222222222222,
              "#7201a8"
             ],
             [
              0.3333333333333333,
              "#9c179e"
             ],
             [
              0.4444444444444444,
              "#bd3786"
             ],
             [
              0.5555555555555556,
              "#d8576b"
             ],
             [
              0.6666666666666666,
              "#ed7953"
             ],
             [
              0.7777777777777778,
              "#fb9f3a"
             ],
             [
              0.8888888888888888,
              "#fdca26"
             ],
             [
              1,
              "#f0f921"
             ]
            ],
            "type": "heatmap"
           }
          ],
          "histogram": [
           {
            "marker": {
             "pattern": {
              "fillmode": "overlay",
              "size": 10,
              "solidity": 0.2
             }
            },
            "type": "histogram"
           }
          ],
          "histogram2d": [
           {
            "colorbar": {
             "outlinewidth": 0,
             "ticks": ""
            },
            "colorscale": [
             [
              0,
              "#0d0887"
             ],
             [
              0.1111111111111111,
              "#46039f"
             ],
             [
              0.2222222222222222,
              "#7201a8"
             ],
             [
              0.3333333333333333,
              "#9c179e"
             ],
             [
              0.4444444444444444,
              "#bd3786"
             ],
             [
              0.5555555555555556,
              "#d8576b"
             ],
             [
              0.6666666666666666,
              "#ed7953"
             ],
             [
              0.7777777777777778,
              "#fb9f3a"
             ],
             [
              0.8888888888888888,
              "#fdca26"
             ],
             [
              1,
              "#f0f921"
             ]
            ],
            "type": "histogram2d"
           }
          ],
          "histogram2dcontour": [
           {
            "colorbar": {
             "outlinewidth": 0,
             "ticks": ""
            },
            "colorscale": [
             [
              0,
              "#0d0887"
             ],
             [
              0.1111111111111111,
              "#46039f"
             ],
             [
              0.2222222222222222,
              "#7201a8"
             ],
             [
              0.3333333333333333,
              "#9c179e"
             ],
             [
              0.4444444444444444,
              "#bd3786"
             ],
             [
              0.5555555555555556,
              "#d8576b"
             ],
             [
              0.6666666666666666,
              "#ed7953"
             ],
             [
              0.7777777777777778,
              "#fb9f3a"
             ],
             [
              0.8888888888888888,
              "#fdca26"
             ],
             [
              1,
              "#f0f921"
             ]
            ],
            "type": "histogram2dcontour"
           }
          ],
          "mesh3d": [
           {
            "colorbar": {
             "outlinewidth": 0,
             "ticks": ""
            },
            "type": "mesh3d"
           }
          ],
          "parcoords": [
           {
            "line": {
             "colorbar": {
              "outlinewidth": 0,
              "ticks": ""
             }
            },
            "type": "parcoords"
           }
          ],
          "pie": [
           {
            "automargin": true,
            "type": "pie"
           }
          ],
          "scatter": [
           {
            "fillpattern": {
             "fillmode": "overlay",
             "size": 10,
             "solidity": 0.2
            },
            "type": "scatter"
           }
          ],
          "scatter3d": [
           {
            "line": {
             "colorbar": {
              "outlinewidth": 0,
              "ticks": ""
             }
            },
            "marker": {
             "colorbar": {
              "outlinewidth": 0,
              "ticks": ""
             }
            },
            "type": "scatter3d"
           }
          ],
          "scattercarpet": [
           {
            "marker": {
             "colorbar": {
              "outlinewidth": 0,
              "ticks": ""
             }
            },
            "type": "scattercarpet"
           }
          ],
          "scattergeo": [
           {
            "marker": {
             "colorbar": {
              "outlinewidth": 0,
              "ticks": ""
             }
            },
            "type": "scattergeo"
           }
          ],
          "scattergl": [
           {
            "marker": {
             "colorbar": {
              "outlinewidth": 0,
              "ticks": ""
             }
            },
            "type": "scattergl"
           }
          ],
          "scattermap": [
           {
            "marker": {
             "colorbar": {
              "outlinewidth": 0,
              "ticks": ""
             }
            },
            "type": "scattermap"
           }
          ],
          "scattermapbox": [
           {
            "marker": {
             "colorbar": {
              "outlinewidth": 0,
              "ticks": ""
             }
            },
            "type": "scattermapbox"
           }
          ],
          "scatterpolar": [
           {
            "marker": {
             "colorbar": {
              "outlinewidth": 0,
              "ticks": ""
             }
            },
            "type": "scatterpolar"
           }
          ],
          "scatterpolargl": [
           {
            "marker": {
             "colorbar": {
              "outlinewidth": 0,
              "ticks": ""
             }
            },
            "type": "scatterpolargl"
           }
          ],
          "scatterternary": [
           {
            "marker": {
             "colorbar": {
              "outlinewidth": 0,
              "ticks": ""
             }
            },
            "type": "scatterternary"
           }
          ],
          "surface": [
           {
            "colorbar": {
             "outlinewidth": 0,
             "ticks": ""
            },
            "colorscale": [
             [
              0,
              "#0d0887"
             ],
             [
              0.1111111111111111,
              "#46039f"
             ],
             [
              0.2222222222222222,
              "#7201a8"
             ],
             [
              0.3333333333333333,
              "#9c179e"
             ],
             [
              0.4444444444444444,
              "#bd3786"
             ],
             [
              0.5555555555555556,
              "#d8576b"
             ],
             [
              0.6666666666666666,
              "#ed7953"
             ],
             [
              0.7777777777777778,
              "#fb9f3a"
             ],
             [
              0.8888888888888888,
              "#fdca26"
             ],
             [
              1,
              "#f0f921"
             ]
            ],
            "type": "surface"
           }
          ],
          "table": [
           {
            "cells": {
             "fill": {
              "color": "#EBF0F8"
             },
             "line": {
              "color": "white"
             }
            },
            "header": {
             "fill": {
              "color": "#C8D4E3"
             },
             "line": {
              "color": "white"
             }
            },
            "type": "table"
           }
          ]
         },
         "layout": {
          "annotationdefaults": {
           "arrowcolor": "#2a3f5f",
           "arrowhead": 0,
           "arrowwidth": 1
          },
          "autotypenumbers": "strict",
          "coloraxis": {
           "colorbar": {
            "outlinewidth": 0,
            "ticks": ""
           }
          },
          "colorscale": {
           "diverging": [
            [
             0,
             "#8e0152"
            ],
            [
             0.1,
             "#c51b7d"
            ],
            [
             0.2,
             "#de77ae"
            ],
            [
             0.3,
             "#f1b6da"
            ],
            [
             0.4,
             "#fde0ef"
            ],
            [
             0.5,
             "#f7f7f7"
            ],
            [
             0.6,
             "#e6f5d0"
            ],
            [
             0.7,
             "#b8e186"
            ],
            [
             0.8,
             "#7fbc41"
            ],
            [
             0.9,
             "#4d9221"
            ],
            [
             1,
             "#276419"
            ]
           ],
           "sequential": [
            [
             0,
             "#0d0887"
            ],
            [
             0.1111111111111111,
             "#46039f"
            ],
            [
             0.2222222222222222,
             "#7201a8"
            ],
            [
             0.3333333333333333,
             "#9c179e"
            ],
            [
             0.4444444444444444,
             "#bd3786"
            ],
            [
             0.5555555555555556,
             "#d8576b"
            ],
            [
             0.6666666666666666,
             "#ed7953"
            ],
            [
             0.7777777777777778,
             "#fb9f3a"
            ],
            [
             0.8888888888888888,
             "#fdca26"
            ],
            [
             1,
             "#f0f921"
            ]
           ],
           "sequentialminus": [
            [
             0,
             "#0d0887"
            ],
            [
             0.1111111111111111,
             "#46039f"
            ],
            [
             0.2222222222222222,
             "#7201a8"
            ],
            [
             0.3333333333333333,
             "#9c179e"
            ],
            [
             0.4444444444444444,
             "#bd3786"
            ],
            [
             0.5555555555555556,
             "#d8576b"
            ],
            [
             0.6666666666666666,
             "#ed7953"
            ],
            [
             0.7777777777777778,
             "#fb9f3a"
            ],
            [
             0.8888888888888888,
             "#fdca26"
            ],
            [
             1,
             "#f0f921"
            ]
           ]
          },
          "colorway": [
           "#636efa",
           "#EF553B",
           "#00cc96",
           "#ab63fa",
           "#FFA15A",
           "#19d3f3",
           "#FF6692",
           "#B6E880",
           "#FF97FF",
           "#FECB52"
          ],
          "font": {
           "color": "#2a3f5f"
          },
          "geo": {
           "bgcolor": "white",
           "lakecolor": "white",
           "landcolor": "#E5ECF6",
           "showlakes": true,
           "showland": true,
           "subunitcolor": "white"
          },
          "hoverlabel": {
           "align": "left"
          },
          "hovermode": "closest",
          "mapbox": {
           "style": "light"
          },
          "paper_bgcolor": "white",
          "plot_bgcolor": "#E5ECF6",
          "polar": {
           "angularaxis": {
            "gridcolor": "white",
            "linecolor": "white",
            "ticks": ""
           },
           "bgcolor": "#E5ECF6",
           "radialaxis": {
            "gridcolor": "white",
            "linecolor": "white",
            "ticks": ""
           }
          },
          "scene": {
           "xaxis": {
            "backgroundcolor": "#E5ECF6",
            "gridcolor": "white",
            "gridwidth": 2,
            "linecolor": "white",
            "showbackground": true,
            "ticks": "",
            "zerolinecolor": "white"
           },
           "yaxis": {
            "backgroundcolor": "#E5ECF6",
            "gridcolor": "white",
            "gridwidth": 2,
            "linecolor": "white",
            "showbackground": true,
            "ticks": "",
            "zerolinecolor": "white"
           },
           "zaxis": {
            "backgroundcolor": "#E5ECF6",
            "gridcolor": "white",
            "gridwidth": 2,
            "linecolor": "white",
            "showbackground": true,
            "ticks": "",
            "zerolinecolor": "white"
           }
          },
          "shapedefaults": {
           "line": {
            "color": "#2a3f5f"
           }
          },
          "ternary": {
           "aaxis": {
            "gridcolor": "white",
            "linecolor": "white",
            "ticks": ""
           },
           "baxis": {
            "gridcolor": "white",
            "linecolor": "white",
            "ticks": ""
           },
           "bgcolor": "#E5ECF6",
           "caxis": {
            "gridcolor": "white",
            "linecolor": "white",
            "ticks": ""
           }
          },
          "title": {
           "x": 0.05
          },
          "xaxis": {
           "automargin": true,
           "gridcolor": "white",
           "linecolor": "white",
           "ticks": "",
           "title": {
            "standoff": 15
           },
           "zerolinecolor": "white",
           "zerolinewidth": 2
          },
          "yaxis": {
           "automargin": true,
           "gridcolor": "white",
           "linecolor": "white",
           "ticks": "",
           "title": {
            "standoff": 15
           },
           "zerolinecolor": "white",
           "zerolinewidth": 2
          }
         }
        },
        "title": {
         "text": "Público Médio por Temporada"
        },
        "xaxis": {
         "anchor": "y",
         "domain": [
          0,
          1
         ],
         "dtick": 1,
         "tickmode": "linear",
         "title": {
          "text": "temporada"
         }
        },
        "yaxis": {
         "anchor": "x",
         "domain": [
          0,
          1
         ],
         "title": {
          "text": "publico"
         }
        }
       }
      }
     },
     "metadata": {},
     "output_type": "display_data"
    }
   ],
   "source": [
    "# Público médio por temporada\n",
    "publico_medio_temporada = df_modelo.groupby('temporada')['publico'].mean().reset_index()\n",
    "\n",
    "fig_publico_temporada = px.bar(\n",
    "    publico_medio_temporada,\n",
    "    x='temporada',\n",
    "    y='publico',\n",
    "    title=\"Público Médio por Temporada\",\n",
    "    text_auto='.2s',\n",
    "    color_discrete_sequence=[\"orange\"]\n",
    ")\n",
    "\n",
    "fig_publico_temporada.update_layout(\n",
    "    xaxis=dict(tickmode='linear', dtick=1),\n",
    "    bargap=0.3\n",
    ")\n",
    "\n",
    "fig_publico_temporada.show()"
   ]
  },
  {
   "cell_type": "code",
   "execution_count": 19,
   "id": "6171b0af",
   "metadata": {},
   "outputs": [
    {
     "data": {
      "application/vnd.plotly.v1+json": {
       "config": {
        "plotlyServerURL": "https://plot.ly"
       },
       "data": [
        {
         "bingroup": "x",
         "hovertemplate": "hora_hora=%{x}<br>count=%{y}<extra></extra>",
         "legendgroup": "",
         "marker": {
          "color": "teal",
          "pattern": {
           "shape": ""
          }
         },
         "name": "",
         "nbinsx": 20,
         "orientation": "v",
         "showlegend": false,
         "texttemplate": "%{value}",
         "type": "histogram",
         "x": {
          "bdata": "EgAAABIAAAAQAAAAEAAAABAAAAAQAAAAEgAAABIAAAASAAAAFQAAABIAAAAQAAAAEAAAABAAAAAQAAAAEgAAABIAAAASAAAAEgAAABUAAAASAAAAEgAAABIAAAAQAAAAEAAAABAAAAAQAAAAEgAAABIAAAAVAAAAEgAAABIAAAAQAAAAEAAAABAAAAAQAAAAEgAAABIAAAASAAAAFQAAABYAAAASAAAAEAAAABAAAAAQAAAAEAAAABEAAAASAAAAEgAAABMAAAATAAAAEwAAABMAAAAVAAAAFQAAABYAAAAWAAAAFgAAABUAAAASAAAAEAAAABAAAAAQAAAAEAAAABIAAAASAAAAEgAAABIAAAAVAAAAEwAAABMAAAATAAAAEwAAABUAAAAVAAAAFgAAABYAAAAWAAAAFQAAABIAAAASAAAAEAAAABAAAAAQAAAAEAAAABIAAAASAAAAEgAAABUAAAAVAAAAEwAAABMAAAATAAAAEwAAABMAAAAWAAAAFgAAABYAAAAVAAAAEgAAABIAAAASAAAAEAAAABAAAAAQAAAAEgAAABIAAAASAAAAFQAAABIAAAASAAAAEgAAABAAAAAQAAAAEAAAABAAAAASAAAAEgAAABUAAAASAAAAEgAAABAAAAAQAAAAEAAAABAAAAASAAAAEgAAABIAAAAVAAAAFQAAABIAAAASAAAAEAAAABAAAAAQAAAAEAAAABIAAAASAAAAEgAAABUAAAASAAAAEAAAABAAAAAQAAAAEAAAABAAAAASAAAAEgAAABIAAAAVAAAAEwAAABMAAAATAAAAEwAAABQAAAAVAAAAFQAAABYAAAAWAAAAFgAAABIAAAASAAAAEAAAABAAAAAQAAAAEAAAABAAAAASAAAAEgAAABUAAAASAAAAEgAAABAAAAAQAAAAEAAAABAAAAAQAAAAEgAAABIAAAASAAAAEgAAABIAAAAQAAAAEAAAABAAAAAQAAAAEgAAABIAAAASAAAAFQAAABMAAAATAAAAEwAAABMAAAAUAAAAFQAAABUAAAAWAAAAFgAAABYAAAASAAAAEgAAABAAAAAQAAAAEAAAABAAAAASAAAAEgAAABIAAAAVAAAAEwAAABMAAAATAAAAEwAAABQAAAAVAAAAFQAAABYAAAAWAAAAFgAAABIAAAAQAAAAEAAAABAAAAAQAAAAEAAAABIAAAASAAAAEgAAABUAAAATAAAAEwAAABMAAAATAAAAFAAAABUAAAAVAAAAFgAAABYAAAAWAAAAEgAAABIAAAAQAAAAEAAAABAAAAAQAAAAEgAAABIAAAASAAAAFQAAABMAAAAQAAAAEAAAABAAAAAQAAAAEAAAABIAAAASAAAAEgAAABUAAAATAAAAEwAAABMAAAATAAAAEwAAABQAAAAVAAAAFgAAABYAAAAWAAAAEgAAABIAAAAQAAAAEAAAABAAAAAQAAAAEgAAABIAAAASAAAAFQAAABIAAAASAAAAEgAAABAAAAAQAAAAEAAAABAAAAARAAAAEgAAABUAAAAUAAAAEwAAABMAAAATAAAAEwAAABUAAAAVAAAAFQAAABYAAAAWAAAAEAAAABAAAAAQAAAAEQAAABIAAAASAAAAEgAAABMAAAAVAAAAFAAAABMAAAATAAAAFQAAABAAAAARAAAAEQAAABEAAAATAAAAEwAAABMAAAATAAAAEwAAABUAAAAQAAAAEAAAABEAAAARAAAAEwAAABMAAAATAAAAFgAAABMAAAATAAAAEAAAABEAAAARAAAAEQAAABEAAAATAAAAEwAAABMAAAATAAAAEwAAABQAAAAUAAAAFQAAABMAAAAVAAAAFgAAABYAAAATAAAAFAAAABAAAAAQAAAAEAAAABEAAAARAAAAEwAAABMAAAATAAAAEwAAABMAAAATAAAAEQAAABEAAAARAAAAEQAAABIAAAATAAAAEwAAABAAAAAQAAAAEAAAABAAAAARAAAAEQAAABEAAAARAAAAEQAAABEAAAASAAAAEgAAAAsAAAAPAAAAEAAAABAAAAAQAAAAEgAAABIAAAAVAAAAEgAAABIAAAALAAAAEAAAABAAAAAQAAAAEgAAABIAAAASAAAAFQAAABIAAAASAAAACwAAABAAAAAQAAAAEAAAABAAAAASAAAAEgAAABUAAAASAAAAEgAAAAsAAAAQAAAAEAAAABAAAAAQAAAAEgAAABIAAAAVAAAAEwAAABMAAAATAAAAEAAAABUAAAAWAAAAFgAAABYAAAAVAAAAFQAAABIAAAASAAAAEgAAAAsAAAATAAAAEwAAABMAAAAWAAAAFgAAABYAAAATAAAAEAAAABAAAAAQAAAACwAAABAAAAAQAAAAEAAAABUAAAAVAAAAFQAAABAAAAAQAAAAEAAAAAsAAAAQAAAAEAAAABAAAAAVAAAAEwAAABAAAAAQAAAACwAAABAAAAAQAAAAEAAAABAAAAASAAAAEgAAABUAAAATAAAAEwAAABMAAAATAAAAFQAAABUAAAAWAAAAFgAAABYAAAAVAAAADwAAAAsAAAAQAAAAEAAAABAAAAASAAAAEgAAABIAAAAVAAAAFQAAABMAAAATAAAAEwAAABMAAAAVAAAAFQAAABYAAAAWAAAAFgAAABUAAAASAAAAEgAAAAsAAAAQAAAAEAAAABAAAAAQAAAAEgAAABIAAAAVAAAAEgAAABIAAAALAAAAEAAAABAAAAAQAAAAEAAAABIAAAASAAAAFQAAABIAAAATAAAACwAAAAsAAAAQAAAAEAAAABAAAAAQAAAAEgAAABUAAAAWAAAAFgAAABIAAAALAAAACwAAABAAAAAQAAAAEAAAABAAAAASAAAAEgAAAAsAAAALAAAAEAAAABAAAAAQAAAAEAAAABIAAAASAAAAFQAAABMAAAATAAAAEwAAABUAAAAVAAAAFgAAABYAAAAWAAAAFQAAABUAAAASAAAAEgAAAAsAAAAQAAAAEAAAABAAAAAQAAAAEgAAABIAAAAVAAAAEgAAABIAAAALAAAACwAAABAAAAAQAAAAEAAAABAAAAASAAAAFQAAABIAAAALAAAACwAAABAAAAAQAAAAEAAAABAAAAASAAAAEgAAABUAAAATAAAAEwAAABMAAAATAAAAFQAAABUAAAAWAAAAFgAAABYAAAAVAAAAEwAAABMAAAALAAAACwAAABAAAAAQAAAAEAAAABAAAAASAAAAFQAAABMAAAATAAAAEwAAABMAAAAVAAAAFgAAABYAAAAWAAAAFQAAABUAAAASAAAACwAAAAsAAAAQAAAAEAAAABAAAAAQAAAAEgAAABIAAAAVAAAAEwAAABMAAAATAAAAEwAAABUAAAAVAAAAFgAAABYAAAAWAAAAFQAAABIAAAASAAAACwAAAAsAAAAQAAAAEAAAABAAAAASAAAAEgAAABUAAAASAAAACwAAAAsAAAAQAAAAEAAAABAAAAAQAAAAEgAAABIAAAAVAAAAEgAAABIAAAALAAAACwAAABAAAAAQAAAAEAAAABAAAAASAAAAFQAAABMAAAATAAAAEwAAABMAAAAVAAAAFQAAABUAAAAWAAAAFgAAABUAAAASAAAACwAAAAsAAAAQAAAAEAAAABAAAAARAAAAEQAAABEAAAAVAAAAEQAAABIAAAASAAAAFQAAABEAAAARAAAAEQAAABEAAAASAAAAEwAAABEAAAATAAAAEwAAABUAAAARAAAAEQAAABEAAAARAAAAEgAAABMAAAARAAAAEwAAABMAAAAVAAAAEQAAABEAAAARAAAAEQAAABIAAAASAAAAEQAAABMAAAAVAAAAFQAAABUAAAATAAAAFAAAABYAAAAWAAAAFgAAABMAAAARAAAAEQAAABEAAAARAAAAEQAAABIAAAASAAAAEwAAABMAAAARAAAAEwAAABUAAAAQAAAAEQAAABEAAAASAAAAEgAAABIAAAATAAAAEQAAABEAAAARAAAAEQAAABEAAAARAAAAEQAAABEAAAARAAAAEQAAABAAAAAQAAAAEgAAAAsAAAALAAAAEAAAABAAAAAQAAAAEgAAABUAAAAQAAAAEgAAAAsAAAALAAAAEAAAABAAAAAQAAAAEAAAABIAAAAVAAAAEwAAABMAAAALAAAAEAAAABUAAAAVAAAAFQAAABUAAAAVAAAAFQAAABAAAAASAAAACwAAAAsAAAAQAAAAEAAAABAAAAASAAAAEgAAABUAAAATAAAAEwAAABUAAAAVAAAAFQAAABUAAAAVAAAAFQAAABUAAAAVAAAAEAAAABQAAAAUAAAACwAAAAsAAAAQAAAAEAAAABAAAAAQAAAAEgAAABAAAAAQAAAAEgAAAAsAAAALAAAAEAAAABAAAAAQAAAAEwAAABUAAAATAAAAEwAAABMAAAATAAAAFAAAABUAAAAVAAAAFQAAABUAAAAVAAAAEAAAABIAAAALAAAACwAAABAAAAAQAAAAEAAAABAAAAATAAAAFQAAABMAAAAVAAAADwAAABMAAAAVAAAAFQAAABUAAAAVAAAAFQAAABUAAAATAAAACwAAABAAAAAQAAAAEAAAABAAAAAQAAAAEgAAABIAAAAVAAAAEwAAABMAAAATAAAAEwAAABMAAAAVAAAAFQAAABUAAAAVAAAAFQAAABAAAAASAAAACwAAAAsAAAAQAAAAEAAAABAAAAAQAAAAEwAAABQAAAAQAAAAEAAAAAsAAAALAAAAEAAAABAAAAATAAAAFQAAABQAAAAUAAAAEAAAABIAAAALAAAAEAAAABAAAAAQAAAAEAAAABAAAAASAAAAFAAAABAAAAASAAAACwAAAAsAAAAQAAAAEAAAABAAAAAQAAAAEgAAABQAAAASAAAAEgAAAAsAAAALAAAAEAAAABAAAAAQAAAAEgAAABIAAAAVAAAAEwAAABMAAAATAAAAEwAAABMAAAAUAAAAFQAAABUAAAAVAAAAEgAAAAsAAAAQAAAAEAAAABAAAAAQAAAAEgAAABQAAAAVAAAAEAAAABIAAAALAAAACwAAABAAAAAQAAAAEAAAABAAAAASAAAAFAAAABUAAAALAAAACwAAABAAAAAQAAAAEAAAABIAAAASAAAAFQAAABQAAAAQAAAACwAAAAsAAAAQAAAAEAAAABAAAAAQAAAAEgAAABIAAAAUAAAAEAAAABAAAAAQAAAAEAAAABAAAAATAAAAEwAAABUAAAAVAAAAFQAAABUAAAAVAAAAEgAAAAsAAAALAAAAEAAAABAAAAAQAAAAEAAAABIAAAASAAAAFAAAABMAAAATAAAAEwAAABMAAAAVAAAAFQAAABUAAAAVAAAAFQAAABUAAAAQAAAACwAAABAAAAAQAAAAEAAAABAAAAAQAAAAEgAAABIAAAAUAAAAEAAAABIAAAALAAAACwAAABAAAAAQAAAAEAAAABAAAAASAAAAFQAAAAsAAAAQAAAAEAAAABAAAAAQAAAAEAAAABIAAAAVAAAAFAAAABUAAAATAAAAEwAAABMAAAAVAAAAFQAAABUAAAARAAAAEQAAABEAAAAVAAAACwAAABMAAAATAAAAEwAAABMAAAAUAAAAFQAAABUAAAAVAAAAFQAAABEAAAARAAAAEQAAABEAAAARAAAAEgAAABIAAAASAAAAEwAAABQAAAAUAAAAEQAAABAAAAARAAAAEQAAABEAAAASAAAAEwAAABMAAAAUAAAAEwAAABMAAAAQAAAAEAAAABAAAAASAAAAEgAAABMAAAATAAAAFAAAABEAAAATAAAACwAAABAAAAAQAAAAEQAAABEAAAATAAAAEwAAABQAAAARAAAAEwAAABQAAAAVAAAAFQAAABUAAAATAAAAEwAAABUAAAAVAAAAEAAAABEAAAARAAAAEQAAABEAAAARAAAAEgAAABMAAAATAAAAFAAAABQAAAAUAAAAFQAAABEAAAARAAAAEQAAABEAAAASAAAAEwAAABQAAAAQAAAAEAAAABEAAAARAAAAEQAAABEAAAARAAAAEQAAABEAAAARAAAAEAAAABMAAAALAAAAEAAAABAAAAAQAAAAEAAAABAAAAATAAAAFAAAABAAAAATAAAAEwAAAAsAAAAQAAAAEAAAABAAAAASAAAAEwAAABQAAAAQAAAAEwAAAAsAAAAQAAAAEAAAABAAAAASAAAAEwAAABUAAAAUAAAAEAAAABIAAAATAAAACwAAAAsAAAAQAAAAEAAAABAAAAATAAAAFAAAABQAAAATAAAAEwAAABMAAAATAAAAFAAAABUAAAAVAAAAFQAAABUAAAAQAAAAEwAAAAsAAAAQAAAAEAAAABAAAAAQAAAAEgAAABMAAAAUAAAAEwAAABMAAAATAAAAEwAAABAAAAAVAAAAFQAAABUAAAAVAAAAFQAAABAAAAATAAAACwAAABAAAAAQAAAAEAAAABAAAAATAAAAFQAAABQAAAATAAAAEwAAABMAAAAVAAAAFQAAABUAAAAVAAAAFQAAABUAAAAVAAAAEwAAAAsAAAAQAAAAEAAAABAAAAAQAAAAEAAAABIAAAATAAAAFAAAABAAAAATAAAAEAAAABAAAAAQAAAAEAAAABAAAAATAAAAEwAAABQAAAAQAAAAEgAAABMAAAALAAAAEAAAABAAAAAQAAAAEwAAABMAAAAUAAAAEwAAABMAAAATAAAAEwAAABMAAAAVAAAAFQAAABUAAAAVAAAAFQAAABMAAAALAAAAEAAAABAAAAAQAAAAEAAAABAAAAATAAAAEwAAABQAAAATAAAAEwAAABMAAAAUAAAAFQAAABUAAAAVAAAAFQAAABUAAAAVAAAAEAAAABMAAAALAAAAEAAAABAAAAAQAAAAEwAAABMAAAATAAAAFAAAABAAAAATAAAACwAAABAAAAAQAAAAEAAAABMAAAATAAAAFAAAABMAAAATAAAAEwAAABMAAAAUAAAAFQAAABUAAAAVAAAAFQAAABUAAAATAAAAEwAAAAsAAAAQAAAAEAAAABAAAAAQAAAAEAAAABMAAAATAAAAFAAAABAAAAATAAAACwAAABAAAAAQAAAAEAAAABMAAAATAAAAFAAAABAAAAATAAAACwAAABAAAAAQAAAAEAAAABAAAAATAAAAEwAAABQAAAATAAAAEAAAABMAAAAQAAAAEAAAABAAAAAQAAAAEwAAABMAAAAUAAAAEAAAABAAAAASAAAAEwAAAAsAAAAQAAAAEAAAABAAAAATAAAAEwAAABQAAAATAAAACwAAABAAAAAQAAAAEAAAABAAAAAQAAAAEwAAABUAAAAUAAAAEwAAAAsAAAAQAAAAEAAAABAAAAAQAAAAEwAAABMAAAAVAAAAFAAAABAAAAAQAAAAEwAAABAAAAAQAAAAEAAAABAAAAAQAAAAEwAAABQAAAAQAAAAEwAAABMAAAARAAAAEQAAABEAAAAVAAAAFQAAABUAAAAVAAAAFQAAABMAAAAQAAAAEQAAABEAAAARAAAAEgAAABMAAAAVAAAAFAAAABMAAAATAAAAFQAAABUAAAAVAAAAFQAAABMAAAAUAAAAFAAAABUAAAARAAAAEAAAABEAAAARAAAAEQAAABEAAAARAAAAEwAAABMAAAAUAAAAEQAAABMAAAAVAAAAEQAAABEAAAARAAAAEQAAABEAAAATAAAAFAAAABEAAAATAAAAEwAAABUAAAARAAAAEQAAABEAAAARAAAAEwAAABMAAAATAAAAEwAAABQAAAAUAAAAFQAAABUAAAAVAAAAFAAAABQAAAAVAAAAEQAAABMAAAARAAAAEQAAABEAAAARAAAAEQAAABMAAAATAAAAFAAAABEAAAATAAAAEwAAABUAAAAVAAAAFAAAABQAAAAUAAAAFAAAABUAAAAQAAAAEAAAABEAAAARAAAAEQAAABMAAAATAAAAEwAAABEAAAAUAAAAEQAAABEAAAARAAAAEQAAABEAAAARAAAAEQAAABIAAAATAAAAFAAAABAAAAAQAAAAEQAAABEAAAARAAAAEQAAABEAAAARAAAAEQAAABEAAAAQAAAAEwAAAAsAAAAQAAAAEAAAABAAAAATAAAAFQAAABQAAAAUAAAAEAAAABMAAAALAAAAEAAAABAAAAAQAAAAEAAAABAAAAATAAAAFAAAABAAAAAQAAAAEAAAABAAAAAQAAAAEAAAABAAAAATAAAAFAAAABMAAAATAAAACwAAABAAAAAQAAAAEAAAABAAAAATAAAAEwAAABQAAAAQAAAACwAAABAAAAAQAAAAEAAAABAAAAAQAAAAEwAAABQAAAAUAAAAEAAAABMAAAALAAAAEAAAABAAAAAQAAAAEAAAABMAAAAVAAAAFAAAABAAAAATAAAACwAAABAAAAAQAAAAEAAAABAAAAATAAAAEwAAABUAAAATAAAAEwAAABMAAAAQAAAAEgAAABUAAAAVAAAAFQAAABUAAAAVAAAAEAAAABAAAAATAAAAEAAAABAAAAAQAAAAEAAAABMAAAAVAAAAFAAAABMAAAATAAAAFQAAABQAAAAUAAAAFQAAABUAAAAVAAAAFQAAABUAAAAQAAAAEwAAABMAAAAQAAAAEAAAABAAAAAQAAAAEwAAABMAAAAVAAAAEAAAABMAAAATAAAAEwAAABUAAAAVAAAAFQAAABUAAAAVAAAAFQAAABMAAAATAAAAEwAAABQAAAAUAAAAFQAAABUAAAAVAAAAFQAAABUAAAATAAAAEAAAABAAAAAQAAAAEAAAABAAAAATAAAAEwAAABUAAAAUAAAAEwAAABMAAAATAAAAEwAAABQAAAAVAAAAFQAAABUAAAAQAAAACwAAAAsAAAAQAAAAEAAAABAAAAAQAAAAEwAAABMAAAAUAAAAEAAAABMAAAAQAAAAEAAAABAAAAAQAAAAEwAAABMAAAAVAAAAFAAAABMAAAAQAAAAEwAAAAsAAAALAAAAEAAAABAAAAAQAAAAEwAAABMAAAAUAAAAEAAAABMAAAALAAAACwAAABAAAAAQAAAAEAAAABMAAAATAAAAFAAAABMAAAATAAAAEwAAABQAAAAVAAAAFQAAABUAAAAVAAAAEAAAABMAAAATAAAACwAAABAAAAAQAAAAEAAAABMAAAAVAAAAFQAAABMAAAATAAAAEAAAABAAAAATAAAACwAAABAAAAAQAAAAEAAAABMAAAATAAAAFQAAABMAAAATAAAAFAAAABMAAAATAAAAFAAAABUAAAAVAAAAFQAAABUAAAAQAAAAEwAAABAAAAAQAAAAEAAAABAAAAATAAAAEwAAABUAAAAUAAAAFAAAABAAAAAQAAAAEwAAAAsAAAAQAAAAEAAAABAAAAAQAAAAEwAAABQAAAAQAAAACwAAABAAAAAQAAAAEAAAABIAAAASAAAAEwAAABQAAAAUAAAAFAAAABAAAAATAAAACwAAABAAAAAQAAAAEAAAABAAAAATAAAAFQAAABQAAAATAAAAEAAAABAAAAASAAAAFQAAABUAAAAVAAAAFAAAABUAAAARAAAAEwAAAAsAAAAQAAAAEAAAABAAAAATAAAAEwAAABUAAAAUAAAAEAAAABAAAAATAAAAEwAAABAAAAARAAAAEQAAABQAAAAUAAAAFQAAABQAAAATAAAAEQAAABEAAAAUAAAAFAAAABQAAAAWAAAAFwAAABcAAAAUAAAAEgAAABIAAAAUAAAAEQAAABEAAAARAAAAEQAAABIAAAATAAAAEwAAABEAAAARAAAAEwAAABMAAAAQAAAAEAAAABEAAAARAAAAEwAAABQAAAATAAAAFAAAABQAAAAVAAAAFQAAABUAAAARAAAAEQAAABMAAAAVAAAAEgAAABMAAAAVAAAAEAAAABEAAAARAAAAEQAAABMAAAATAAAAFAAAABMAAAAVAAAAFQAAABUAAAAVAAAAFQAAABQAAAAUAAAAFAAAABUAAAAUAAAAEAAAABEAAAARAAAAEQAAABMAAAATAAAAEwAAABQAAAAUAAAAEwAAABMAAAAQAAAAEAAAABAAAAARAAAAEQAAABEAAAARAAAAEQAAABAAAAATAAAAEwAAAAsAAAAQAAAAEAAAABAAAAATAAAAEwAAABUAAAAQAAAAEAAAABAAAAATAAAAEwAAABMAAAAUAAAAFQAAABUAAAAVAAAAEwAAABMAAAALAAAAEAAAABAAAAAQAAAAEAAAABMAAAATAAAAFQAAABAAAAATAAAACwAAABAAAAAQAAAAEAAAABMAAAATAAAAEwAAABUAAAASAAAAEwAAABMAAAALAAAAEAAAABAAAAAQAAAAEAAAABMAAAATAAAAEAAAABMAAAAQAAAAEAAAABMAAAATAAAAEwAAABMAAAAUAAAAFAAAABAAAAATAAAACwAAABAAAAAQAAAAEAAAABMAAAATAAAAEwAAABQAAAAQAAAAEwAAABMAAAATAAAAEwAAABMAAAATAAAAFQAAABQAAAATAAAAEwAAABQAAAAUAAAAFAAAABQAAAAVAAAAFQAAABUAAAAVAAAAEQAAABEAAAATAAAAEwAAAAsAAAAQAAAAEAAAABAAAAATAAAAFAAAAAsAAAARAAAAEwAAABMAAAATAAAACwAAABAAAAAQAAAAEwAAABQAAAARAAAAEwAAABMAAAATAAAACwAAABAAAAAQAAAAEwAAABMAAAAUAAAAEwAAABMAAAALAAAAEAAAABAAAAATAAAAEwAAABMAAAAUAAAAEwAAABEAAAARAAAAEwAAAAsAAAAQAAAAEAAAABAAAAATAAAAFQAAABQAAAARAAAAEQAAABMAAAATAAAAEAAAABAAAAAQAAAAEAAAABMAAAAVAAAAEwAAAAsAAAARAAAAEAAAABAAAAAQAAAAEwAAABMAAAATAAAAFAAAAAsAAAARAAAAEwAAABMAAAAQAAAAEAAAABMAAAATAAAAFQAAABQAAAALAAAACwAAABEAAAARAAAAEwAAAAsAAAAQAAAAEAAAABMAAAAVAAAAFQAAABEAAAATAAAAEwAAAAsAAAALAAAAEAAAABAAAAAQAAAAEwAAABUAAAALAAAAEQAAABMAAAALAAAAEAAAABAAAAAQAAAAEwAAABUAAAAUAAAAEwAAABMAAAAUAAAAFAAAABUAAAAVAAAAFQAAABUAAAATAAAACwAAABAAAAAQAAAAEAAAABMAAAATAAAAFAAAABQAAAAUAAAAEwAAABMAAAARAAAAEQAAABMAAAATAAAACwAAABAAAAAQAAAAEAAAABMAAAAVAAAAEwAAABMAAAAUAAAAEwAAABMAAAAUAAAAFQAAABUAAAAVAAAAFQAAABEAAAATAAAAEAAAABAAAAAQAAAAEAAAABIAAAATAAAAEwAAABUAAAATAAAAEwAAABQAAAATAAAAEwAAABUAAAAVAAAAFQAAABUAAAAVAAAAEQAAABMAAAARAAAAEQAAABEAAAATAAAAEwAAABMAAAATAAAAFAAAABEAAAASAAAAEwAAABMAAAARAAAAEQAAABEAAAATAAAAFAAAABYAAAAUAAAAFAAAABQAAAAUAAAAFAAAABUAAAAVAAAAFQAAABUAAAAVAAAAEQAAABQAAAAUAAAAEQAAABMAAAATAAAAFAAAABQAAAAUAAAAFQAAABQAAAAUAAAAEwAAABQAAAAUAAAAFQAAABUAAAAVAAAAFQAAABUAAAASAAAAFAAAABEAAAARAAAAEQAAABMAAAATAAAAEwAAABQAAAAUAAAAFQAAABEAAAATAAAAEAAAABAAAAASAAAAEgAAABIAAAATAAAAEwAAABQAAAAQAAAAEAAAABAAAAASAAAAEwAAABMAAAATAAAAFQAAABQAAAATAAAAEwAAABMAAAAUAAAAFAAAABUAAAAVAAAAFQAAABUAAAAVAAAAEwAAABMAAAAQAAAAEAAAABAAAAASAAAAEgAAABMAAAATAAAAFAAAABMAAAATAAAAEwAAABMAAAATAAAAEwAAABQAAAAVAAAAFQAAABUAAAAQAAAAEAAAABAAAAAQAAAAEAAAABAAAAAQAAAAEAAAABAAAAAQAAAAEwAAABMAAAAQAAAAEAAAABMAAAAVAAAAEwAAABMAAAATAAAAFAAAABQAAAATAAAAEwAAABQAAAAVAAAAFQAAABMAAAATAAAACwAAABAAAAAQAAAAEgAAABMAAAATAAAAEwAAABUAAAATAAAAEwAAABMAAAAUAAAAFAAAABMAAAAUAAAAFAAAABUAAAAVAAAAEAAAABMAAAALAAAAEAAAABAAAAAQAAAAEwAAABQAAAAVAAAAEwAAABUAAAARAAAAEwAAABMAAAALAAAAEAAAABAAAAASAAAAFQAAABMAAAATAAAAEwAAABQAAAAUAAAAFAAAABMAAAAUAAAAFQAAABUAAAARAAAAEwAAAAsAAAAQAAAAEAAAABIAAAATAAAAFAAAABQAAAAVAAAAEQAAABIAAAASAAAAEwAAABMAAAATAAAAEwAAABUAAAAVAAAAFQAAABAAAAATAAAAEAAAABAAAAASAAAAEgAAABIAAAASAAAAEwAAABQAAAAVAAAAEwAAABMAAAAQAAAAEAAAABIAAAAUAAAAFQAAABUAAAATAAAAEwAAAAsAAAAQAAAAEgAAABIAAAAUAAAAFQAAABQAAAAVAAAAFQAAABEAAAATAAAACwAAABAAAAAQAAAAEgAAABIAAAASAAAAFAAAABUAAAATAAAAEwAAABMAAAATAAAAFAAAABQAAAATAAAAFQAAABUAAAAVAAAAEQAAABMAAAATAAAAEAAAABAAAAASAAAAEgAAABQAAAAUAAAAFQAAABIAAAASAAAAEwAAABQAAAAUAAAAFQAAABUAAAAVAAAAFAAAABMAAAATAAAAEwAAABAAAAASAAAAFAAAABQAAAAVAAAAFAAAABQAAAAVAAAAEQAAABMAAAAQAAAAEAAAABIAAAASAAAAFgAAABEAAAATAAAAEwAAABAAAAAQAAAAEgAAABQAAAAVAAAAEQAAABQAAAASAAAAEwAAABAAAAAQAAAAEgAAABIAAAASAAAAFAAAABQAAAAVAAAAEgAAABAAAAAQAAAAEQAAABMAAAATAAAAEwAAABUAAAAVAAAAEgAAABQAAAATAAAAEwAAABQAAAATAAAAEwAAABAAAAAQAAAAEgAAABIAAAAUAAAAFQAAABQAAAATAAAAFAAAABUAAAAVAAAAEQAAABEAAAATAAAAFQAAABIAAAASAAAAFAAAABMAAAAVAAAAEQAAABEAAAATAAAAEwAAABAAAAAQAAAAEgAAABUAAAAUAAAAFQAAABEAAAARAAAAEwAAABMAAAAQAAAAEgAAABIAAAAUAAAAFQAAABUAAAAVAAAAFQAAABMAAAAQAAAAEAAAABIAAAAUAAAAFQAAABUAAAAUAAAAEQAAABMAAAATAAAAEAAAABAAAAASAAAAEgAAABIAAAAUAAAAFQAAABMAAAATAAAAFAAAABQAAAATAAAAFQAAABUAAAAVAAAAEwAAABMAAAAQAAAAEAAAABIAAAASAAAAFAAAABUAAAAUAAAAFQAAABMAAAAVAAAAEAAAABAAAAASAAAAFAAAABQAAAAVAAAAEwAAABQAAAARAAAAEgAAABMAAAAUAAAAEwAAABMAAAATAAAAFQAAABUAAAAVAAAAEwAAABAAAAAQAAAAEAAAABIAAAASAAAAEgAAABQAAAAVAAAAFAAAABQAAAAUAAAAEwAAABQAAAAQAAAAEAAAABAAAAAQAAAAEQAAABIAAAAUAAAAFAAAABAAAAAQAAAAEwAAABIAAAAVAAAAFQAAABUAAAAUAAAAFQAAABUAAAATAAAAFAAAABUAAAAUAAAAEwAAABMAAAAVAAAAFQAAABUAAAARAAAAEwAAABMAAAAQAAAAEAAAABIAAAASAAAAFAAAABIAAAAUAAAAEwAAABMAAAASAAAAFQAAABAAAAAQAAAAEAAAABIAAAASAAAAFAAAABUAAAASAAAAFAAAABUAAAAVAAAAFQAAABUAAAAVAAAAFQAAABUAAAAVAAAAFQAAABUAAAASAAAAFAAAAAsAAAAQAAAAEAAAABIAAAASAAAAEgAAABQAAAAVAAAAEwAAAAsAAAAQAAAAEAAAABIAAAASAAAAFAAAABUAAAAVAAAAEwAAABMAAAAQAAAAEAAAABAAAAAUAAAAFAAAABQAAAAUAAAAEwAAABMAAAAUAAAAEAAAABAAAAATAAAAEwAAABMAAAAVAAAACwAAABAAAAAQAAAAEgAAABIAAAASAAAAFAAAABUAAAAUAAAAEwAAABMAAAATAAAAEwAAABAAAAATAAAAEwAAABMAAAAVAAAAFQAAAAsAAAAQAAAAFAAAABQAAAAUAAAAFAAAABQAAAAUAAAAFAAAABQAAAAQAAAAEAAAABMAAAATAAAAFAAAABAAAAATAAAAEwAAABUAAAAVAAAAEwAAABMAAAALAAAAEAAAABAAAAARAAAAEgAAABIAAAAUAAAAFQAAABMAAAASAAAAEgAAABIAAAATAAAAEwAAABMAAAAVAAAAFQAAABUAAAAQAAAAEAAAABEAAAATAAAAEwAAABMAAAALAAAAEQAAABIAAAAUAAAAEQAAABEAAAATAAAACwAAABAAAAASAAAAFAAAABQAAAAVAAAAFAAAABIAAAARAAAAEwAAAAsAAAAQAAAAEAAAABIAAAASAAAAFAAAABIAAAATAAAAEwAAABQAAAAQAAAAEAAAABIAAAASAAAAFAAAABQAAAAVAAAAEwAAABIAAAAQAAAAEAAAABAAAAASAAAAEgAAABQAAAAVAAAAFAAAABEAAAATAAAAEAAAABAAAAARAAAAEgAAABIAAAAUAAAAFQAAABQAAAASAAAAEQAAABMAAAALAAAAEAAAABAAAAASAAAAFAAAABUAAAAUAAAAFAAAABEAAAATAAAACwAAABAAAAASAAAAFAAAABUAAAAVAAAAEwAAABUAAAATAAAAEgAAABQAAAAVAAAAFQAAABUAAAAQAAAAEQAAABMAAAALAAAAEAAAABAAAAASAAAAFAAAABUAAAAUAAAAEQAAABIAAAATAAAACwAAABAAAAASAAAAFAAAABUAAAAVAAAAEwAAABQAAAARAAAAEwAAAAsAAAAQAAAAEAAAABAAAAASAAAAEgAAABQAAAAVAAAAEAAAABEAAAATAAAAEAAAABAAAAASAAAAFAAAABUAAAATAAAAEwAAABMAAAATAAAAFAAAABUAAAASAAAAFQAAABUAAAAVAAAAEAAAABAAAAAQAAAAEwAAABMAAAALAAAAEAAAABUAAAAVAAAAEwAAABMAAAATAAAAEwAAABMAAAAUAAAAFQAAABIAAAATAAAAFQAAABUAAAATAAAAEAAAABAAAAASAAAAEgAAABIAAAAUAAAAFAAAABUAAAAUAAAAEwAAABQAAAARAAAAEQAAABMAAAATAAAAEAAAABAAAAASAAAAFAAAABQAAAAVAAAAEwAAABMAAAATAAAAEQAAABMAAAATAAAAEAAAABAAAAASAAAAFAAAABYAAAATAAAAEAAAABUAAAAVAAAAFAAAABEAAAATAAAAFQAAABAAAAAQAAAAEAAAABIAAAAUAAAAFQAAABQAAAASAAAAEwAAABMAAAAUAAAAFQAAABMAAAAVAAAAFQAAABUAAAARAAAAEgAAABMAAAATAAAAEAAAABIAAAATAAAAEwAAABUAAAAQAAAAEgAAABIAAAATAAAAEwAAABQAAAAUAAAAFAAAABUAAAAVAAAAEwAAABMAAAATAAAAEAAAABEAAAATAAAAFQAAABUAAAATAAAAFQAAABUAAAATAAAAFAAAABUAAAAVAAAAEwAAABMAAAAQAAAAEAAAABMAAAAVAAAAEwAAABMAAAAUAAAAFQAAABUAAAASAAAAFAAAABMAAAAUAAAAFAAAABUAAAAQAAAAEAAAABAAAAATAAAAEwAAABMAAAATAAAAFAAAABQAAAAVAAAAFQAAABUAAAAVAAAAFQAAABUAAAAVAAAAFQAAABUAAAAVAAAAFQAAABAAAAATAAAACwAAABAAAAAQAAAAEgAAABMAAAATAAAAFQAAABQAAAAQAAAAEwAAABMAAAALAAAAEAAAABIAAAASAAAAEgAAABMAAAAUAAAAEwAAABAAAAAQAAAAEwAAABMAAAAQAAAAEgAAABIAAAAVAAAAFAAAABAAAAAQAAAAEgAAABIAAAALAAAAEAAAABAAAAATAAAAFAAAABAAAAAUAAAACwAAABAAAAAQAAAAEgAAABIAAAATAAAAEwAAABQAAAAUAAAAEAAAABAAAAATAAAAEwAAABAAAAARAAAAEgAAABIAAAATAAAAFQAAABAAAAAQAAAAEgAAABMAAAAQAAAAEAAAABMAAAAUAAAAFQAAABAAAAATAAAAFAAAABAAAAAQAAAAEQAAABIAAAASAAAAEwAAABQAAAAUAAAAEAAAABMAAAATAAAAEwAAABQAAAALAAAAEAAAABAAAAATAAAAFAAAABMAAAATAAAAFAAAABQAAAAUAAAAEwAAABQAAAAUAAAAFQAAABUAAAAQAAAAEgAAABMAAAATAAAAEAAAABAAAAASAAAAEwAAABUAAAATAAAAEwAAABMAAAAUAAAAFAAAABUAAAAQAAAAEgAAABMAAAAVAAAAFQAAABIAAAAQAAAAEAAAABAAAAASAAAAEgAAABIAAAATAAAAFQAAABQAAAAQAAAAEwAAABMAAAAVAAAAEAAAABAAAAASAAAAEgAAABIAAAAVAAAAEAAAABAAAAATAAAAEwAAAAsAAAAQAAAAEgAAABIAAAAVAAAAFAAAABAAAAATAAAAFAAAAAsAAAAQAAAAEgAAABIAAAASAAAAEgAAABQAAAAQAAAAEwAAABMAAAALAAAAEAAAABIAAAASAAAAEwAAABUAAAAUAAAAEwAAABMAAAATAAAAFAAAABQAAAAVAAAAEgAAABQAAAAVAAAAFQAAABMAAAALAAAAEAAAABAAAAAQAAAAEgAAABIAAAATAAAAFQAAABQAAAAQAAAAEAAAABMAAAAUAAAAEAAAABAAAAARAAAAEgAAABMAAAAUAAAAEAAAABAAAAATAAAAEwAAABQAAAAQAAAAEAAAABIAAAATAAAAFAAAABAAAAATAAAAEwAAAAsAAAAQAAAAEAAAABAAAAASAAAAEwAAABUAAAAQAAAAEwAAAAsAAAAQAAAAEgAAABIAAAASAAAAEgAAABMAAAAUAAAAEAAAABAAAAATAAAAEAAAABAAAAARAAAAEgAAABUAAAAUAAAAFQAAABAAAAATAAAAEwAAABQAAAALAAAAEAAAABAAAAASAAAAEgAAABQAAAARAAAAEAAAABAAAAATAAAACwAAAAsAAAAQAAAAEAAAABMAAAAVAAAAEAAAABMAAAALAAAAEAAAABAAAAASAAAAEgAAABIAAAATAAAAFAAAABQAAAATAAAAEwAAABMAAAATAAAAFQAAABQAAAAVAAAAFQAAABUAAAAPAAAADwAAAA8AAAATAAAAEwAAABMAAAATAAAAFQAAABQAAAATAAAAEwAAABMAAAATAAAAFQAAABMAAAAUAAAAFAAAABUAAAAVAAAAEgAAAAsAAAAQAAAAEAAAABIAAAASAAAAEgAAABUAAAASAAAAFAAAABQAAAAUAAAAEAAAABAAAAASAAAAEgAAABMAAAATAAAAFAAAABQAAAAQAAAAEwAAABMAAAAQAAAAEAAAABEAAAASAAAAEgAAABUAAAAUAAAAEwAAABUAAAAVAAAAEwAAABMAAAATAAAAEwAAABUAAAAVAAAAFQAAABMAAAAUAAAAEwAAABAAAAAQAAAAEwAAABMAAAATAAAAFQAAABUAAAAVAAAAEAAAABAAAAATAAAAEwAAABQAAAAQAAAAEAAAABEAAAAVAAAAFAAAABMAAAATAAAAEwAAABQAAAAVAAAAFAAAABQAAAAVAAAAFQAAABUAAAAQAAAADwAAABAAAAAQAAAAEAAAABAAAAAQAAAAEAAAABAAAAAQAAAAEAAAABAAAAASAAAAEgAAABIAAAASAAAAEAAAABAAAAASAAAAFQAAABAAAAARAAAAEgAAAAsAAAAQAAAAEAAAABIAAAATAAAAFQAAABQAAAAQAAAAEAAAABIAAAASAAAAEgAAABAAAAARAAAAEgAAABUAAAAUAAAAEAAAAAsAAAAQAAAAEAAAABAAAAASAAAAEgAAABIAAAAVAAAAFAAAABMAAAATAAAAEwAAABMAAAAUAAAAEwAAABMAAAAUAAAAFQAAABUAAAAQAAAAEgAAABIAAAAQAAAAEAAAABAAAAASAAAAEgAAABIAAAAVAAAAEAAAABIAAAASAAAAEgAAABIAAAASAAAAEAAAABIAAAAVAAAAFAAAABAAAAAQAAAAEQAAABIAAAAQAAAAEAAAABIAAAASAAAAEwAAABUAAAAQAAAAEgAAABIAAAASAAAAEAAAABAAAAASAAAAEgAAABUAAAAUAAAAEAAAABIAAAASAAAAEgAAAAsAAAAQAAAAEAAAABIAAAASAAAAFQAAABMAAAATAAAAFAAAABMAAAATAAAAFAAAABQAAAAVAAAAFQAAABUAAAAQAAAAEgAAABIAAAAQAAAAEAAAABIAAAASAAAAEgAAABUAAAAVAAAAEAAAABIAAAASAAAACwAAABAAAAAQAAAAEAAAABEAAAAVAAAAFAAAAA8AAAAQAAAAEgAAABIAAAALAAAAEAAAABAAAAASAAAAEgAAABUAAAALAAAAEAAAABAAAAAQAAAAEgAAABIAAAAVAAAAFAAAABAAAAAQAAAAEQAAABIAAAAQAAAAEAAAABAAAAASAAAAFQAAABMAAAAQAAAAEAAAABAAAAASAAAAEgAAAAsAAAAQAAAAEAAAABIAAAAVAAAAEAAAABIAAAASAAAAEAAAABAAAAASAAAAEgAAABIAAAATAAAAFQAAAAsAAAAQAAAAEAAAABAAAAASAAAAEgAAABUAAAATAAAAFAAAABUAAAAQAAAAEAAAABEAAAASAAAACwAAABAAAAAQAAAAEAAAABUAAAAUAAAAEgAAAAsAAAAQAAAAEAAAABAAAAASAAAAEgAAABIAAAATAAAAFQAAABAAAAAQAAAACwAAABAAAAAQAAAAEgAAABIAAAASAAAAFQAAABMAAAATAAAAFAAAABUAAAAVAAAAEwAAABUAAAAQAAAAFQAAABUAAAAUAAAAFQAAABMAAAAVAAAAEwAAABMAAAAVAAAAFQAAABQAAAAVAAAAFQAAABQAAAATAAAAEAAAABAAAAARAAAAEgAAABAAAAAQAAAAEAAAABIAAAAVAAAAFAAAABAAAAASAAAAEAAAABAAAAAQAAAAEgAAABIAAAASAAAAFQAAABQAAAATAAAAFAAAABQAAAATAAAAEwAAABQAAAAVAAAAFQAAABUAAAAVAAAAEQAAABIAAAASAAAADwAAABAAAAAQAAAAEAAAABIAAAASAAAAEgAAABMAAAATAAAAEwAAABQAAAAUAAAAEwAAABQAAAAVAAAAFQAAABMAAAATAAAAEAAAABAAAAASAAAAEgAAABQAAAAWAAAAEwAAABMAAAATAAAAFAAAABQAAAAQAAAAEgAAABQAAAAVAAAAFQAAABMAAAATAAAAEAAAABAAAAAQAAAAEgAAABUAAAATAAAAFQAAABMAAAATAAAAFAAAABQAAAATAAAAEwAAABQAAAAUAAAAFQAAABAAAAASAAAAEAAAABAAAAARAAAAEgAAABIAAAASAAAAFQAAABIAAAATAAAAEwAAABUAAAAVAAAAEwAAABUAAAAQAAAAEAAAABIAAAASAAAAEgAAABIAAAAVAAAAFQAAABMAAAATAAAAEwAAABQAAAAVAAAAEwAAABQAAAAUAAAAFQAAABUAAAASAAAAEAAAABAAAAASAAAAEgAAABIAAAASAAAAEgAAABIAAAAVAAAAEwAAABQAAAAVAAAAFQAAABUAAAAVAAAAFQAAABUAAAAVAAAAFQAAABIAAAASAAAAEAAAABAAAAAQAAAAEAAAABEAAAASAAAAFQAAABUAAAATAAAAEwAAABQAAAAUAAAAFAAAABQAAAAVAAAAFQAAABUAAAAQAAAAEgAAABIAAAAQAAAAEAAAABAAAAASAAAAEgAAABUAAAAQAAAAEQAAAAsAAAAQAAAAEAAAABIAAAASAAAAFAAAABUAAAAUAAAAEAAAABIAAAAQAAAAEAAAABEAAAASAAAAFQAAABAAAAAQAAAAEAAAABAAAAASAAAAEgAAABQAAAAQAAAAEAAAABEAAAASAAAAEAAAABAAAAAQAAAAEgAAABIAAAAVAAAAEwAAABMAAAAQAAAAEwAAABMAAAAUAAAAFQAAABMAAAAUAAAAFAAAABQAAAAVAAAAFQAAABIAAAAQAAAAEAAAABAAAAARAAAAEgAAABIAAAASAAAAFQAAABQAAAATAAAAEwAAABQAAAAUAAAAFAAAABIAAAAUAAAAFQAAABUAAAAVAAAAEAAAABEAAAARAAAAEAAAABAAAAAQAAAAEgAAABIAAAASAAAAFQAAABMAAAATAAAAFAAAABQAAAAUAAAAEwAAABQAAAAVAAAAFQAAABUAAAARAAAAEgAAAAsAAAAQAAAAEAAAABAAAAASAAAAEgAAABIAAAAUAAAAEgAAABQAAAAUAAAAEwAAABMAAAAUAAAAFAAAABUAAAAVAAAAFQAAABQAAAAUAAAAEAAAABAAAAAQAAAAEgAAABIAAAASAAAAEgAAABQAAAASAAAAEwAAABMAAAATAAAAFAAAABQAAAAVAAAAFQAAABAAAAAQAAAAEwAAABMAAAAUAAAAFQAAABUAAAAVAAAAEAAAABIAAAALAAAAEAAAABAAAAASAAAAEgAAABIAAAATAAAAFQAAABMAAAATAAAAEwAAABQAAAAUAAAAFQAAABUAAAATAAAAEwAAABQAAAALAAAAEAAAABIAAAATAAAAEwAAABUAAAAVAAAAEAAAABMAAAAUAAAAFAAAABAAAAAQAAAAEAAAABEAAAAVAAAAFQAAABAAAAASAAAACwAAABAAAAAQAAAAEAAAABMAAAAVAAAAFQAAABUAAAATAAAAEAAAABAAAAASAAAAEAAAABAAAAAQAAAAEgAAABIAAAAVAAAAFAAAABAAAAASAAAAEAAAABAAAAAQAAAAEgAAABMAAAAUAAAAFQAAABUAAAATAAAAEwAAABEAAAALAAAACwAAABAAAAASAAAAEgAAABIAAAASAAAAEgAAABUAAAATAAAAEwAAABAAAAASAAAAEAAAABAAAAAQAAAAEgAAABIAAAASAAAAFQAAABQAAAAQAAAAEAAAABIAAAAQAAAAEAAAABEAAAASAAAAEgAAABQAAAAVAAAAEwAAABMAAAASAAAACwAAABAAAAAQAAAAEAAAABIAAAASAAAAEgAAABQAAAAVAAAAEwAAABUAAAAQAAAAEAAAABAAAAASAAAAEwAAABMAAAAVAAAAFQAAABMAAAAUAAAAFAAAABUAAAAVAAAAEwAAABQAAAAQAAAAEAAAABUAAAAUAAAAEwAAABMAAAAQAAAAEAAAABAAAAAQAAAAEgAAABMAAAATAAAAFgAAABIAAAAVAAAAEwAAABAAAAASAAAAEgAAABUAAAAUAAAAFQAAABUAAAAVAAAAFQAAABUAAAATAAAAEAAAABAAAAATAAAAEwAAABMAAAATAAAAFQAAABUAAAAUAAAAEgAAAAsAAAAQAAAAEAAAABAAAAASAAAAEgAAABMAAAAUAAAAFQAAABMAAAATAAAAEwAAABUAAAAQAAAAEAAAABAAAAAVAAAAEwAAABQAAAAVAAAAFQAAABUAAAASAAAAEwAAABAAAAAQAAAAEgAAABIAAAASAAAAFQAAABQAAAATAAAAFAAAABQAAAAUAAAAFAAAABQAAAAVAAAAFQAAABUAAAAPAAAAEAAAABAAAAAQAAAAEAAAABAAAAAQAAAAEAAAABAAAAAQAAAA",
          "dtype": "i4"
         },
         "xaxis": "x",
         "yaxis": "y"
        }
       ],
       "layout": {
        "bargap": 0.2,
        "barmode": "relative",
        "legend": {
         "tracegroupgap": 0
        },
        "template": {
         "data": {
          "bar": [
           {
            "error_x": {
             "color": "#2a3f5f"
            },
            "error_y": {
             "color": "#2a3f5f"
            },
            "marker": {
             "line": {
              "color": "#E5ECF6",
              "width": 0.5
             },
             "pattern": {
              "fillmode": "overlay",
              "size": 10,
              "solidity": 0.2
             }
            },
            "type": "bar"
           }
          ],
          "barpolar": [
           {
            "marker": {
             "line": {
              "color": "#E5ECF6",
              "width": 0.5
             },
             "pattern": {
              "fillmode": "overlay",
              "size": 10,
              "solidity": 0.2
             }
            },
            "type": "barpolar"
           }
          ],
          "carpet": [
           {
            "aaxis": {
             "endlinecolor": "#2a3f5f",
             "gridcolor": "white",
             "linecolor": "white",
             "minorgridcolor": "white",
             "startlinecolor": "#2a3f5f"
            },
            "baxis": {
             "endlinecolor": "#2a3f5f",
             "gridcolor": "white",
             "linecolor": "white",
             "minorgridcolor": "white",
             "startlinecolor": "#2a3f5f"
            },
            "type": "carpet"
           }
          ],
          "choropleth": [
           {
            "colorbar": {
             "outlinewidth": 0,
             "ticks": ""
            },
            "type": "choropleth"
           }
          ],
          "contour": [
           {
            "colorbar": {
             "outlinewidth": 0,
             "ticks": ""
            },
            "colorscale": [
             [
              0,
              "#0d0887"
             ],
             [
              0.1111111111111111,
              "#46039f"
             ],
             [
              0.2222222222222222,
              "#7201a8"
             ],
             [
              0.3333333333333333,
              "#9c179e"
             ],
             [
              0.4444444444444444,
              "#bd3786"
             ],
             [
              0.5555555555555556,
              "#d8576b"
             ],
             [
              0.6666666666666666,
              "#ed7953"
             ],
             [
              0.7777777777777778,
              "#fb9f3a"
             ],
             [
              0.8888888888888888,
              "#fdca26"
             ],
             [
              1,
              "#f0f921"
             ]
            ],
            "type": "contour"
           }
          ],
          "contourcarpet": [
           {
            "colorbar": {
             "outlinewidth": 0,
             "ticks": ""
            },
            "type": "contourcarpet"
           }
          ],
          "heatmap": [
           {
            "colorbar": {
             "outlinewidth": 0,
             "ticks": ""
            },
            "colorscale": [
             [
              0,
              "#0d0887"
             ],
             [
              0.1111111111111111,
              "#46039f"
             ],
             [
              0.2222222222222222,
              "#7201a8"
             ],
             [
              0.3333333333333333,
              "#9c179e"
             ],
             [
              0.4444444444444444,
              "#bd3786"
             ],
             [
              0.5555555555555556,
              "#d8576b"
             ],
             [
              0.6666666666666666,
              "#ed7953"
             ],
             [
              0.7777777777777778,
              "#fb9f3a"
             ],
             [
              0.8888888888888888,
              "#fdca26"
             ],
             [
              1,
              "#f0f921"
             ]
            ],
            "type": "heatmap"
           }
          ],
          "histogram": [
           {
            "marker": {
             "pattern": {
              "fillmode": "overlay",
              "size": 10,
              "solidity": 0.2
             }
            },
            "type": "histogram"
           }
          ],
          "histogram2d": [
           {
            "colorbar": {
             "outlinewidth": 0,
             "ticks": ""
            },
            "colorscale": [
             [
              0,
              "#0d0887"
             ],
             [
              0.1111111111111111,
              "#46039f"
             ],
             [
              0.2222222222222222,
              "#7201a8"
             ],
             [
              0.3333333333333333,
              "#9c179e"
             ],
             [
              0.4444444444444444,
              "#bd3786"
             ],
             [
              0.5555555555555556,
              "#d8576b"
             ],
             [
              0.6666666666666666,
              "#ed7953"
             ],
             [
              0.7777777777777778,
              "#fb9f3a"
             ],
             [
              0.8888888888888888,
              "#fdca26"
             ],
             [
              1,
              "#f0f921"
             ]
            ],
            "type": "histogram2d"
           }
          ],
          "histogram2dcontour": [
           {
            "colorbar": {
             "outlinewidth": 0,
             "ticks": ""
            },
            "colorscale": [
             [
              0,
              "#0d0887"
             ],
             [
              0.1111111111111111,
              "#46039f"
             ],
             [
              0.2222222222222222,
              "#7201a8"
             ],
             [
              0.3333333333333333,
              "#9c179e"
             ],
             [
              0.4444444444444444,
              "#bd3786"
             ],
             [
              0.5555555555555556,
              "#d8576b"
             ],
             [
              0.6666666666666666,
              "#ed7953"
             ],
             [
              0.7777777777777778,
              "#fb9f3a"
             ],
             [
              0.8888888888888888,
              "#fdca26"
             ],
             [
              1,
              "#f0f921"
             ]
            ],
            "type": "histogram2dcontour"
           }
          ],
          "mesh3d": [
           {
            "colorbar": {
             "outlinewidth": 0,
             "ticks": ""
            },
            "type": "mesh3d"
           }
          ],
          "parcoords": [
           {
            "line": {
             "colorbar": {
              "outlinewidth": 0,
              "ticks": ""
             }
            },
            "type": "parcoords"
           }
          ],
          "pie": [
           {
            "automargin": true,
            "type": "pie"
           }
          ],
          "scatter": [
           {
            "fillpattern": {
             "fillmode": "overlay",
             "size": 10,
             "solidity": 0.2
            },
            "type": "scatter"
           }
          ],
          "scatter3d": [
           {
            "line": {
             "colorbar": {
              "outlinewidth": 0,
              "ticks": ""
             }
            },
            "marker": {
             "colorbar": {
              "outlinewidth": 0,
              "ticks": ""
             }
            },
            "type": "scatter3d"
           }
          ],
          "scattercarpet": [
           {
            "marker": {
             "colorbar": {
              "outlinewidth": 0,
              "ticks": ""
             }
            },
            "type": "scattercarpet"
           }
          ],
          "scattergeo": [
           {
            "marker": {
             "colorbar": {
              "outlinewidth": 0,
              "ticks": ""
             }
            },
            "type": "scattergeo"
           }
          ],
          "scattergl": [
           {
            "marker": {
             "colorbar": {
              "outlinewidth": 0,
              "ticks": ""
             }
            },
            "type": "scattergl"
           }
          ],
          "scattermap": [
           {
            "marker": {
             "colorbar": {
              "outlinewidth": 0,
              "ticks": ""
             }
            },
            "type": "scattermap"
           }
          ],
          "scattermapbox": [
           {
            "marker": {
             "colorbar": {
              "outlinewidth": 0,
              "ticks": ""
             }
            },
            "type": "scattermapbox"
           }
          ],
          "scatterpolar": [
           {
            "marker": {
             "colorbar": {
              "outlinewidth": 0,
              "ticks": ""
             }
            },
            "type": "scatterpolar"
           }
          ],
          "scatterpolargl": [
           {
            "marker": {
             "colorbar": {
              "outlinewidth": 0,
              "ticks": ""
             }
            },
            "type": "scatterpolargl"
           }
          ],
          "scatterternary": [
           {
            "marker": {
             "colorbar": {
              "outlinewidth": 0,
              "ticks": ""
             }
            },
            "type": "scatterternary"
           }
          ],
          "surface": [
           {
            "colorbar": {
             "outlinewidth": 0,
             "ticks": ""
            },
            "colorscale": [
             [
              0,
              "#0d0887"
             ],
             [
              0.1111111111111111,
              "#46039f"
             ],
             [
              0.2222222222222222,
              "#7201a8"
             ],
             [
              0.3333333333333333,
              "#9c179e"
             ],
             [
              0.4444444444444444,
              "#bd3786"
             ],
             [
              0.5555555555555556,
              "#d8576b"
             ],
             [
              0.6666666666666666,
              "#ed7953"
             ],
             [
              0.7777777777777778,
              "#fb9f3a"
             ],
             [
              0.8888888888888888,
              "#fdca26"
             ],
             [
              1,
              "#f0f921"
             ]
            ],
            "type": "surface"
           }
          ],
          "table": [
           {
            "cells": {
             "fill": {
              "color": "#EBF0F8"
             },
             "line": {
              "color": "white"
             }
            },
            "header": {
             "fill": {
              "color": "#C8D4E3"
             },
             "line": {
              "color": "white"
             }
            },
            "type": "table"
           }
          ]
         },
         "layout": {
          "annotationdefaults": {
           "arrowcolor": "#2a3f5f",
           "arrowhead": 0,
           "arrowwidth": 1
          },
          "autotypenumbers": "strict",
          "coloraxis": {
           "colorbar": {
            "outlinewidth": 0,
            "ticks": ""
           }
          },
          "colorscale": {
           "diverging": [
            [
             0,
             "#8e0152"
            ],
            [
             0.1,
             "#c51b7d"
            ],
            [
             0.2,
             "#de77ae"
            ],
            [
             0.3,
             "#f1b6da"
            ],
            [
             0.4,
             "#fde0ef"
            ],
            [
             0.5,
             "#f7f7f7"
            ],
            [
             0.6,
             "#e6f5d0"
            ],
            [
             0.7,
             "#b8e186"
            ],
            [
             0.8,
             "#7fbc41"
            ],
            [
             0.9,
             "#4d9221"
            ],
            [
             1,
             "#276419"
            ]
           ],
           "sequential": [
            [
             0,
             "#0d0887"
            ],
            [
             0.1111111111111111,
             "#46039f"
            ],
            [
             0.2222222222222222,
             "#7201a8"
            ],
            [
             0.3333333333333333,
             "#9c179e"
            ],
            [
             0.4444444444444444,
             "#bd3786"
            ],
            [
             0.5555555555555556,
             "#d8576b"
            ],
            [
             0.6666666666666666,
             "#ed7953"
            ],
            [
             0.7777777777777778,
             "#fb9f3a"
            ],
            [
             0.8888888888888888,
             "#fdca26"
            ],
            [
             1,
             "#f0f921"
            ]
           ],
           "sequentialminus": [
            [
             0,
             "#0d0887"
            ],
            [
             0.1111111111111111,
             "#46039f"
            ],
            [
             0.2222222222222222,
             "#7201a8"
            ],
            [
             0.3333333333333333,
             "#9c179e"
            ],
            [
             0.4444444444444444,
             "#bd3786"
            ],
            [
             0.5555555555555556,
             "#d8576b"
            ],
            [
             0.6666666666666666,
             "#ed7953"
            ],
            [
             0.7777777777777778,
             "#fb9f3a"
            ],
            [
             0.8888888888888888,
             "#fdca26"
            ],
            [
             1,
             "#f0f921"
            ]
           ]
          },
          "colorway": [
           "#636efa",
           "#EF553B",
           "#00cc96",
           "#ab63fa",
           "#FFA15A",
           "#19d3f3",
           "#FF6692",
           "#B6E880",
           "#FF97FF",
           "#FECB52"
          ],
          "font": {
           "color": "#2a3f5f"
          },
          "geo": {
           "bgcolor": "white",
           "lakecolor": "white",
           "landcolor": "#E5ECF6",
           "showlakes": true,
           "showland": true,
           "subunitcolor": "white"
          },
          "hoverlabel": {
           "align": "left"
          },
          "hovermode": "closest",
          "mapbox": {
           "style": "light"
          },
          "paper_bgcolor": "white",
          "plot_bgcolor": "#E5ECF6",
          "polar": {
           "angularaxis": {
            "gridcolor": "white",
            "linecolor": "white",
            "ticks": ""
           },
           "bgcolor": "#E5ECF6",
           "radialaxis": {
            "gridcolor": "white",
            "linecolor": "white",
            "ticks": ""
           }
          },
          "scene": {
           "xaxis": {
            "backgroundcolor": "#E5ECF6",
            "gridcolor": "white",
            "gridwidth": 2,
            "linecolor": "white",
            "showbackground": true,
            "ticks": "",
            "zerolinecolor": "white"
           },
           "yaxis": {
            "backgroundcolor": "#E5ECF6",
            "gridcolor": "white",
            "gridwidth": 2,
            "linecolor": "white",
            "showbackground": true,
            "ticks": "",
            "zerolinecolor": "white"
           },
           "zaxis": {
            "backgroundcolor": "#E5ECF6",
            "gridcolor": "white",
            "gridwidth": 2,
            "linecolor": "white",
            "showbackground": true,
            "ticks": "",
            "zerolinecolor": "white"
           }
          },
          "shapedefaults": {
           "line": {
            "color": "#2a3f5f"
           }
          },
          "ternary": {
           "aaxis": {
            "gridcolor": "white",
            "linecolor": "white",
            "ticks": ""
           },
           "baxis": {
            "gridcolor": "white",
            "linecolor": "white",
            "ticks": ""
           },
           "bgcolor": "#E5ECF6",
           "caxis": {
            "gridcolor": "white",
            "linecolor": "white",
            "ticks": ""
           }
          },
          "title": {
           "x": 0.05
          },
          "xaxis": {
           "automargin": true,
           "gridcolor": "white",
           "linecolor": "white",
           "ticks": "",
           "title": {
            "standoff": 15
           },
           "zerolinecolor": "white",
           "zerolinewidth": 2
          },
          "yaxis": {
           "automargin": true,
           "gridcolor": "white",
           "linecolor": "white",
           "ticks": "",
           "title": {
            "standoff": 15
           },
           "zerolinecolor": "white",
           "zerolinewidth": 2
          }
         }
        },
        "title": {
         "text": "Distribuição dos Horários dos Jogos"
        },
        "xaxis": {
         "anchor": "y",
         "domain": [
          0,
          1
         ],
         "dtick": 1,
         "tickmode": "linear",
         "title": {
          "text": "hora_hora"
         }
        },
        "yaxis": {
         "anchor": "x",
         "domain": [
          0,
          1
         ],
         "title": {
          "text": "count"
         }
        }
       }
      }
     },
     "metadata": {},
     "output_type": "display_data"
    }
   ],
   "source": [
    "# Vamos pegar só a hora (sem minutos/segundos) para análise\n",
    "df_modelo['hora_hora'] = df_modelo['data_hora'].dt.hour\n",
    "\n",
    "fig_horarios = px.histogram(\n",
    "    df_modelo,\n",
    "    x=\"hora_hora\",\n",
    "    nbins=20,\n",
    "    title=\"Distribuição dos Horários dos Jogos\",\n",
    "    text_auto=True,\n",
    "    color_discrete_sequence=[\"teal\"]\n",
    ")\n",
    "\n",
    "fig_horarios.update_layout(\n",
    "    xaxis=dict(tickmode='linear', dtick=1),\n",
    "    bargap=0.2\n",
    ")\n",
    "\n",
    "fig_horarios.show()\n"
   ]
  },
  {
   "cell_type": "code",
   "execution_count": 20,
   "id": "45900a6e",
   "metadata": {},
   "outputs": [
    {
     "data": {
      "application/vnd.plotly.v1+json": {
       "config": {
        "plotlyServerURL": "https://plot.ly"
       },
       "data": [
        {
         "hovertemplate": "time=%{x}<br>vitorias_totais=%{y}<extra></extra>",
         "legendgroup": "",
         "marker": {
          "color": "mediumseagreen",
          "pattern": {
           "shape": ""
          }
         },
         "name": "",
         "orientation": "v",
         "showlegend": false,
         "textposition": "auto",
         "texttemplate": "%{y}",
         "type": "bar",
         "x": [
          "Palmeiras",
          "Flamengo",
          "Atlético Mineiro",
          "Corinthians",
          "São Paulo",
          "Internacional",
          "Grêmio",
          "Ath Paranaense",
          "Fluminense",
          "Santos"
         ],
         "xaxis": "x",
         "y": {
          "bdata": "1QDUAL0AsQCrAKkApQCjAKEAmgA=",
          "dtype": "i2"
         },
         "yaxis": "y"
        }
       ],
       "layout": {
        "barmode": "relative",
        "legend": {
         "tracegroupgap": 0
        },
        "template": {
         "data": {
          "bar": [
           {
            "error_x": {
             "color": "#2a3f5f"
            },
            "error_y": {
             "color": "#2a3f5f"
            },
            "marker": {
             "line": {
              "color": "#E5ECF6",
              "width": 0.5
             },
             "pattern": {
              "fillmode": "overlay",
              "size": 10,
              "solidity": 0.2
             }
            },
            "type": "bar"
           }
          ],
          "barpolar": [
           {
            "marker": {
             "line": {
              "color": "#E5ECF6",
              "width": 0.5
             },
             "pattern": {
              "fillmode": "overlay",
              "size": 10,
              "solidity": 0.2
             }
            },
            "type": "barpolar"
           }
          ],
          "carpet": [
           {
            "aaxis": {
             "endlinecolor": "#2a3f5f",
             "gridcolor": "white",
             "linecolor": "white",
             "minorgridcolor": "white",
             "startlinecolor": "#2a3f5f"
            },
            "baxis": {
             "endlinecolor": "#2a3f5f",
             "gridcolor": "white",
             "linecolor": "white",
             "minorgridcolor": "white",
             "startlinecolor": "#2a3f5f"
            },
            "type": "carpet"
           }
          ],
          "choropleth": [
           {
            "colorbar": {
             "outlinewidth": 0,
             "ticks": ""
            },
            "type": "choropleth"
           }
          ],
          "contour": [
           {
            "colorbar": {
             "outlinewidth": 0,
             "ticks": ""
            },
            "colorscale": [
             [
              0,
              "#0d0887"
             ],
             [
              0.1111111111111111,
              "#46039f"
             ],
             [
              0.2222222222222222,
              "#7201a8"
             ],
             [
              0.3333333333333333,
              "#9c179e"
             ],
             [
              0.4444444444444444,
              "#bd3786"
             ],
             [
              0.5555555555555556,
              "#d8576b"
             ],
             [
              0.6666666666666666,
              "#ed7953"
             ],
             [
              0.7777777777777778,
              "#fb9f3a"
             ],
             [
              0.8888888888888888,
              "#fdca26"
             ],
             [
              1,
              "#f0f921"
             ]
            ],
            "type": "contour"
           }
          ],
          "contourcarpet": [
           {
            "colorbar": {
             "outlinewidth": 0,
             "ticks": ""
            },
            "type": "contourcarpet"
           }
          ],
          "heatmap": [
           {
            "colorbar": {
             "outlinewidth": 0,
             "ticks": ""
            },
            "colorscale": [
             [
              0,
              "#0d0887"
             ],
             [
              0.1111111111111111,
              "#46039f"
             ],
             [
              0.2222222222222222,
              "#7201a8"
             ],
             [
              0.3333333333333333,
              "#9c179e"
             ],
             [
              0.4444444444444444,
              "#bd3786"
             ],
             [
              0.5555555555555556,
              "#d8576b"
             ],
             [
              0.6666666666666666,
              "#ed7953"
             ],
             [
              0.7777777777777778,
              "#fb9f3a"
             ],
             [
              0.8888888888888888,
              "#fdca26"
             ],
             [
              1,
              "#f0f921"
             ]
            ],
            "type": "heatmap"
           }
          ],
          "histogram": [
           {
            "marker": {
             "pattern": {
              "fillmode": "overlay",
              "size": 10,
              "solidity": 0.2
             }
            },
            "type": "histogram"
           }
          ],
          "histogram2d": [
           {
            "colorbar": {
             "outlinewidth": 0,
             "ticks": ""
            },
            "colorscale": [
             [
              0,
              "#0d0887"
             ],
             [
              0.1111111111111111,
              "#46039f"
             ],
             [
              0.2222222222222222,
              "#7201a8"
             ],
             [
              0.3333333333333333,
              "#9c179e"
             ],
             [
              0.4444444444444444,
              "#bd3786"
             ],
             [
              0.5555555555555556,
              "#d8576b"
             ],
             [
              0.6666666666666666,
              "#ed7953"
             ],
             [
              0.7777777777777778,
              "#fb9f3a"
             ],
             [
              0.8888888888888888,
              "#fdca26"
             ],
             [
              1,
              "#f0f921"
             ]
            ],
            "type": "histogram2d"
           }
          ],
          "histogram2dcontour": [
           {
            "colorbar": {
             "outlinewidth": 0,
             "ticks": ""
            },
            "colorscale": [
             [
              0,
              "#0d0887"
             ],
             [
              0.1111111111111111,
              "#46039f"
             ],
             [
              0.2222222222222222,
              "#7201a8"
             ],
             [
              0.3333333333333333,
              "#9c179e"
             ],
             [
              0.4444444444444444,
              "#bd3786"
             ],
             [
              0.5555555555555556,
              "#d8576b"
             ],
             [
              0.6666666666666666,
              "#ed7953"
             ],
             [
              0.7777777777777778,
              "#fb9f3a"
             ],
             [
              0.8888888888888888,
              "#fdca26"
             ],
             [
              1,
              "#f0f921"
             ]
            ],
            "type": "histogram2dcontour"
           }
          ],
          "mesh3d": [
           {
            "colorbar": {
             "outlinewidth": 0,
             "ticks": ""
            },
            "type": "mesh3d"
           }
          ],
          "parcoords": [
           {
            "line": {
             "colorbar": {
              "outlinewidth": 0,
              "ticks": ""
             }
            },
            "type": "parcoords"
           }
          ],
          "pie": [
           {
            "automargin": true,
            "type": "pie"
           }
          ],
          "scatter": [
           {
            "fillpattern": {
             "fillmode": "overlay",
             "size": 10,
             "solidity": 0.2
            },
            "type": "scatter"
           }
          ],
          "scatter3d": [
           {
            "line": {
             "colorbar": {
              "outlinewidth": 0,
              "ticks": ""
             }
            },
            "marker": {
             "colorbar": {
              "outlinewidth": 0,
              "ticks": ""
             }
            },
            "type": "scatter3d"
           }
          ],
          "scattercarpet": [
           {
            "marker": {
             "colorbar": {
              "outlinewidth": 0,
              "ticks": ""
             }
            },
            "type": "scattercarpet"
           }
          ],
          "scattergeo": [
           {
            "marker": {
             "colorbar": {
              "outlinewidth": 0,
              "ticks": ""
             }
            },
            "type": "scattergeo"
           }
          ],
          "scattergl": [
           {
            "marker": {
             "colorbar": {
              "outlinewidth": 0,
              "ticks": ""
             }
            },
            "type": "scattergl"
           }
          ],
          "scattermap": [
           {
            "marker": {
             "colorbar": {
              "outlinewidth": 0,
              "ticks": ""
             }
            },
            "type": "scattermap"
           }
          ],
          "scattermapbox": [
           {
            "marker": {
             "colorbar": {
              "outlinewidth": 0,
              "ticks": ""
             }
            },
            "type": "scattermapbox"
           }
          ],
          "scatterpolar": [
           {
            "marker": {
             "colorbar": {
              "outlinewidth": 0,
              "ticks": ""
             }
            },
            "type": "scatterpolar"
           }
          ],
          "scatterpolargl": [
           {
            "marker": {
             "colorbar": {
              "outlinewidth": 0,
              "ticks": ""
             }
            },
            "type": "scatterpolargl"
           }
          ],
          "scatterternary": [
           {
            "marker": {
             "colorbar": {
              "outlinewidth": 0,
              "ticks": ""
             }
            },
            "type": "scatterternary"
           }
          ],
          "surface": [
           {
            "colorbar": {
             "outlinewidth": 0,
             "ticks": ""
            },
            "colorscale": [
             [
              0,
              "#0d0887"
             ],
             [
              0.1111111111111111,
              "#46039f"
             ],
             [
              0.2222222222222222,
              "#7201a8"
             ],
             [
              0.3333333333333333,
              "#9c179e"
             ],
             [
              0.4444444444444444,
              "#bd3786"
             ],
             [
              0.5555555555555556,
              "#d8576b"
             ],
             [
              0.6666666666666666,
              "#ed7953"
             ],
             [
              0.7777777777777778,
              "#fb9f3a"
             ],
             [
              0.8888888888888888,
              "#fdca26"
             ],
             [
              1,
              "#f0f921"
             ]
            ],
            "type": "surface"
           }
          ],
          "table": [
           {
            "cells": {
             "fill": {
              "color": "#EBF0F8"
             },
             "line": {
              "color": "white"
             }
            },
            "header": {
             "fill": {
              "color": "#C8D4E3"
             },
             "line": {
              "color": "white"
             }
            },
            "type": "table"
           }
          ]
         },
         "layout": {
          "annotationdefaults": {
           "arrowcolor": "#2a3f5f",
           "arrowhead": 0,
           "arrowwidth": 1
          },
          "autotypenumbers": "strict",
          "coloraxis": {
           "colorbar": {
            "outlinewidth": 0,
            "ticks": ""
           }
          },
          "colorscale": {
           "diverging": [
            [
             0,
             "#8e0152"
            ],
            [
             0.1,
             "#c51b7d"
            ],
            [
             0.2,
             "#de77ae"
            ],
            [
             0.3,
             "#f1b6da"
            ],
            [
             0.4,
             "#fde0ef"
            ],
            [
             0.5,
             "#f7f7f7"
            ],
            [
             0.6,
             "#e6f5d0"
            ],
            [
             0.7,
             "#b8e186"
            ],
            [
             0.8,
             "#7fbc41"
            ],
            [
             0.9,
             "#4d9221"
            ],
            [
             1,
             "#276419"
            ]
           ],
           "sequential": [
            [
             0,
             "#0d0887"
            ],
            [
             0.1111111111111111,
             "#46039f"
            ],
            [
             0.2222222222222222,
             "#7201a8"
            ],
            [
             0.3333333333333333,
             "#9c179e"
            ],
            [
             0.4444444444444444,
             "#bd3786"
            ],
            [
             0.5555555555555556,
             "#d8576b"
            ],
            [
             0.6666666666666666,
             "#ed7953"
            ],
            [
             0.7777777777777778,
             "#fb9f3a"
            ],
            [
             0.8888888888888888,
             "#fdca26"
            ],
            [
             1,
             "#f0f921"
            ]
           ],
           "sequentialminus": [
            [
             0,
             "#0d0887"
            ],
            [
             0.1111111111111111,
             "#46039f"
            ],
            [
             0.2222222222222222,
             "#7201a8"
            ],
            [
             0.3333333333333333,
             "#9c179e"
            ],
            [
             0.4444444444444444,
             "#bd3786"
            ],
            [
             0.5555555555555556,
             "#d8576b"
            ],
            [
             0.6666666666666666,
             "#ed7953"
            ],
            [
             0.7777777777777778,
             "#fb9f3a"
            ],
            [
             0.8888888888888888,
             "#fdca26"
            ],
            [
             1,
             "#f0f921"
            ]
           ]
          },
          "colorway": [
           "#636efa",
           "#EF553B",
           "#00cc96",
           "#ab63fa",
           "#FFA15A",
           "#19d3f3",
           "#FF6692",
           "#B6E880",
           "#FF97FF",
           "#FECB52"
          ],
          "font": {
           "color": "#2a3f5f"
          },
          "geo": {
           "bgcolor": "white",
           "lakecolor": "white",
           "landcolor": "#E5ECF6",
           "showlakes": true,
           "showland": true,
           "subunitcolor": "white"
          },
          "hoverlabel": {
           "align": "left"
          },
          "hovermode": "closest",
          "mapbox": {
           "style": "light"
          },
          "paper_bgcolor": "white",
          "plot_bgcolor": "#E5ECF6",
          "polar": {
           "angularaxis": {
            "gridcolor": "white",
            "linecolor": "white",
            "ticks": ""
           },
           "bgcolor": "#E5ECF6",
           "radialaxis": {
            "gridcolor": "white",
            "linecolor": "white",
            "ticks": ""
           }
          },
          "scene": {
           "xaxis": {
            "backgroundcolor": "#E5ECF6",
            "gridcolor": "white",
            "gridwidth": 2,
            "linecolor": "white",
            "showbackground": true,
            "ticks": "",
            "zerolinecolor": "white"
           },
           "yaxis": {
            "backgroundcolor": "#E5ECF6",
            "gridcolor": "white",
            "gridwidth": 2,
            "linecolor": "white",
            "showbackground": true,
            "ticks": "",
            "zerolinecolor": "white"
           },
           "zaxis": {
            "backgroundcolor": "#E5ECF6",
            "gridcolor": "white",
            "gridwidth": 2,
            "linecolor": "white",
            "showbackground": true,
            "ticks": "",
            "zerolinecolor": "white"
           }
          },
          "shapedefaults": {
           "line": {
            "color": "#2a3f5f"
           }
          },
          "ternary": {
           "aaxis": {
            "gridcolor": "white",
            "linecolor": "white",
            "ticks": ""
           },
           "baxis": {
            "gridcolor": "white",
            "linecolor": "white",
            "ticks": ""
           },
           "bgcolor": "#E5ECF6",
           "caxis": {
            "gridcolor": "white",
            "linecolor": "white",
            "ticks": ""
           }
          },
          "title": {
           "x": 0.05
          },
          "xaxis": {
           "automargin": true,
           "gridcolor": "white",
           "linecolor": "white",
           "ticks": "",
           "title": {
            "standoff": 15
           },
           "zerolinecolor": "white",
           "zerolinewidth": 2
          },
          "yaxis": {
           "automargin": true,
           "gridcolor": "white",
           "linecolor": "white",
           "ticks": "",
           "title": {
            "standoff": 15
           },
           "zerolinecolor": "white",
           "zerolinewidth": 2
          }
         }
        },
        "title": {
         "text": "Top 10 Times com Mais Vitórias (Mandante + Visitante)"
        },
        "xaxis": {
         "anchor": "y",
         "domain": [
          0,
          1
         ],
         "tickangle": -45,
         "title": {
          "text": "Time"
         }
        },
        "yaxis": {
         "anchor": "x",
         "domain": [
          0,
          1
         ],
         "title": {
          "text": "Vitórias"
         }
        }
       }
      }
     },
     "metadata": {},
     "output_type": "display_data"
    }
   ],
   "source": [
    "# Criar uma coluna indicando quem foi o vencedor\n",
    "def determinar_vencedor(row):\n",
    "    if row['resultado_partida'] == 'mandante':\n",
    "        return row['mandante']\n",
    "    elif row['resultado_partida'] == 'visitante':\n",
    "        return row['visitante']\n",
    "    else:\n",
    "        return None\n",
    "\n",
    "# Aplicar a função para criar coluna de vencedor\n",
    "df_modelo['vencedor'] = df_modelo.apply(determinar_vencedor, axis=1)\n",
    "\n",
    "# Contar vitórias por time\n",
    "vitorias_totais = df_modelo['vencedor'].value_counts().reset_index()\n",
    "vitorias_totais.columns = ['time', 'vitorias_totais']\n",
    "\n",
    "# Top 10 times que mais venceram\n",
    "fig_vitorias_totais = px.bar(\n",
    "    vitorias_totais.head(10),\n",
    "    x='time',\n",
    "    y='vitorias_totais',\n",
    "    title=\"Top 10 Times com Mais Vitórias (Mandante + Visitante)\",\n",
    "    text_auto=True,\n",
    "    color_discrete_sequence=[\"mediumseagreen\"]\n",
    ")\n",
    "\n",
    "fig_vitorias_totais.update_layout(\n",
    "    xaxis_title=\"Time\",\n",
    "    yaxis_title=\"Vitórias\",\n",
    "    xaxis_tickangle=-45\n",
    ")\n",
    "\n",
    "fig_vitorias_totais.show()\n"
   ]
  },
  {
   "cell_type": "code",
   "execution_count": 21,
   "id": "fb77f1d1",
   "metadata": {},
   "outputs": [
    {
     "data": {
      "application/vnd.plotly.v1+json": {
       "config": {
        "plotlyServerURL": "https://plot.ly"
       },
       "data": [
        {
         "hovertemplate": "time=%{x}<br>vitorias_mandante=%{y}<extra></extra>",
         "legendgroup": "",
         "marker": {
          "color": "blue",
          "pattern": {
           "shape": ""
          }
         },
         "name": "",
         "orientation": "v",
         "showlegend": false,
         "textposition": "auto",
         "texttemplate": "%{y}",
         "type": "bar",
         "x": [
          "Palmeiras",
          "Flamengo",
          "Atlético Mineiro",
          "Internacional",
          "Corinthians",
          "Ath Paranaense",
          "Grêmio",
          "São Paulo",
          "Santos",
          "Fluminense"
         ],
         "xaxis": "x",
         "y": {
          "bdata": "ggB/AHsAdABzAHEAcABvAGsAaQA=",
          "dtype": "i2"
         },
         "yaxis": "y"
        }
       ],
       "layout": {
        "barmode": "relative",
        "legend": {
         "tracegroupgap": 0
        },
        "template": {
         "data": {
          "bar": [
           {
            "error_x": {
             "color": "#2a3f5f"
            },
            "error_y": {
             "color": "#2a3f5f"
            },
            "marker": {
             "line": {
              "color": "#E5ECF6",
              "width": 0.5
             },
             "pattern": {
              "fillmode": "overlay",
              "size": 10,
              "solidity": 0.2
             }
            },
            "type": "bar"
           }
          ],
          "barpolar": [
           {
            "marker": {
             "line": {
              "color": "#E5ECF6",
              "width": 0.5
             },
             "pattern": {
              "fillmode": "overlay",
              "size": 10,
              "solidity": 0.2
             }
            },
            "type": "barpolar"
           }
          ],
          "carpet": [
           {
            "aaxis": {
             "endlinecolor": "#2a3f5f",
             "gridcolor": "white",
             "linecolor": "white",
             "minorgridcolor": "white",
             "startlinecolor": "#2a3f5f"
            },
            "baxis": {
             "endlinecolor": "#2a3f5f",
             "gridcolor": "white",
             "linecolor": "white",
             "minorgridcolor": "white",
             "startlinecolor": "#2a3f5f"
            },
            "type": "carpet"
           }
          ],
          "choropleth": [
           {
            "colorbar": {
             "outlinewidth": 0,
             "ticks": ""
            },
            "type": "choropleth"
           }
          ],
          "contour": [
           {
            "colorbar": {
             "outlinewidth": 0,
             "ticks": ""
            },
            "colorscale": [
             [
              0,
              "#0d0887"
             ],
             [
              0.1111111111111111,
              "#46039f"
             ],
             [
              0.2222222222222222,
              "#7201a8"
             ],
             [
              0.3333333333333333,
              "#9c179e"
             ],
             [
              0.4444444444444444,
              "#bd3786"
             ],
             [
              0.5555555555555556,
              "#d8576b"
             ],
             [
              0.6666666666666666,
              "#ed7953"
             ],
             [
              0.7777777777777778,
              "#fb9f3a"
             ],
             [
              0.8888888888888888,
              "#fdca26"
             ],
             [
              1,
              "#f0f921"
             ]
            ],
            "type": "contour"
           }
          ],
          "contourcarpet": [
           {
            "colorbar": {
             "outlinewidth": 0,
             "ticks": ""
            },
            "type": "contourcarpet"
           }
          ],
          "heatmap": [
           {
            "colorbar": {
             "outlinewidth": 0,
             "ticks": ""
            },
            "colorscale": [
             [
              0,
              "#0d0887"
             ],
             [
              0.1111111111111111,
              "#46039f"
             ],
             [
              0.2222222222222222,
              "#7201a8"
             ],
             [
              0.3333333333333333,
              "#9c179e"
             ],
             [
              0.4444444444444444,
              "#bd3786"
             ],
             [
              0.5555555555555556,
              "#d8576b"
             ],
             [
              0.6666666666666666,
              "#ed7953"
             ],
             [
              0.7777777777777778,
              "#fb9f3a"
             ],
             [
              0.8888888888888888,
              "#fdca26"
             ],
             [
              1,
              "#f0f921"
             ]
            ],
            "type": "heatmap"
           }
          ],
          "histogram": [
           {
            "marker": {
             "pattern": {
              "fillmode": "overlay",
              "size": 10,
              "solidity": 0.2
             }
            },
            "type": "histogram"
           }
          ],
          "histogram2d": [
           {
            "colorbar": {
             "outlinewidth": 0,
             "ticks": ""
            },
            "colorscale": [
             [
              0,
              "#0d0887"
             ],
             [
              0.1111111111111111,
              "#46039f"
             ],
             [
              0.2222222222222222,
              "#7201a8"
             ],
             [
              0.3333333333333333,
              "#9c179e"
             ],
             [
              0.4444444444444444,
              "#bd3786"
             ],
             [
              0.5555555555555556,
              "#d8576b"
             ],
             [
              0.6666666666666666,
              "#ed7953"
             ],
             [
              0.7777777777777778,
              "#fb9f3a"
             ],
             [
              0.8888888888888888,
              "#fdca26"
             ],
             [
              1,
              "#f0f921"
             ]
            ],
            "type": "histogram2d"
           }
          ],
          "histogram2dcontour": [
           {
            "colorbar": {
             "outlinewidth": 0,
             "ticks": ""
            },
            "colorscale": [
             [
              0,
              "#0d0887"
             ],
             [
              0.1111111111111111,
              "#46039f"
             ],
             [
              0.2222222222222222,
              "#7201a8"
             ],
             [
              0.3333333333333333,
              "#9c179e"
             ],
             [
              0.4444444444444444,
              "#bd3786"
             ],
             [
              0.5555555555555556,
              "#d8576b"
             ],
             [
              0.6666666666666666,
              "#ed7953"
             ],
             [
              0.7777777777777778,
              "#fb9f3a"
             ],
             [
              0.8888888888888888,
              "#fdca26"
             ],
             [
              1,
              "#f0f921"
             ]
            ],
            "type": "histogram2dcontour"
           }
          ],
          "mesh3d": [
           {
            "colorbar": {
             "outlinewidth": 0,
             "ticks": ""
            },
            "type": "mesh3d"
           }
          ],
          "parcoords": [
           {
            "line": {
             "colorbar": {
              "outlinewidth": 0,
              "ticks": ""
             }
            },
            "type": "parcoords"
           }
          ],
          "pie": [
           {
            "automargin": true,
            "type": "pie"
           }
          ],
          "scatter": [
           {
            "fillpattern": {
             "fillmode": "overlay",
             "size": 10,
             "solidity": 0.2
            },
            "type": "scatter"
           }
          ],
          "scatter3d": [
           {
            "line": {
             "colorbar": {
              "outlinewidth": 0,
              "ticks": ""
             }
            },
            "marker": {
             "colorbar": {
              "outlinewidth": 0,
              "ticks": ""
             }
            },
            "type": "scatter3d"
           }
          ],
          "scattercarpet": [
           {
            "marker": {
             "colorbar": {
              "outlinewidth": 0,
              "ticks": ""
             }
            },
            "type": "scattercarpet"
           }
          ],
          "scattergeo": [
           {
            "marker": {
             "colorbar": {
              "outlinewidth": 0,
              "ticks": ""
             }
            },
            "type": "scattergeo"
           }
          ],
          "scattergl": [
           {
            "marker": {
             "colorbar": {
              "outlinewidth": 0,
              "ticks": ""
             }
            },
            "type": "scattergl"
           }
          ],
          "scattermap": [
           {
            "marker": {
             "colorbar": {
              "outlinewidth": 0,
              "ticks": ""
             }
            },
            "type": "scattermap"
           }
          ],
          "scattermapbox": [
           {
            "marker": {
             "colorbar": {
              "outlinewidth": 0,
              "ticks": ""
             }
            },
            "type": "scattermapbox"
           }
          ],
          "scatterpolar": [
           {
            "marker": {
             "colorbar": {
              "outlinewidth": 0,
              "ticks": ""
             }
            },
            "type": "scatterpolar"
           }
          ],
          "scatterpolargl": [
           {
            "marker": {
             "colorbar": {
              "outlinewidth": 0,
              "ticks": ""
             }
            },
            "type": "scatterpolargl"
           }
          ],
          "scatterternary": [
           {
            "marker": {
             "colorbar": {
              "outlinewidth": 0,
              "ticks": ""
             }
            },
            "type": "scatterternary"
           }
          ],
          "surface": [
           {
            "colorbar": {
             "outlinewidth": 0,
             "ticks": ""
            },
            "colorscale": [
             [
              0,
              "#0d0887"
             ],
             [
              0.1111111111111111,
              "#46039f"
             ],
             [
              0.2222222222222222,
              "#7201a8"
             ],
             [
              0.3333333333333333,
              "#9c179e"
             ],
             [
              0.4444444444444444,
              "#bd3786"
             ],
             [
              0.5555555555555556,
              "#d8576b"
             ],
             [
              0.6666666666666666,
              "#ed7953"
             ],
             [
              0.7777777777777778,
              "#fb9f3a"
             ],
             [
              0.8888888888888888,
              "#fdca26"
             ],
             [
              1,
              "#f0f921"
             ]
            ],
            "type": "surface"
           }
          ],
          "table": [
           {
            "cells": {
             "fill": {
              "color": "#EBF0F8"
             },
             "line": {
              "color": "white"
             }
            },
            "header": {
             "fill": {
              "color": "#C8D4E3"
             },
             "line": {
              "color": "white"
             }
            },
            "type": "table"
           }
          ]
         },
         "layout": {
          "annotationdefaults": {
           "arrowcolor": "#2a3f5f",
           "arrowhead": 0,
           "arrowwidth": 1
          },
          "autotypenumbers": "strict",
          "coloraxis": {
           "colorbar": {
            "outlinewidth": 0,
            "ticks": ""
           }
          },
          "colorscale": {
           "diverging": [
            [
             0,
             "#8e0152"
            ],
            [
             0.1,
             "#c51b7d"
            ],
            [
             0.2,
             "#de77ae"
            ],
            [
             0.3,
             "#f1b6da"
            ],
            [
             0.4,
             "#fde0ef"
            ],
            [
             0.5,
             "#f7f7f7"
            ],
            [
             0.6,
             "#e6f5d0"
            ],
            [
             0.7,
             "#b8e186"
            ],
            [
             0.8,
             "#7fbc41"
            ],
            [
             0.9,
             "#4d9221"
            ],
            [
             1,
             "#276419"
            ]
           ],
           "sequential": [
            [
             0,
             "#0d0887"
            ],
            [
             0.1111111111111111,
             "#46039f"
            ],
            [
             0.2222222222222222,
             "#7201a8"
            ],
            [
             0.3333333333333333,
             "#9c179e"
            ],
            [
             0.4444444444444444,
             "#bd3786"
            ],
            [
             0.5555555555555556,
             "#d8576b"
            ],
            [
             0.6666666666666666,
             "#ed7953"
            ],
            [
             0.7777777777777778,
             "#fb9f3a"
            ],
            [
             0.8888888888888888,
             "#fdca26"
            ],
            [
             1,
             "#f0f921"
            ]
           ],
           "sequentialminus": [
            [
             0,
             "#0d0887"
            ],
            [
             0.1111111111111111,
             "#46039f"
            ],
            [
             0.2222222222222222,
             "#7201a8"
            ],
            [
             0.3333333333333333,
             "#9c179e"
            ],
            [
             0.4444444444444444,
             "#bd3786"
            ],
            [
             0.5555555555555556,
             "#d8576b"
            ],
            [
             0.6666666666666666,
             "#ed7953"
            ],
            [
             0.7777777777777778,
             "#fb9f3a"
            ],
            [
             0.8888888888888888,
             "#fdca26"
            ],
            [
             1,
             "#f0f921"
            ]
           ]
          },
          "colorway": [
           "#636efa",
           "#EF553B",
           "#00cc96",
           "#ab63fa",
           "#FFA15A",
           "#19d3f3",
           "#FF6692",
           "#B6E880",
           "#FF97FF",
           "#FECB52"
          ],
          "font": {
           "color": "#2a3f5f"
          },
          "geo": {
           "bgcolor": "white",
           "lakecolor": "white",
           "landcolor": "#E5ECF6",
           "showlakes": true,
           "showland": true,
           "subunitcolor": "white"
          },
          "hoverlabel": {
           "align": "left"
          },
          "hovermode": "closest",
          "mapbox": {
           "style": "light"
          },
          "paper_bgcolor": "white",
          "plot_bgcolor": "#E5ECF6",
          "polar": {
           "angularaxis": {
            "gridcolor": "white",
            "linecolor": "white",
            "ticks": ""
           },
           "bgcolor": "#E5ECF6",
           "radialaxis": {
            "gridcolor": "white",
            "linecolor": "white",
            "ticks": ""
           }
          },
          "scene": {
           "xaxis": {
            "backgroundcolor": "#E5ECF6",
            "gridcolor": "white",
            "gridwidth": 2,
            "linecolor": "white",
            "showbackground": true,
            "ticks": "",
            "zerolinecolor": "white"
           },
           "yaxis": {
            "backgroundcolor": "#E5ECF6",
            "gridcolor": "white",
            "gridwidth": 2,
            "linecolor": "white",
            "showbackground": true,
            "ticks": "",
            "zerolinecolor": "white"
           },
           "zaxis": {
            "backgroundcolor": "#E5ECF6",
            "gridcolor": "white",
            "gridwidth": 2,
            "linecolor": "white",
            "showbackground": true,
            "ticks": "",
            "zerolinecolor": "white"
           }
          },
          "shapedefaults": {
           "line": {
            "color": "#2a3f5f"
           }
          },
          "ternary": {
           "aaxis": {
            "gridcolor": "white",
            "linecolor": "white",
            "ticks": ""
           },
           "baxis": {
            "gridcolor": "white",
            "linecolor": "white",
            "ticks": ""
           },
           "bgcolor": "#E5ECF6",
           "caxis": {
            "gridcolor": "white",
            "linecolor": "white",
            "ticks": ""
           }
          },
          "title": {
           "x": 0.05
          },
          "xaxis": {
           "automargin": true,
           "gridcolor": "white",
           "linecolor": "white",
           "ticks": "",
           "title": {
            "standoff": 15
           },
           "zerolinecolor": "white",
           "zerolinewidth": 2
          },
          "yaxis": {
           "automargin": true,
           "gridcolor": "white",
           "linecolor": "white",
           "ticks": "",
           "title": {
            "standoff": 15
           },
           "zerolinecolor": "white",
           "zerolinewidth": 2
          }
         }
        },
        "title": {
         "text": "Top 10 Times com Mais Vitórias em Casa"
        },
        "xaxis": {
         "anchor": "y",
         "domain": [
          0,
          1
         ],
         "tickangle": -45,
         "title": {
          "text": "Time Mandante"
         }
        },
        "yaxis": {
         "anchor": "x",
         "domain": [
          0,
          1
         ],
         "title": {
          "text": "Vitórias"
         }
        }
       }
      }
     },
     "metadata": {},
     "output_type": "display_data"
    }
   ],
   "source": [
    "# Filtrar apenas vitórias do mandante\n",
    "vitorias_mandante = df_modelo[df_modelo['resultado_partida'] == 'mandante']\n",
    "\n",
    "# Contar vitórias por time mandante\n",
    "vitorias_por_time = vitorias_mandante['mandante'].value_counts().reset_index()\n",
    "vitorias_por_time.columns = ['time', 'vitorias_mandante']\n",
    "\n",
    "# Top 10 times que mais venceram em casa\n",
    "fig_vitorias_mandante = px.bar(\n",
    "    vitorias_por_time.head(10),\n",
    "    x='time',\n",
    "    y='vitorias_mandante',\n",
    "    title=\"Top 10 Times com Mais Vitórias em Casa\",\n",
    "    text_auto=True,\n",
    "    color_discrete_sequence=[\"blue\"]\n",
    ")\n",
    "\n",
    "fig_vitorias_mandante.update_layout(\n",
    "    xaxis_title=\"Time Mandante\",\n",
    "    yaxis_title=\"Vitórias\",\n",
    "    xaxis_tickangle=-45\n",
    ")\n",
    "\n",
    "fig_vitorias_mandante.show()\n"
   ]
  },
  {
   "cell_type": "code",
   "execution_count": 22,
   "id": "8724b943",
   "metadata": {},
   "outputs": [
    {
     "data": {
      "application/vnd.plotly.v1+json": {
       "config": {
        "plotlyServerURL": "https://plot.ly"
       },
       "data": [
        {
         "hovertemplate": "time=%{x}<br>vitorias_como_visitante=%{y}<extra></extra>",
         "legendgroup": "",
         "marker": {
          "color": "darkred",
          "pattern": {
           "shape": ""
          }
         },
         "name": "",
         "orientation": "v",
         "showlegend": false,
         "textposition": "auto",
         "texttemplate": "%{y}",
         "type": "bar",
         "x": [
          "Flamengo",
          "Palmeiras",
          "Atlético Mineiro",
          "Corinthians",
          "São Paulo",
          "Fluminense",
          "Internacional",
          "Grêmio",
          "Ath Paranaense",
          "Botafogo (RJ)"
         ],
         "xaxis": "x",
         "y": {
          "bdata": "VVNCPjw4NTUyMQ==",
          "dtype": "i1"
         },
         "yaxis": "y"
        }
       ],
       "layout": {
        "barmode": "relative",
        "legend": {
         "tracegroupgap": 0
        },
        "template": {
         "data": {
          "bar": [
           {
            "error_x": {
             "color": "#2a3f5f"
            },
            "error_y": {
             "color": "#2a3f5f"
            },
            "marker": {
             "line": {
              "color": "#E5ECF6",
              "width": 0.5
             },
             "pattern": {
              "fillmode": "overlay",
              "size": 10,
              "solidity": 0.2
             }
            },
            "type": "bar"
           }
          ],
          "barpolar": [
           {
            "marker": {
             "line": {
              "color": "#E5ECF6",
              "width": 0.5
             },
             "pattern": {
              "fillmode": "overlay",
              "size": 10,
              "solidity": 0.2
             }
            },
            "type": "barpolar"
           }
          ],
          "carpet": [
           {
            "aaxis": {
             "endlinecolor": "#2a3f5f",
             "gridcolor": "white",
             "linecolor": "white",
             "minorgridcolor": "white",
             "startlinecolor": "#2a3f5f"
            },
            "baxis": {
             "endlinecolor": "#2a3f5f",
             "gridcolor": "white",
             "linecolor": "white",
             "minorgridcolor": "white",
             "startlinecolor": "#2a3f5f"
            },
            "type": "carpet"
           }
          ],
          "choropleth": [
           {
            "colorbar": {
             "outlinewidth": 0,
             "ticks": ""
            },
            "type": "choropleth"
           }
          ],
          "contour": [
           {
            "colorbar": {
             "outlinewidth": 0,
             "ticks": ""
            },
            "colorscale": [
             [
              0,
              "#0d0887"
             ],
             [
              0.1111111111111111,
              "#46039f"
             ],
             [
              0.2222222222222222,
              "#7201a8"
             ],
             [
              0.3333333333333333,
              "#9c179e"
             ],
             [
              0.4444444444444444,
              "#bd3786"
             ],
             [
              0.5555555555555556,
              "#d8576b"
             ],
             [
              0.6666666666666666,
              "#ed7953"
             ],
             [
              0.7777777777777778,
              "#fb9f3a"
             ],
             [
              0.8888888888888888,
              "#fdca26"
             ],
             [
              1,
              "#f0f921"
             ]
            ],
            "type": "contour"
           }
          ],
          "contourcarpet": [
           {
            "colorbar": {
             "outlinewidth": 0,
             "ticks": ""
            },
            "type": "contourcarpet"
           }
          ],
          "heatmap": [
           {
            "colorbar": {
             "outlinewidth": 0,
             "ticks": ""
            },
            "colorscale": [
             [
              0,
              "#0d0887"
             ],
             [
              0.1111111111111111,
              "#46039f"
             ],
             [
              0.2222222222222222,
              "#7201a8"
             ],
             [
              0.3333333333333333,
              "#9c179e"
             ],
             [
              0.4444444444444444,
              "#bd3786"
             ],
             [
              0.5555555555555556,
              "#d8576b"
             ],
             [
              0.6666666666666666,
              "#ed7953"
             ],
             [
              0.7777777777777778,
              "#fb9f3a"
             ],
             [
              0.8888888888888888,
              "#fdca26"
             ],
             [
              1,
              "#f0f921"
             ]
            ],
            "type": "heatmap"
           }
          ],
          "histogram": [
           {
            "marker": {
             "pattern": {
              "fillmode": "overlay",
              "size": 10,
              "solidity": 0.2
             }
            },
            "type": "histogram"
           }
          ],
          "histogram2d": [
           {
            "colorbar": {
             "outlinewidth": 0,
             "ticks": ""
            },
            "colorscale": [
             [
              0,
              "#0d0887"
             ],
             [
              0.1111111111111111,
              "#46039f"
             ],
             [
              0.2222222222222222,
              "#7201a8"
             ],
             [
              0.3333333333333333,
              "#9c179e"
             ],
             [
              0.4444444444444444,
              "#bd3786"
             ],
             [
              0.5555555555555556,
              "#d8576b"
             ],
             [
              0.6666666666666666,
              "#ed7953"
             ],
             [
              0.7777777777777778,
              "#fb9f3a"
             ],
             [
              0.8888888888888888,
              "#fdca26"
             ],
             [
              1,
              "#f0f921"
             ]
            ],
            "type": "histogram2d"
           }
          ],
          "histogram2dcontour": [
           {
            "colorbar": {
             "outlinewidth": 0,
             "ticks": ""
            },
            "colorscale": [
             [
              0,
              "#0d0887"
             ],
             [
              0.1111111111111111,
              "#46039f"
             ],
             [
              0.2222222222222222,
              "#7201a8"
             ],
             [
              0.3333333333333333,
              "#9c179e"
             ],
             [
              0.4444444444444444,
              "#bd3786"
             ],
             [
              0.5555555555555556,
              "#d8576b"
             ],
             [
              0.6666666666666666,
              "#ed7953"
             ],
             [
              0.7777777777777778,
              "#fb9f3a"
             ],
             [
              0.8888888888888888,
              "#fdca26"
             ],
             [
              1,
              "#f0f921"
             ]
            ],
            "type": "histogram2dcontour"
           }
          ],
          "mesh3d": [
           {
            "colorbar": {
             "outlinewidth": 0,
             "ticks": ""
            },
            "type": "mesh3d"
           }
          ],
          "parcoords": [
           {
            "line": {
             "colorbar": {
              "outlinewidth": 0,
              "ticks": ""
             }
            },
            "type": "parcoords"
           }
          ],
          "pie": [
           {
            "automargin": true,
            "type": "pie"
           }
          ],
          "scatter": [
           {
            "fillpattern": {
             "fillmode": "overlay",
             "size": 10,
             "solidity": 0.2
            },
            "type": "scatter"
           }
          ],
          "scatter3d": [
           {
            "line": {
             "colorbar": {
              "outlinewidth": 0,
              "ticks": ""
             }
            },
            "marker": {
             "colorbar": {
              "outlinewidth": 0,
              "ticks": ""
             }
            },
            "type": "scatter3d"
           }
          ],
          "scattercarpet": [
           {
            "marker": {
             "colorbar": {
              "outlinewidth": 0,
              "ticks": ""
             }
            },
            "type": "scattercarpet"
           }
          ],
          "scattergeo": [
           {
            "marker": {
             "colorbar": {
              "outlinewidth": 0,
              "ticks": ""
             }
            },
            "type": "scattergeo"
           }
          ],
          "scattergl": [
           {
            "marker": {
             "colorbar": {
              "outlinewidth": 0,
              "ticks": ""
             }
            },
            "type": "scattergl"
           }
          ],
          "scattermap": [
           {
            "marker": {
             "colorbar": {
              "outlinewidth": 0,
              "ticks": ""
             }
            },
            "type": "scattermap"
           }
          ],
          "scattermapbox": [
           {
            "marker": {
             "colorbar": {
              "outlinewidth": 0,
              "ticks": ""
             }
            },
            "type": "scattermapbox"
           }
          ],
          "scatterpolar": [
           {
            "marker": {
             "colorbar": {
              "outlinewidth": 0,
              "ticks": ""
             }
            },
            "type": "scatterpolar"
           }
          ],
          "scatterpolargl": [
           {
            "marker": {
             "colorbar": {
              "outlinewidth": 0,
              "ticks": ""
             }
            },
            "type": "scatterpolargl"
           }
          ],
          "scatterternary": [
           {
            "marker": {
             "colorbar": {
              "outlinewidth": 0,
              "ticks": ""
             }
            },
            "type": "scatterternary"
           }
          ],
          "surface": [
           {
            "colorbar": {
             "outlinewidth": 0,
             "ticks": ""
            },
            "colorscale": [
             [
              0,
              "#0d0887"
             ],
             [
              0.1111111111111111,
              "#46039f"
             ],
             [
              0.2222222222222222,
              "#7201a8"
             ],
             [
              0.3333333333333333,
              "#9c179e"
             ],
             [
              0.4444444444444444,
              "#bd3786"
             ],
             [
              0.5555555555555556,
              "#d8576b"
             ],
             [
              0.6666666666666666,
              "#ed7953"
             ],
             [
              0.7777777777777778,
              "#fb9f3a"
             ],
             [
              0.8888888888888888,
              "#fdca26"
             ],
             [
              1,
              "#f0f921"
             ]
            ],
            "type": "surface"
           }
          ],
          "table": [
           {
            "cells": {
             "fill": {
              "color": "#EBF0F8"
             },
             "line": {
              "color": "white"
             }
            },
            "header": {
             "fill": {
              "color": "#C8D4E3"
             },
             "line": {
              "color": "white"
             }
            },
            "type": "table"
           }
          ]
         },
         "layout": {
          "annotationdefaults": {
           "arrowcolor": "#2a3f5f",
           "arrowhead": 0,
           "arrowwidth": 1
          },
          "autotypenumbers": "strict",
          "coloraxis": {
           "colorbar": {
            "outlinewidth": 0,
            "ticks": ""
           }
          },
          "colorscale": {
           "diverging": [
            [
             0,
             "#8e0152"
            ],
            [
             0.1,
             "#c51b7d"
            ],
            [
             0.2,
             "#de77ae"
            ],
            [
             0.3,
             "#f1b6da"
            ],
            [
             0.4,
             "#fde0ef"
            ],
            [
             0.5,
             "#f7f7f7"
            ],
            [
             0.6,
             "#e6f5d0"
            ],
            [
             0.7,
             "#b8e186"
            ],
            [
             0.8,
             "#7fbc41"
            ],
            [
             0.9,
             "#4d9221"
            ],
            [
             1,
             "#276419"
            ]
           ],
           "sequential": [
            [
             0,
             "#0d0887"
            ],
            [
             0.1111111111111111,
             "#46039f"
            ],
            [
             0.2222222222222222,
             "#7201a8"
            ],
            [
             0.3333333333333333,
             "#9c179e"
            ],
            [
             0.4444444444444444,
             "#bd3786"
            ],
            [
             0.5555555555555556,
             "#d8576b"
            ],
            [
             0.6666666666666666,
             "#ed7953"
            ],
            [
             0.7777777777777778,
             "#fb9f3a"
            ],
            [
             0.8888888888888888,
             "#fdca26"
            ],
            [
             1,
             "#f0f921"
            ]
           ],
           "sequentialminus": [
            [
             0,
             "#0d0887"
            ],
            [
             0.1111111111111111,
             "#46039f"
            ],
            [
             0.2222222222222222,
             "#7201a8"
            ],
            [
             0.3333333333333333,
             "#9c179e"
            ],
            [
             0.4444444444444444,
             "#bd3786"
            ],
            [
             0.5555555555555556,
             "#d8576b"
            ],
            [
             0.6666666666666666,
             "#ed7953"
            ],
            [
             0.7777777777777778,
             "#fb9f3a"
            ],
            [
             0.8888888888888888,
             "#fdca26"
            ],
            [
             1,
             "#f0f921"
            ]
           ]
          },
          "colorway": [
           "#636efa",
           "#EF553B",
           "#00cc96",
           "#ab63fa",
           "#FFA15A",
           "#19d3f3",
           "#FF6692",
           "#B6E880",
           "#FF97FF",
           "#FECB52"
          ],
          "font": {
           "color": "#2a3f5f"
          },
          "geo": {
           "bgcolor": "white",
           "lakecolor": "white",
           "landcolor": "#E5ECF6",
           "showlakes": true,
           "showland": true,
           "subunitcolor": "white"
          },
          "hoverlabel": {
           "align": "left"
          },
          "hovermode": "closest",
          "mapbox": {
           "style": "light"
          },
          "paper_bgcolor": "white",
          "plot_bgcolor": "#E5ECF6",
          "polar": {
           "angularaxis": {
            "gridcolor": "white",
            "linecolor": "white",
            "ticks": ""
           },
           "bgcolor": "#E5ECF6",
           "radialaxis": {
            "gridcolor": "white",
            "linecolor": "white",
            "ticks": ""
           }
          },
          "scene": {
           "xaxis": {
            "backgroundcolor": "#E5ECF6",
            "gridcolor": "white",
            "gridwidth": 2,
            "linecolor": "white",
            "showbackground": true,
            "ticks": "",
            "zerolinecolor": "white"
           },
           "yaxis": {
            "backgroundcolor": "#E5ECF6",
            "gridcolor": "white",
            "gridwidth": 2,
            "linecolor": "white",
            "showbackground": true,
            "ticks": "",
            "zerolinecolor": "white"
           },
           "zaxis": {
            "backgroundcolor": "#E5ECF6",
            "gridcolor": "white",
            "gridwidth": 2,
            "linecolor": "white",
            "showbackground": true,
            "ticks": "",
            "zerolinecolor": "white"
           }
          },
          "shapedefaults": {
           "line": {
            "color": "#2a3f5f"
           }
          },
          "ternary": {
           "aaxis": {
            "gridcolor": "white",
            "linecolor": "white",
            "ticks": ""
           },
           "baxis": {
            "gridcolor": "white",
            "linecolor": "white",
            "ticks": ""
           },
           "bgcolor": "#E5ECF6",
           "caxis": {
            "gridcolor": "white",
            "linecolor": "white",
            "ticks": ""
           }
          },
          "title": {
           "x": 0.05
          },
          "xaxis": {
           "automargin": true,
           "gridcolor": "white",
           "linecolor": "white",
           "ticks": "",
           "title": {
            "standoff": 15
           },
           "zerolinecolor": "white",
           "zerolinewidth": 2
          },
          "yaxis": {
           "automargin": true,
           "gridcolor": "white",
           "linecolor": "white",
           "ticks": "",
           "title": {
            "standoff": 15
           },
           "zerolinecolor": "white",
           "zerolinewidth": 2
          }
         }
        },
        "title": {
         "text": "Top 10 Times com Mais Vitórias como Visitante"
        },
        "xaxis": {
         "anchor": "y",
         "domain": [
          0,
          1
         ],
         "tickangle": -45,
         "title": {
          "text": "Time Visitante"
         }
        },
        "yaxis": {
         "anchor": "x",
         "domain": [
          0,
          1
         ],
         "title": {
          "text": "Vitórias como Visitante"
         }
        }
       }
      }
     },
     "metadata": {},
     "output_type": "display_data"
    }
   ],
   "source": [
    "# Filtrar apenas vitórias do visitante\n",
    "vitorias_visitante = df_modelo[df_modelo['resultado_partida'] == 'visitante']\n",
    "\n",
    "# Contar vitórias como visitante\n",
    "vitorias_visitante_por_time = vitorias_visitante['visitante'].value_counts().reset_index()\n",
    "vitorias_visitante_por_time.columns = ['time', 'vitorias_como_visitante']\n",
    "\n",
    "# Top 10 times com mais vitórias fora de casa\n",
    "fig_vitorias_visitante = px.bar(\n",
    "    vitorias_visitante_por_time.head(10),\n",
    "    x='time',\n",
    "    y='vitorias_como_visitante',\n",
    "    title=\"Top 10 Times com Mais Vitórias como Visitante\",\n",
    "    text_auto=True,\n",
    "    color_discrete_sequence=[\"darkred\"]\n",
    ")\n",
    "\n",
    "fig_vitorias_visitante.update_layout(\n",
    "    xaxis_title=\"Time Visitante\",\n",
    "    yaxis_title=\"Vitórias como Visitante\",\n",
    "    xaxis_tickangle=-45\n",
    ")\n",
    "\n",
    "fig_vitorias_visitante.show()\n"
   ]
  },
  {
   "cell_type": "code",
   "execution_count": 23,
   "id": "7ada8aab",
   "metadata": {},
   "outputs": [
    {
     "data": {
      "application/vnd.plotly.v1+json": {
       "config": {
        "plotlyServerURL": "https://plot.ly"
       },
       "data": [
        {
         "hovertemplate": "time=%{x}<br>gols=%{y}<extra></extra>",
         "legendgroup": "",
         "marker": {
          "color": "orangered",
          "pattern": {
           "shape": ""
          }
         },
         "name": "",
         "orientation": "v",
         "showlegend": false,
         "textposition": "auto",
         "texttemplate": "%{y}",
         "type": "bar",
         "x": [
          "Flamengo",
          "Palmeiras",
          "Atlético Mineiro",
          "São Paulo",
          "Corinthians",
          "Fluminense",
          "Grêmio",
          "Ath Paranaense",
          "Internacional",
          "Santos"
         ],
         "xaxis": "x",
         "y": {
          "bdata": "iwKBAlsCDwIMAvoB9AHsAeQB3gE=",
          "dtype": "i2"
         },
         "yaxis": "y"
        }
       ],
       "layout": {
        "barmode": "relative",
        "legend": {
         "tracegroupgap": 0
        },
        "template": {
         "data": {
          "bar": [
           {
            "error_x": {
             "color": "#2a3f5f"
            },
            "error_y": {
             "color": "#2a3f5f"
            },
            "marker": {
             "line": {
              "color": "#E5ECF6",
              "width": 0.5
             },
             "pattern": {
              "fillmode": "overlay",
              "size": 10,
              "solidity": 0.2
             }
            },
            "type": "bar"
           }
          ],
          "barpolar": [
           {
            "marker": {
             "line": {
              "color": "#E5ECF6",
              "width": 0.5
             },
             "pattern": {
              "fillmode": "overlay",
              "size": 10,
              "solidity": 0.2
             }
            },
            "type": "barpolar"
           }
          ],
          "carpet": [
           {
            "aaxis": {
             "endlinecolor": "#2a3f5f",
             "gridcolor": "white",
             "linecolor": "white",
             "minorgridcolor": "white",
             "startlinecolor": "#2a3f5f"
            },
            "baxis": {
             "endlinecolor": "#2a3f5f",
             "gridcolor": "white",
             "linecolor": "white",
             "minorgridcolor": "white",
             "startlinecolor": "#2a3f5f"
            },
            "type": "carpet"
           }
          ],
          "choropleth": [
           {
            "colorbar": {
             "outlinewidth": 0,
             "ticks": ""
            },
            "type": "choropleth"
           }
          ],
          "contour": [
           {
            "colorbar": {
             "outlinewidth": 0,
             "ticks": ""
            },
            "colorscale": [
             [
              0,
              "#0d0887"
             ],
             [
              0.1111111111111111,
              "#46039f"
             ],
             [
              0.2222222222222222,
              "#7201a8"
             ],
             [
              0.3333333333333333,
              "#9c179e"
             ],
             [
              0.4444444444444444,
              "#bd3786"
             ],
             [
              0.5555555555555556,
              "#d8576b"
             ],
             [
              0.6666666666666666,
              "#ed7953"
             ],
             [
              0.7777777777777778,
              "#fb9f3a"
             ],
             [
              0.8888888888888888,
              "#fdca26"
             ],
             [
              1,
              "#f0f921"
             ]
            ],
            "type": "contour"
           }
          ],
          "contourcarpet": [
           {
            "colorbar": {
             "outlinewidth": 0,
             "ticks": ""
            },
            "type": "contourcarpet"
           }
          ],
          "heatmap": [
           {
            "colorbar": {
             "outlinewidth": 0,
             "ticks": ""
            },
            "colorscale": [
             [
              0,
              "#0d0887"
             ],
             [
              0.1111111111111111,
              "#46039f"
             ],
             [
              0.2222222222222222,
              "#7201a8"
             ],
             [
              0.3333333333333333,
              "#9c179e"
             ],
             [
              0.4444444444444444,
              "#bd3786"
             ],
             [
              0.5555555555555556,
              "#d8576b"
             ],
             [
              0.6666666666666666,
              "#ed7953"
             ],
             [
              0.7777777777777778,
              "#fb9f3a"
             ],
             [
              0.8888888888888888,
              "#fdca26"
             ],
             [
              1,
              "#f0f921"
             ]
            ],
            "type": "heatmap"
           }
          ],
          "histogram": [
           {
            "marker": {
             "pattern": {
              "fillmode": "overlay",
              "size": 10,
              "solidity": 0.2
             }
            },
            "type": "histogram"
           }
          ],
          "histogram2d": [
           {
            "colorbar": {
             "outlinewidth": 0,
             "ticks": ""
            },
            "colorscale": [
             [
              0,
              "#0d0887"
             ],
             [
              0.1111111111111111,
              "#46039f"
             ],
             [
              0.2222222222222222,
              "#7201a8"
             ],
             [
              0.3333333333333333,
              "#9c179e"
             ],
             [
              0.4444444444444444,
              "#bd3786"
             ],
             [
              0.5555555555555556,
              "#d8576b"
             ],
             [
              0.6666666666666666,
              "#ed7953"
             ],
             [
              0.7777777777777778,
              "#fb9f3a"
             ],
             [
              0.8888888888888888,
              "#fdca26"
             ],
             [
              1,
              "#f0f921"
             ]
            ],
            "type": "histogram2d"
           }
          ],
          "histogram2dcontour": [
           {
            "colorbar": {
             "outlinewidth": 0,
             "ticks": ""
            },
            "colorscale": [
             [
              0,
              "#0d0887"
             ],
             [
              0.1111111111111111,
              "#46039f"
             ],
             [
              0.2222222222222222,
              "#7201a8"
             ],
             [
              0.3333333333333333,
              "#9c179e"
             ],
             [
              0.4444444444444444,
              "#bd3786"
             ],
             [
              0.5555555555555556,
              "#d8576b"
             ],
             [
              0.6666666666666666,
              "#ed7953"
             ],
             [
              0.7777777777777778,
              "#fb9f3a"
             ],
             [
              0.8888888888888888,
              "#fdca26"
             ],
             [
              1,
              "#f0f921"
             ]
            ],
            "type": "histogram2dcontour"
           }
          ],
          "mesh3d": [
           {
            "colorbar": {
             "outlinewidth": 0,
             "ticks": ""
            },
            "type": "mesh3d"
           }
          ],
          "parcoords": [
           {
            "line": {
             "colorbar": {
              "outlinewidth": 0,
              "ticks": ""
             }
            },
            "type": "parcoords"
           }
          ],
          "pie": [
           {
            "automargin": true,
            "type": "pie"
           }
          ],
          "scatter": [
           {
            "fillpattern": {
             "fillmode": "overlay",
             "size": 10,
             "solidity": 0.2
            },
            "type": "scatter"
           }
          ],
          "scatter3d": [
           {
            "line": {
             "colorbar": {
              "outlinewidth": 0,
              "ticks": ""
             }
            },
            "marker": {
             "colorbar": {
              "outlinewidth": 0,
              "ticks": ""
             }
            },
            "type": "scatter3d"
           }
          ],
          "scattercarpet": [
           {
            "marker": {
             "colorbar": {
              "outlinewidth": 0,
              "ticks": ""
             }
            },
            "type": "scattercarpet"
           }
          ],
          "scattergeo": [
           {
            "marker": {
             "colorbar": {
              "outlinewidth": 0,
              "ticks": ""
             }
            },
            "type": "scattergeo"
           }
          ],
          "scattergl": [
           {
            "marker": {
             "colorbar": {
              "outlinewidth": 0,
              "ticks": ""
             }
            },
            "type": "scattergl"
           }
          ],
          "scattermap": [
           {
            "marker": {
             "colorbar": {
              "outlinewidth": 0,
              "ticks": ""
             }
            },
            "type": "scattermap"
           }
          ],
          "scattermapbox": [
           {
            "marker": {
             "colorbar": {
              "outlinewidth": 0,
              "ticks": ""
             }
            },
            "type": "scattermapbox"
           }
          ],
          "scatterpolar": [
           {
            "marker": {
             "colorbar": {
              "outlinewidth": 0,
              "ticks": ""
             }
            },
            "type": "scatterpolar"
           }
          ],
          "scatterpolargl": [
           {
            "marker": {
             "colorbar": {
              "outlinewidth": 0,
              "ticks": ""
             }
            },
            "type": "scatterpolargl"
           }
          ],
          "scatterternary": [
           {
            "marker": {
             "colorbar": {
              "outlinewidth": 0,
              "ticks": ""
             }
            },
            "type": "scatterternary"
           }
          ],
          "surface": [
           {
            "colorbar": {
             "outlinewidth": 0,
             "ticks": ""
            },
            "colorscale": [
             [
              0,
              "#0d0887"
             ],
             [
              0.1111111111111111,
              "#46039f"
             ],
             [
              0.2222222222222222,
              "#7201a8"
             ],
             [
              0.3333333333333333,
              "#9c179e"
             ],
             [
              0.4444444444444444,
              "#bd3786"
             ],
             [
              0.5555555555555556,
              "#d8576b"
             ],
             [
              0.6666666666666666,
              "#ed7953"
             ],
             [
              0.7777777777777778,
              "#fb9f3a"
             ],
             [
              0.8888888888888888,
              "#fdca26"
             ],
             [
              1,
              "#f0f921"
             ]
            ],
            "type": "surface"
           }
          ],
          "table": [
           {
            "cells": {
             "fill": {
              "color": "#EBF0F8"
             },
             "line": {
              "color": "white"
             }
            },
            "header": {
             "fill": {
              "color": "#C8D4E3"
             },
             "line": {
              "color": "white"
             }
            },
            "type": "table"
           }
          ]
         },
         "layout": {
          "annotationdefaults": {
           "arrowcolor": "#2a3f5f",
           "arrowhead": 0,
           "arrowwidth": 1
          },
          "autotypenumbers": "strict",
          "coloraxis": {
           "colorbar": {
            "outlinewidth": 0,
            "ticks": ""
           }
          },
          "colorscale": {
           "diverging": [
            [
             0,
             "#8e0152"
            ],
            [
             0.1,
             "#c51b7d"
            ],
            [
             0.2,
             "#de77ae"
            ],
            [
             0.3,
             "#f1b6da"
            ],
            [
             0.4,
             "#fde0ef"
            ],
            [
             0.5,
             "#f7f7f7"
            ],
            [
             0.6,
             "#e6f5d0"
            ],
            [
             0.7,
             "#b8e186"
            ],
            [
             0.8,
             "#7fbc41"
            ],
            [
             0.9,
             "#4d9221"
            ],
            [
             1,
             "#276419"
            ]
           ],
           "sequential": [
            [
             0,
             "#0d0887"
            ],
            [
             0.1111111111111111,
             "#46039f"
            ],
            [
             0.2222222222222222,
             "#7201a8"
            ],
            [
             0.3333333333333333,
             "#9c179e"
            ],
            [
             0.4444444444444444,
             "#bd3786"
            ],
            [
             0.5555555555555556,
             "#d8576b"
            ],
            [
             0.6666666666666666,
             "#ed7953"
            ],
            [
             0.7777777777777778,
             "#fb9f3a"
            ],
            [
             0.8888888888888888,
             "#fdca26"
            ],
            [
             1,
             "#f0f921"
            ]
           ],
           "sequentialminus": [
            [
             0,
             "#0d0887"
            ],
            [
             0.1111111111111111,
             "#46039f"
            ],
            [
             0.2222222222222222,
             "#7201a8"
            ],
            [
             0.3333333333333333,
             "#9c179e"
            ],
            [
             0.4444444444444444,
             "#bd3786"
            ],
            [
             0.5555555555555556,
             "#d8576b"
            ],
            [
             0.6666666666666666,
             "#ed7953"
            ],
            [
             0.7777777777777778,
             "#fb9f3a"
            ],
            [
             0.8888888888888888,
             "#fdca26"
            ],
            [
             1,
             "#f0f921"
            ]
           ]
          },
          "colorway": [
           "#636efa",
           "#EF553B",
           "#00cc96",
           "#ab63fa",
           "#FFA15A",
           "#19d3f3",
           "#FF6692",
           "#B6E880",
           "#FF97FF",
           "#FECB52"
          ],
          "font": {
           "color": "#2a3f5f"
          },
          "geo": {
           "bgcolor": "white",
           "lakecolor": "white",
           "landcolor": "#E5ECF6",
           "showlakes": true,
           "showland": true,
           "subunitcolor": "white"
          },
          "hoverlabel": {
           "align": "left"
          },
          "hovermode": "closest",
          "mapbox": {
           "style": "light"
          },
          "paper_bgcolor": "white",
          "plot_bgcolor": "#E5ECF6",
          "polar": {
           "angularaxis": {
            "gridcolor": "white",
            "linecolor": "white",
            "ticks": ""
           },
           "bgcolor": "#E5ECF6",
           "radialaxis": {
            "gridcolor": "white",
            "linecolor": "white",
            "ticks": ""
           }
          },
          "scene": {
           "xaxis": {
            "backgroundcolor": "#E5ECF6",
            "gridcolor": "white",
            "gridwidth": 2,
            "linecolor": "white",
            "showbackground": true,
            "ticks": "",
            "zerolinecolor": "white"
           },
           "yaxis": {
            "backgroundcolor": "#E5ECF6",
            "gridcolor": "white",
            "gridwidth": 2,
            "linecolor": "white",
            "showbackground": true,
            "ticks": "",
            "zerolinecolor": "white"
           },
           "zaxis": {
            "backgroundcolor": "#E5ECF6",
            "gridcolor": "white",
            "gridwidth": 2,
            "linecolor": "white",
            "showbackground": true,
            "ticks": "",
            "zerolinecolor": "white"
           }
          },
          "shapedefaults": {
           "line": {
            "color": "#2a3f5f"
           }
          },
          "ternary": {
           "aaxis": {
            "gridcolor": "white",
            "linecolor": "white",
            "ticks": ""
           },
           "baxis": {
            "gridcolor": "white",
            "linecolor": "white",
            "ticks": ""
           },
           "bgcolor": "#E5ECF6",
           "caxis": {
            "gridcolor": "white",
            "linecolor": "white",
            "ticks": ""
           }
          },
          "title": {
           "x": 0.05
          },
          "xaxis": {
           "automargin": true,
           "gridcolor": "white",
           "linecolor": "white",
           "ticks": "",
           "title": {
            "standoff": 15
           },
           "zerolinecolor": "white",
           "zerolinewidth": 2
          },
          "yaxis": {
           "automargin": true,
           "gridcolor": "white",
           "linecolor": "white",
           "ticks": "",
           "title": {
            "standoff": 15
           },
           "zerolinecolor": "white",
           "zerolinewidth": 2
          }
         }
        },
        "title": {
         "text": "Top 10 Times que Mais Marcaram Gols (Mandante + Visitante)"
        },
        "xaxis": {
         "anchor": "y",
         "domain": [
          0,
          1
         ],
         "tickangle": -45,
         "title": {
          "text": "Time"
         }
        },
        "yaxis": {
         "anchor": "x",
         "domain": [
          0,
          1
         ],
         "title": {
          "text": "Gols Marcados"
         }
        }
       }
      }
     },
     "metadata": {},
     "output_type": "display_data"
    }
   ],
   "source": [
    "# Criar coluna de gols marcados por time mandante e visitante\n",
    "gols_marcados_mandante = df_modelo[['mandante', 'gols_mandante']].rename(columns={'mandante': 'time', 'gols_mandante': 'gols'})\n",
    "gols_marcados_visitante = df_modelo[['visitante', 'gols_visitante']].rename(columns={'visitante': 'time', 'gols_visitante': 'gols'})\n",
    "\n",
    "# Concatenar e somar\n",
    "gols_totais = pd.concat([gols_marcados_mandante, gols_marcados_visitante])\n",
    "gols_totais = gols_totais.groupby('time')['gols'].sum().reset_index()\n",
    "gols_totais = gols_totais.sort_values(by='gols', ascending=False)\n",
    "\n",
    "# Top 10 times que mais marcaram gols\n",
    "fig_gols_totais = px.bar(\n",
    "    gols_totais.head(10),\n",
    "    x='time',\n",
    "    y='gols',\n",
    "    title=\"Top 10 Times que Mais Marcaram Gols (Mandante + Visitante)\",\n",
    "    text_auto=True,\n",
    "    color_discrete_sequence=[\"orangered\"]\n",
    ")\n",
    "\n",
    "fig_gols_totais.update_layout(\n",
    "    xaxis_title=\"Time\",\n",
    "    yaxis_title=\"Gols Marcados\",\n",
    "    xaxis_tickangle=-45\n",
    ")\n",
    "\n",
    "fig_gols_totais.show()\n"
   ]
  },
  {
   "cell_type": "code",
   "execution_count": 24,
   "id": "99d182d9",
   "metadata": {},
   "outputs": [
    {
     "data": {
      "application/vnd.plotly.v1+json": {
       "config": {
        "plotlyServerURL": "https://plot.ly"
       },
       "data": [
        {
         "hovertemplate": "mandante=%{x}<br>gols_mandante=%{y}<extra></extra>",
         "legendgroup": "",
         "marker": {
          "color": "crimson",
          "pattern": {
           "shape": ""
          }
         },
         "name": "",
         "orientation": "v",
         "showlegend": false,
         "textposition": "auto",
         "texttemplate": "%{y}",
         "type": "bar",
         "x": [
          "Palmeiras",
          "Flamengo",
          "Atlético Mineiro",
          "Corinthians",
          "Santos",
          "São Paulo",
          "Ath Paranaense",
          "Internacional",
          "Grêmio",
          "Fluminense"
         ],
         "xaxis": "x",
         "y": {
          "bdata": "egFtAV4BPgE7ATgBNwE1ATABMAE=",
          "dtype": "i2"
         },
         "yaxis": "y"
        }
       ],
       "layout": {
        "barmode": "relative",
        "legend": {
         "tracegroupgap": 0
        },
        "template": {
         "data": {
          "bar": [
           {
            "error_x": {
             "color": "#2a3f5f"
            },
            "error_y": {
             "color": "#2a3f5f"
            },
            "marker": {
             "line": {
              "color": "#E5ECF6",
              "width": 0.5
             },
             "pattern": {
              "fillmode": "overlay",
              "size": 10,
              "solidity": 0.2
             }
            },
            "type": "bar"
           }
          ],
          "barpolar": [
           {
            "marker": {
             "line": {
              "color": "#E5ECF6",
              "width": 0.5
             },
             "pattern": {
              "fillmode": "overlay",
              "size": 10,
              "solidity": 0.2
             }
            },
            "type": "barpolar"
           }
          ],
          "carpet": [
           {
            "aaxis": {
             "endlinecolor": "#2a3f5f",
             "gridcolor": "white",
             "linecolor": "white",
             "minorgridcolor": "white",
             "startlinecolor": "#2a3f5f"
            },
            "baxis": {
             "endlinecolor": "#2a3f5f",
             "gridcolor": "white",
             "linecolor": "white",
             "minorgridcolor": "white",
             "startlinecolor": "#2a3f5f"
            },
            "type": "carpet"
           }
          ],
          "choropleth": [
           {
            "colorbar": {
             "outlinewidth": 0,
             "ticks": ""
            },
            "type": "choropleth"
           }
          ],
          "contour": [
           {
            "colorbar": {
             "outlinewidth": 0,
             "ticks": ""
            },
            "colorscale": [
             [
              0,
              "#0d0887"
             ],
             [
              0.1111111111111111,
              "#46039f"
             ],
             [
              0.2222222222222222,
              "#7201a8"
             ],
             [
              0.3333333333333333,
              "#9c179e"
             ],
             [
              0.4444444444444444,
              "#bd3786"
             ],
             [
              0.5555555555555556,
              "#d8576b"
             ],
             [
              0.6666666666666666,
              "#ed7953"
             ],
             [
              0.7777777777777778,
              "#fb9f3a"
             ],
             [
              0.8888888888888888,
              "#fdca26"
             ],
             [
              1,
              "#f0f921"
             ]
            ],
            "type": "contour"
           }
          ],
          "contourcarpet": [
           {
            "colorbar": {
             "outlinewidth": 0,
             "ticks": ""
            },
            "type": "contourcarpet"
           }
          ],
          "heatmap": [
           {
            "colorbar": {
             "outlinewidth": 0,
             "ticks": ""
            },
            "colorscale": [
             [
              0,
              "#0d0887"
             ],
             [
              0.1111111111111111,
              "#46039f"
             ],
             [
              0.2222222222222222,
              "#7201a8"
             ],
             [
              0.3333333333333333,
              "#9c179e"
             ],
             [
              0.4444444444444444,
              "#bd3786"
             ],
             [
              0.5555555555555556,
              "#d8576b"
             ],
             [
              0.6666666666666666,
              "#ed7953"
             ],
             [
              0.7777777777777778,
              "#fb9f3a"
             ],
             [
              0.8888888888888888,
              "#fdca26"
             ],
             [
              1,
              "#f0f921"
             ]
            ],
            "type": "heatmap"
           }
          ],
          "histogram": [
           {
            "marker": {
             "pattern": {
              "fillmode": "overlay",
              "size": 10,
              "solidity": 0.2
             }
            },
            "type": "histogram"
           }
          ],
          "histogram2d": [
           {
            "colorbar": {
             "outlinewidth": 0,
             "ticks": ""
            },
            "colorscale": [
             [
              0,
              "#0d0887"
             ],
             [
              0.1111111111111111,
              "#46039f"
             ],
             [
              0.2222222222222222,
              "#7201a8"
             ],
             [
              0.3333333333333333,
              "#9c179e"
             ],
             [
              0.4444444444444444,
              "#bd3786"
             ],
             [
              0.5555555555555556,
              "#d8576b"
             ],
             [
              0.6666666666666666,
              "#ed7953"
             ],
             [
              0.7777777777777778,
              "#fb9f3a"
             ],
             [
              0.8888888888888888,
              "#fdca26"
             ],
             [
              1,
              "#f0f921"
             ]
            ],
            "type": "histogram2d"
           }
          ],
          "histogram2dcontour": [
           {
            "colorbar": {
             "outlinewidth": 0,
             "ticks": ""
            },
            "colorscale": [
             [
              0,
              "#0d0887"
             ],
             [
              0.1111111111111111,
              "#46039f"
             ],
             [
              0.2222222222222222,
              "#7201a8"
             ],
             [
              0.3333333333333333,
              "#9c179e"
             ],
             [
              0.4444444444444444,
              "#bd3786"
             ],
             [
              0.5555555555555556,
              "#d8576b"
             ],
             [
              0.6666666666666666,
              "#ed7953"
             ],
             [
              0.7777777777777778,
              "#fb9f3a"
             ],
             [
              0.8888888888888888,
              "#fdca26"
             ],
             [
              1,
              "#f0f921"
             ]
            ],
            "type": "histogram2dcontour"
           }
          ],
          "mesh3d": [
           {
            "colorbar": {
             "outlinewidth": 0,
             "ticks": ""
            },
            "type": "mesh3d"
           }
          ],
          "parcoords": [
           {
            "line": {
             "colorbar": {
              "outlinewidth": 0,
              "ticks": ""
             }
            },
            "type": "parcoords"
           }
          ],
          "pie": [
           {
            "automargin": true,
            "type": "pie"
           }
          ],
          "scatter": [
           {
            "fillpattern": {
             "fillmode": "overlay",
             "size": 10,
             "solidity": 0.2
            },
            "type": "scatter"
           }
          ],
          "scatter3d": [
           {
            "line": {
             "colorbar": {
              "outlinewidth": 0,
              "ticks": ""
             }
            },
            "marker": {
             "colorbar": {
              "outlinewidth": 0,
              "ticks": ""
             }
            },
            "type": "scatter3d"
           }
          ],
          "scattercarpet": [
           {
            "marker": {
             "colorbar": {
              "outlinewidth": 0,
              "ticks": ""
             }
            },
            "type": "scattercarpet"
           }
          ],
          "scattergeo": [
           {
            "marker": {
             "colorbar": {
              "outlinewidth": 0,
              "ticks": ""
             }
            },
            "type": "scattergeo"
           }
          ],
          "scattergl": [
           {
            "marker": {
             "colorbar": {
              "outlinewidth": 0,
              "ticks": ""
             }
            },
            "type": "scattergl"
           }
          ],
          "scattermap": [
           {
            "marker": {
             "colorbar": {
              "outlinewidth": 0,
              "ticks": ""
             }
            },
            "type": "scattermap"
           }
          ],
          "scattermapbox": [
           {
            "marker": {
             "colorbar": {
              "outlinewidth": 0,
              "ticks": ""
             }
            },
            "type": "scattermapbox"
           }
          ],
          "scatterpolar": [
           {
            "marker": {
             "colorbar": {
              "outlinewidth": 0,
              "ticks": ""
             }
            },
            "type": "scatterpolar"
           }
          ],
          "scatterpolargl": [
           {
            "marker": {
             "colorbar": {
              "outlinewidth": 0,
              "ticks": ""
             }
            },
            "type": "scatterpolargl"
           }
          ],
          "scatterternary": [
           {
            "marker": {
             "colorbar": {
              "outlinewidth": 0,
              "ticks": ""
             }
            },
            "type": "scatterternary"
           }
          ],
          "surface": [
           {
            "colorbar": {
             "outlinewidth": 0,
             "ticks": ""
            },
            "colorscale": [
             [
              0,
              "#0d0887"
             ],
             [
              0.1111111111111111,
              "#46039f"
             ],
             [
              0.2222222222222222,
              "#7201a8"
             ],
             [
              0.3333333333333333,
              "#9c179e"
             ],
             [
              0.4444444444444444,
              "#bd3786"
             ],
             [
              0.5555555555555556,
              "#d8576b"
             ],
             [
              0.6666666666666666,
              "#ed7953"
             ],
             [
              0.7777777777777778,
              "#fb9f3a"
             ],
             [
              0.8888888888888888,
              "#fdca26"
             ],
             [
              1,
              "#f0f921"
             ]
            ],
            "type": "surface"
           }
          ],
          "table": [
           {
            "cells": {
             "fill": {
              "color": "#EBF0F8"
             },
             "line": {
              "color": "white"
             }
            },
            "header": {
             "fill": {
              "color": "#C8D4E3"
             },
             "line": {
              "color": "white"
             }
            },
            "type": "table"
           }
          ]
         },
         "layout": {
          "annotationdefaults": {
           "arrowcolor": "#2a3f5f",
           "arrowhead": 0,
           "arrowwidth": 1
          },
          "autotypenumbers": "strict",
          "coloraxis": {
           "colorbar": {
            "outlinewidth": 0,
            "ticks": ""
           }
          },
          "colorscale": {
           "diverging": [
            [
             0,
             "#8e0152"
            ],
            [
             0.1,
             "#c51b7d"
            ],
            [
             0.2,
             "#de77ae"
            ],
            [
             0.3,
             "#f1b6da"
            ],
            [
             0.4,
             "#fde0ef"
            ],
            [
             0.5,
             "#f7f7f7"
            ],
            [
             0.6,
             "#e6f5d0"
            ],
            [
             0.7,
             "#b8e186"
            ],
            [
             0.8,
             "#7fbc41"
            ],
            [
             0.9,
             "#4d9221"
            ],
            [
             1,
             "#276419"
            ]
           ],
           "sequential": [
            [
             0,
             "#0d0887"
            ],
            [
             0.1111111111111111,
             "#46039f"
            ],
            [
             0.2222222222222222,
             "#7201a8"
            ],
            [
             0.3333333333333333,
             "#9c179e"
            ],
            [
             0.4444444444444444,
             "#bd3786"
            ],
            [
             0.5555555555555556,
             "#d8576b"
            ],
            [
             0.6666666666666666,
             "#ed7953"
            ],
            [
             0.7777777777777778,
             "#fb9f3a"
            ],
            [
             0.8888888888888888,
             "#fdca26"
            ],
            [
             1,
             "#f0f921"
            ]
           ],
           "sequentialminus": [
            [
             0,
             "#0d0887"
            ],
            [
             0.1111111111111111,
             "#46039f"
            ],
            [
             0.2222222222222222,
             "#7201a8"
            ],
            [
             0.3333333333333333,
             "#9c179e"
            ],
            [
             0.4444444444444444,
             "#bd3786"
            ],
            [
             0.5555555555555556,
             "#d8576b"
            ],
            [
             0.6666666666666666,
             "#ed7953"
            ],
            [
             0.7777777777777778,
             "#fb9f3a"
            ],
            [
             0.8888888888888888,
             "#fdca26"
            ],
            [
             1,
             "#f0f921"
            ]
           ]
          },
          "colorway": [
           "#636efa",
           "#EF553B",
           "#00cc96",
           "#ab63fa",
           "#FFA15A",
           "#19d3f3",
           "#FF6692",
           "#B6E880",
           "#FF97FF",
           "#FECB52"
          ],
          "font": {
           "color": "#2a3f5f"
          },
          "geo": {
           "bgcolor": "white",
           "lakecolor": "white",
           "landcolor": "#E5ECF6",
           "showlakes": true,
           "showland": true,
           "subunitcolor": "white"
          },
          "hoverlabel": {
           "align": "left"
          },
          "hovermode": "closest",
          "mapbox": {
           "style": "light"
          },
          "paper_bgcolor": "white",
          "plot_bgcolor": "#E5ECF6",
          "polar": {
           "angularaxis": {
            "gridcolor": "white",
            "linecolor": "white",
            "ticks": ""
           },
           "bgcolor": "#E5ECF6",
           "radialaxis": {
            "gridcolor": "white",
            "linecolor": "white",
            "ticks": ""
           }
          },
          "scene": {
           "xaxis": {
            "backgroundcolor": "#E5ECF6",
            "gridcolor": "white",
            "gridwidth": 2,
            "linecolor": "white",
            "showbackground": true,
            "ticks": "",
            "zerolinecolor": "white"
           },
           "yaxis": {
            "backgroundcolor": "#E5ECF6",
            "gridcolor": "white",
            "gridwidth": 2,
            "linecolor": "white",
            "showbackground": true,
            "ticks": "",
            "zerolinecolor": "white"
           },
           "zaxis": {
            "backgroundcolor": "#E5ECF6",
            "gridcolor": "white",
            "gridwidth": 2,
            "linecolor": "white",
            "showbackground": true,
            "ticks": "",
            "zerolinecolor": "white"
           }
          },
          "shapedefaults": {
           "line": {
            "color": "#2a3f5f"
           }
          },
          "ternary": {
           "aaxis": {
            "gridcolor": "white",
            "linecolor": "white",
            "ticks": ""
           },
           "baxis": {
            "gridcolor": "white",
            "linecolor": "white",
            "ticks": ""
           },
           "bgcolor": "#E5ECF6",
           "caxis": {
            "gridcolor": "white",
            "linecolor": "white",
            "ticks": ""
           }
          },
          "title": {
           "x": 0.05
          },
          "xaxis": {
           "automargin": true,
           "gridcolor": "white",
           "linecolor": "white",
           "ticks": "",
           "title": {
            "standoff": 15
           },
           "zerolinecolor": "white",
           "zerolinewidth": 2
          },
          "yaxis": {
           "automargin": true,
           "gridcolor": "white",
           "linecolor": "white",
           "ticks": "",
           "title": {
            "standoff": 15
           },
           "zerolinecolor": "white",
           "zerolinewidth": 2
          }
         }
        },
        "title": {
         "text": "Top 10 Times que Mais Marcaram Gols em Casa"
        },
        "xaxis": {
         "anchor": "y",
         "domain": [
          0,
          1
         ],
         "tickangle": -45,
         "title": {
          "text": "Time Mandante"
         }
        },
        "yaxis": {
         "anchor": "x",
         "domain": [
          0,
          1
         ],
         "title": {
          "text": "Gols Marcados"
         }
        }
       }
      }
     },
     "metadata": {},
     "output_type": "display_data"
    }
   ],
   "source": [
    "# Somar gols marcados em casa por time\n",
    "gols_mandante_por_time = df_modelo.groupby('mandante')['gols_mandante'].sum().reset_index()\n",
    "gols_mandante_por_time = gols_mandante_por_time.sort_values(by='gols_mandante', ascending=False)\n",
    "\n",
    "# Top 10 times que mais marcaram gols em casa\n",
    "fig_gols_mandante = px.bar(\n",
    "    gols_mandante_por_time.head(10),\n",
    "    x='mandante',\n",
    "    y='gols_mandante',\n",
    "    title=\"Top 10 Times que Mais Marcaram Gols em Casa\",\n",
    "    text_auto=True,\n",
    "    color_discrete_sequence=[\"crimson\"]\n",
    ")\n",
    "\n",
    "fig_gols_mandante.update_layout(\n",
    "    xaxis_title=\"Time Mandante\",\n",
    "    yaxis_title=\"Gols Marcados\",\n",
    "    xaxis_tickangle=-45\n",
    ")\n",
    "\n",
    "fig_gols_mandante.show()\n"
   ]
  },
  {
   "cell_type": "code",
   "execution_count": 25,
   "id": "4d6e29c9",
   "metadata": {},
   "outputs": [
    {
     "data": {
      "application/vnd.plotly.v1+json": {
       "config": {
        "plotlyServerURL": "https://plot.ly"
       },
       "data": [
        {
         "hovertemplate": "visitante=%{x}<br>gols_visitante=%{y}<extra></extra>",
         "legendgroup": "",
         "marker": {
          "color": "deepskyblue",
          "pattern": {
           "shape": ""
          }
         },
         "name": "",
         "orientation": "v",
         "showlegend": false,
         "textposition": "auto",
         "texttemplate": "%{y}",
         "type": "bar",
         "x": [
          "Flamengo",
          "Palmeiras",
          "Atlético Mineiro",
          "São Paulo",
          "Corinthians",
          "Fluminense",
          "Grêmio",
          "Ath Paranaense",
          "Internacional",
          "Santos"
         ],
         "xaxis": "x",
         "y": {
          "bdata": "HgEHAf0A1wDOAMoAxAC1AK8AowA=",
          "dtype": "i2"
         },
         "yaxis": "y"
        }
       ],
       "layout": {
        "barmode": "relative",
        "legend": {
         "tracegroupgap": 0
        },
        "template": {
         "data": {
          "bar": [
           {
            "error_x": {
             "color": "#2a3f5f"
            },
            "error_y": {
             "color": "#2a3f5f"
            },
            "marker": {
             "line": {
              "color": "#E5ECF6",
              "width": 0.5
             },
             "pattern": {
              "fillmode": "overlay",
              "size": 10,
              "solidity": 0.2
             }
            },
            "type": "bar"
           }
          ],
          "barpolar": [
           {
            "marker": {
             "line": {
              "color": "#E5ECF6",
              "width": 0.5
             },
             "pattern": {
              "fillmode": "overlay",
              "size": 10,
              "solidity": 0.2
             }
            },
            "type": "barpolar"
           }
          ],
          "carpet": [
           {
            "aaxis": {
             "endlinecolor": "#2a3f5f",
             "gridcolor": "white",
             "linecolor": "white",
             "minorgridcolor": "white",
             "startlinecolor": "#2a3f5f"
            },
            "baxis": {
             "endlinecolor": "#2a3f5f",
             "gridcolor": "white",
             "linecolor": "white",
             "minorgridcolor": "white",
             "startlinecolor": "#2a3f5f"
            },
            "type": "carpet"
           }
          ],
          "choropleth": [
           {
            "colorbar": {
             "outlinewidth": 0,
             "ticks": ""
            },
            "type": "choropleth"
           }
          ],
          "contour": [
           {
            "colorbar": {
             "outlinewidth": 0,
             "ticks": ""
            },
            "colorscale": [
             [
              0,
              "#0d0887"
             ],
             [
              0.1111111111111111,
              "#46039f"
             ],
             [
              0.2222222222222222,
              "#7201a8"
             ],
             [
              0.3333333333333333,
              "#9c179e"
             ],
             [
              0.4444444444444444,
              "#bd3786"
             ],
             [
              0.5555555555555556,
              "#d8576b"
             ],
             [
              0.6666666666666666,
              "#ed7953"
             ],
             [
              0.7777777777777778,
              "#fb9f3a"
             ],
             [
              0.8888888888888888,
              "#fdca26"
             ],
             [
              1,
              "#f0f921"
             ]
            ],
            "type": "contour"
           }
          ],
          "contourcarpet": [
           {
            "colorbar": {
             "outlinewidth": 0,
             "ticks": ""
            },
            "type": "contourcarpet"
           }
          ],
          "heatmap": [
           {
            "colorbar": {
             "outlinewidth": 0,
             "ticks": ""
            },
            "colorscale": [
             [
              0,
              "#0d0887"
             ],
             [
              0.1111111111111111,
              "#46039f"
             ],
             [
              0.2222222222222222,
              "#7201a8"
             ],
             [
              0.3333333333333333,
              "#9c179e"
             ],
             [
              0.4444444444444444,
              "#bd3786"
             ],
             [
              0.5555555555555556,
              "#d8576b"
             ],
             [
              0.6666666666666666,
              "#ed7953"
             ],
             [
              0.7777777777777778,
              "#fb9f3a"
             ],
             [
              0.8888888888888888,
              "#fdca26"
             ],
             [
              1,
              "#f0f921"
             ]
            ],
            "type": "heatmap"
           }
          ],
          "histogram": [
           {
            "marker": {
             "pattern": {
              "fillmode": "overlay",
              "size": 10,
              "solidity": 0.2
             }
            },
            "type": "histogram"
           }
          ],
          "histogram2d": [
           {
            "colorbar": {
             "outlinewidth": 0,
             "ticks": ""
            },
            "colorscale": [
             [
              0,
              "#0d0887"
             ],
             [
              0.1111111111111111,
              "#46039f"
             ],
             [
              0.2222222222222222,
              "#7201a8"
             ],
             [
              0.3333333333333333,
              "#9c179e"
             ],
             [
              0.4444444444444444,
              "#bd3786"
             ],
             [
              0.5555555555555556,
              "#d8576b"
             ],
             [
              0.6666666666666666,
              "#ed7953"
             ],
             [
              0.7777777777777778,
              "#fb9f3a"
             ],
             [
              0.8888888888888888,
              "#fdca26"
             ],
             [
              1,
              "#f0f921"
             ]
            ],
            "type": "histogram2d"
           }
          ],
          "histogram2dcontour": [
           {
            "colorbar": {
             "outlinewidth": 0,
             "ticks": ""
            },
            "colorscale": [
             [
              0,
              "#0d0887"
             ],
             [
              0.1111111111111111,
              "#46039f"
             ],
             [
              0.2222222222222222,
              "#7201a8"
             ],
             [
              0.3333333333333333,
              "#9c179e"
             ],
             [
              0.4444444444444444,
              "#bd3786"
             ],
             [
              0.5555555555555556,
              "#d8576b"
             ],
             [
              0.6666666666666666,
              "#ed7953"
             ],
             [
              0.7777777777777778,
              "#fb9f3a"
             ],
             [
              0.8888888888888888,
              "#fdca26"
             ],
             [
              1,
              "#f0f921"
             ]
            ],
            "type": "histogram2dcontour"
           }
          ],
          "mesh3d": [
           {
            "colorbar": {
             "outlinewidth": 0,
             "ticks": ""
            },
            "type": "mesh3d"
           }
          ],
          "parcoords": [
           {
            "line": {
             "colorbar": {
              "outlinewidth": 0,
              "ticks": ""
             }
            },
            "type": "parcoords"
           }
          ],
          "pie": [
           {
            "automargin": true,
            "type": "pie"
           }
          ],
          "scatter": [
           {
            "fillpattern": {
             "fillmode": "overlay",
             "size": 10,
             "solidity": 0.2
            },
            "type": "scatter"
           }
          ],
          "scatter3d": [
           {
            "line": {
             "colorbar": {
              "outlinewidth": 0,
              "ticks": ""
             }
            },
            "marker": {
             "colorbar": {
              "outlinewidth": 0,
              "ticks": ""
             }
            },
            "type": "scatter3d"
           }
          ],
          "scattercarpet": [
           {
            "marker": {
             "colorbar": {
              "outlinewidth": 0,
              "ticks": ""
             }
            },
            "type": "scattercarpet"
           }
          ],
          "scattergeo": [
           {
            "marker": {
             "colorbar": {
              "outlinewidth": 0,
              "ticks": ""
             }
            },
            "type": "scattergeo"
           }
          ],
          "scattergl": [
           {
            "marker": {
             "colorbar": {
              "outlinewidth": 0,
              "ticks": ""
             }
            },
            "type": "scattergl"
           }
          ],
          "scattermap": [
           {
            "marker": {
             "colorbar": {
              "outlinewidth": 0,
              "ticks": ""
             }
            },
            "type": "scattermap"
           }
          ],
          "scattermapbox": [
           {
            "marker": {
             "colorbar": {
              "outlinewidth": 0,
              "ticks": ""
             }
            },
            "type": "scattermapbox"
           }
          ],
          "scatterpolar": [
           {
            "marker": {
             "colorbar": {
              "outlinewidth": 0,
              "ticks": ""
             }
            },
            "type": "scatterpolar"
           }
          ],
          "scatterpolargl": [
           {
            "marker": {
             "colorbar": {
              "outlinewidth": 0,
              "ticks": ""
             }
            },
            "type": "scatterpolargl"
           }
          ],
          "scatterternary": [
           {
            "marker": {
             "colorbar": {
              "outlinewidth": 0,
              "ticks": ""
             }
            },
            "type": "scatterternary"
           }
          ],
          "surface": [
           {
            "colorbar": {
             "outlinewidth": 0,
             "ticks": ""
            },
            "colorscale": [
             [
              0,
              "#0d0887"
             ],
             [
              0.1111111111111111,
              "#46039f"
             ],
             [
              0.2222222222222222,
              "#7201a8"
             ],
             [
              0.3333333333333333,
              "#9c179e"
             ],
             [
              0.4444444444444444,
              "#bd3786"
             ],
             [
              0.5555555555555556,
              "#d8576b"
             ],
             [
              0.6666666666666666,
              "#ed7953"
             ],
             [
              0.7777777777777778,
              "#fb9f3a"
             ],
             [
              0.8888888888888888,
              "#fdca26"
             ],
             [
              1,
              "#f0f921"
             ]
            ],
            "type": "surface"
           }
          ],
          "table": [
           {
            "cells": {
             "fill": {
              "color": "#EBF0F8"
             },
             "line": {
              "color": "white"
             }
            },
            "header": {
             "fill": {
              "color": "#C8D4E3"
             },
             "line": {
              "color": "white"
             }
            },
            "type": "table"
           }
          ]
         },
         "layout": {
          "annotationdefaults": {
           "arrowcolor": "#2a3f5f",
           "arrowhead": 0,
           "arrowwidth": 1
          },
          "autotypenumbers": "strict",
          "coloraxis": {
           "colorbar": {
            "outlinewidth": 0,
            "ticks": ""
           }
          },
          "colorscale": {
           "diverging": [
            [
             0,
             "#8e0152"
            ],
            [
             0.1,
             "#c51b7d"
            ],
            [
             0.2,
             "#de77ae"
            ],
            [
             0.3,
             "#f1b6da"
            ],
            [
             0.4,
             "#fde0ef"
            ],
            [
             0.5,
             "#f7f7f7"
            ],
            [
             0.6,
             "#e6f5d0"
            ],
            [
             0.7,
             "#b8e186"
            ],
            [
             0.8,
             "#7fbc41"
            ],
            [
             0.9,
             "#4d9221"
            ],
            [
             1,
             "#276419"
            ]
           ],
           "sequential": [
            [
             0,
             "#0d0887"
            ],
            [
             0.1111111111111111,
             "#46039f"
            ],
            [
             0.2222222222222222,
             "#7201a8"
            ],
            [
             0.3333333333333333,
             "#9c179e"
            ],
            [
             0.4444444444444444,
             "#bd3786"
            ],
            [
             0.5555555555555556,
             "#d8576b"
            ],
            [
             0.6666666666666666,
             "#ed7953"
            ],
            [
             0.7777777777777778,
             "#fb9f3a"
            ],
            [
             0.8888888888888888,
             "#fdca26"
            ],
            [
             1,
             "#f0f921"
            ]
           ],
           "sequentialminus": [
            [
             0,
             "#0d0887"
            ],
            [
             0.1111111111111111,
             "#46039f"
            ],
            [
             0.2222222222222222,
             "#7201a8"
            ],
            [
             0.3333333333333333,
             "#9c179e"
            ],
            [
             0.4444444444444444,
             "#bd3786"
            ],
            [
             0.5555555555555556,
             "#d8576b"
            ],
            [
             0.6666666666666666,
             "#ed7953"
            ],
            [
             0.7777777777777778,
             "#fb9f3a"
            ],
            [
             0.8888888888888888,
             "#fdca26"
            ],
            [
             1,
             "#f0f921"
            ]
           ]
          },
          "colorway": [
           "#636efa",
           "#EF553B",
           "#00cc96",
           "#ab63fa",
           "#FFA15A",
           "#19d3f3",
           "#FF6692",
           "#B6E880",
           "#FF97FF",
           "#FECB52"
          ],
          "font": {
           "color": "#2a3f5f"
          },
          "geo": {
           "bgcolor": "white",
           "lakecolor": "white",
           "landcolor": "#E5ECF6",
           "showlakes": true,
           "showland": true,
           "subunitcolor": "white"
          },
          "hoverlabel": {
           "align": "left"
          },
          "hovermode": "closest",
          "mapbox": {
           "style": "light"
          },
          "paper_bgcolor": "white",
          "plot_bgcolor": "#E5ECF6",
          "polar": {
           "angularaxis": {
            "gridcolor": "white",
            "linecolor": "white",
            "ticks": ""
           },
           "bgcolor": "#E5ECF6",
           "radialaxis": {
            "gridcolor": "white",
            "linecolor": "white",
            "ticks": ""
           }
          },
          "scene": {
           "xaxis": {
            "backgroundcolor": "#E5ECF6",
            "gridcolor": "white",
            "gridwidth": 2,
            "linecolor": "white",
            "showbackground": true,
            "ticks": "",
            "zerolinecolor": "white"
           },
           "yaxis": {
            "backgroundcolor": "#E5ECF6",
            "gridcolor": "white",
            "gridwidth": 2,
            "linecolor": "white",
            "showbackground": true,
            "ticks": "",
            "zerolinecolor": "white"
           },
           "zaxis": {
            "backgroundcolor": "#E5ECF6",
            "gridcolor": "white",
            "gridwidth": 2,
            "linecolor": "white",
            "showbackground": true,
            "ticks": "",
            "zerolinecolor": "white"
           }
          },
          "shapedefaults": {
           "line": {
            "color": "#2a3f5f"
           }
          },
          "ternary": {
           "aaxis": {
            "gridcolor": "white",
            "linecolor": "white",
            "ticks": ""
           },
           "baxis": {
            "gridcolor": "white",
            "linecolor": "white",
            "ticks": ""
           },
           "bgcolor": "#E5ECF6",
           "caxis": {
            "gridcolor": "white",
            "linecolor": "white",
            "ticks": ""
           }
          },
          "title": {
           "x": 0.05
          },
          "xaxis": {
           "automargin": true,
           "gridcolor": "white",
           "linecolor": "white",
           "ticks": "",
           "title": {
            "standoff": 15
           },
           "zerolinecolor": "white",
           "zerolinewidth": 2
          },
          "yaxis": {
           "automargin": true,
           "gridcolor": "white",
           "linecolor": "white",
           "ticks": "",
           "title": {
            "standoff": 15
           },
           "zerolinecolor": "white",
           "zerolinewidth": 2
          }
         }
        },
        "title": {
         "text": "Top 10 Times que Mais Marcaram Gols como Visitante"
        },
        "xaxis": {
         "anchor": "y",
         "domain": [
          0,
          1
         ],
         "tickangle": -45,
         "title": {
          "text": "Time Visitante"
         }
        },
        "yaxis": {
         "anchor": "x",
         "domain": [
          0,
          1
         ],
         "title": {
          "text": "Gols Marcados como Visitante"
         }
        }
       }
      }
     },
     "metadata": {},
     "output_type": "display_data"
    }
   ],
   "source": [
    "# Somar gols marcados como visitante\n",
    "gols_visitante_por_time = df_modelo.groupby('visitante')['gols_visitante'].sum().reset_index()\n",
    "gols_visitante_por_time = gols_visitante_por_time.sort_values(by='gols_visitante', ascending=False)\n",
    "\n",
    "# Top 10 times que mais marcaram gols fora de casa\n",
    "fig_gols_visitante = px.bar(\n",
    "    gols_visitante_por_time.head(10),\n",
    "    x='visitante',\n",
    "    y='gols_visitante',\n",
    "    title=\"Top 10 Times que Mais Marcaram Gols como Visitante\",\n",
    "    text_auto=True,\n",
    "    color_discrete_sequence=[\"deepskyblue\"]\n",
    ")\n",
    "\n",
    "fig_gols_visitante.update_layout(\n",
    "    xaxis_title=\"Time Visitante\",\n",
    "    yaxis_title=\"Gols Marcados como Visitante\",\n",
    "    xaxis_tickangle=-45\n",
    ")\n",
    "\n",
    "fig_gols_visitante.show()\n"
   ]
  }
 ],
 "metadata": {
  "kernelspec": {
   "display_name": "venv",
   "language": "python",
   "name": "python3"
  },
  "language_info": {
   "codemirror_mode": {
    "name": "ipython",
    "version": 3
   },
   "file_extension": ".py",
   "mimetype": "text/x-python",
   "name": "python",
   "nbconvert_exporter": "python",
   "pygments_lexer": "ipython3",
   "version": "3.11.12"
  }
 },
 "nbformat": 4,
 "nbformat_minor": 5
}
